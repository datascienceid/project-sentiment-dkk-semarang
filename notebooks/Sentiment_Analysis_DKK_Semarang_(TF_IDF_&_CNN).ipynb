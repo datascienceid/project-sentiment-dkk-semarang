{
  "nbformat": 4,
  "nbformat_minor": 0,
  "metadata": {
    "colab": {
      "name": "Copy_of_Sentiment_Analysis_DKK_Semarang_(TF_IDF_&_CNN).ipynb",
      "provenance": [],
      "collapsed_sections": []
    },
    "kernelspec": {
      "display_name": "Python 3",
      "name": "python3"
    },
    "language_info": {
      "name": "python"
    },
    "accelerator": "GPU"
  },
  "cells": [
    {
      "cell_type": "code",
      "metadata": {
        "colab": {
          "base_uri": "https://localhost:8080/"
        },
        "id": "nSGngT4Uv8wR",
        "outputId": "cbe50cac-3e69-45dc-9faf-3a45fdee2a33"
      },
      "source": [
        "!pip install emoji"
      ],
      "execution_count": null,
      "outputs": [
        {
          "output_type": "stream",
          "name": "stdout",
          "text": [
            "Collecting emoji\n",
            "  Downloading emoji-1.6.1.tar.gz (170 kB)\n",
            "\u001b[?25l\r\u001b[K     |██                              | 10 kB 8.1 MB/s eta 0:00:01\r\u001b[K     |███▉                            | 20 kB 7.0 MB/s eta 0:00:01\r\u001b[K     |█████▉                          | 30 kB 5.9 MB/s eta 0:00:01\r\u001b[K     |███████▊                        | 40 kB 3.5 MB/s eta 0:00:01\r\u001b[K     |█████████▋                      | 51 kB 3.9 MB/s eta 0:00:01\r\u001b[K     |███████████▋                    | 61 kB 4.4 MB/s eta 0:00:01\r\u001b[K     |█████████████▌                  | 71 kB 4.4 MB/s eta 0:00:01\r\u001b[K     |███████████████▍                | 81 kB 4.9 MB/s eta 0:00:01\r\u001b[K     |█████████████████▍              | 92 kB 3.8 MB/s eta 0:00:01\r\u001b[K     |███████████████████▎            | 102 kB 4.1 MB/s eta 0:00:01\r\u001b[K     |█████████████████████▏          | 112 kB 4.1 MB/s eta 0:00:01\r\u001b[K     |███████████████████████▏        | 122 kB 4.1 MB/s eta 0:00:01\r\u001b[K     |█████████████████████████       | 133 kB 4.1 MB/s eta 0:00:01\r\u001b[K     |███████████████████████████     | 143 kB 4.1 MB/s eta 0:00:01\r\u001b[K     |█████████████████████████████   | 153 kB 4.1 MB/s eta 0:00:01\r\u001b[K     |██████████████████████████████▉ | 163 kB 4.1 MB/s eta 0:00:01\r\u001b[K     |████████████████████████████████| 170 kB 4.1 MB/s \n",
            "\u001b[?25hBuilding wheels for collected packages: emoji\n",
            "  Building wheel for emoji (setup.py) ... \u001b[?25l\u001b[?25hdone\n",
            "  Created wheel for emoji: filename=emoji-1.6.1-py3-none-any.whl size=169314 sha256=d0d97f95b7848c9aae01ea90af36b7922762cf95b680c17cf7876287e0ac7b5a\n",
            "  Stored in directory: /root/.cache/pip/wheels/ea/5f/d3/03d313ddb3c2a1a427bb4690f1621eea60fe6f2a30cc95940f\n",
            "Successfully built emoji\n",
            "Installing collected packages: emoji\n",
            "Successfully installed emoji-1.6.1\n"
          ]
        }
      ]
    },
    {
      "cell_type": "markdown",
      "metadata": {
        "id": "O73_3IGSiStg"
      },
      "source": [
        "# Import libraries"
      ]
    },
    {
      "cell_type": "code",
      "metadata": {
        "id": "XM2i-RdoiTy7"
      },
      "source": [
        "import pandas as pd\n",
        "import matplotlib.pyplot as plt\n",
        "import string, re, requests, csv\n",
        "from google.colab import drive\n",
        "from wordcloud import WordCloud\n",
        "from gensim.corpora import WikiCorpus"
      ],
      "execution_count": null,
      "outputs": []
    },
    {
      "cell_type": "code",
      "metadata": {
        "colab": {
          "base_uri": "https://localhost:8080/"
        },
        "id": "_TUbZKrJiVOU",
        "outputId": "84d98f66-4a72-486d-8dc6-b08ec341f9bb"
      },
      "source": [
        "from nltk import word_tokenize, sent_tokenize\n",
        "import nltk\n",
        "from nltk.corpus import stopwords\n",
        "nltk.download('stopwords')\n",
        "nltk.download('punkt')"
      ],
      "execution_count": null,
      "outputs": [
        {
          "output_type": "stream",
          "name": "stdout",
          "text": [
            "[nltk_data] Downloading package stopwords to /root/nltk_data...\n",
            "[nltk_data]   Unzipping corpora/stopwords.zip.\n",
            "[nltk_data] Downloading package punkt to /root/nltk_data...\n",
            "[nltk_data]   Unzipping tokenizers/punkt.zip.\n"
          ]
        },
        {
          "output_type": "execute_result",
          "data": {
            "text/plain": [
              "True"
            ]
          },
          "metadata": {},
          "execution_count": 3
        }
      ]
    },
    {
      "cell_type": "markdown",
      "metadata": {
        "id": "B_ovLo6EiX2_"
      },
      "source": [
        "# Load dataset"
      ]
    },
    {
      "cell_type": "code",
      "metadata": {
        "colab": {
          "base_uri": "https://localhost:8080/"
        },
        "id": "8qMho9XsiWdX",
        "outputId": "1315d1e2-c222-49be-bdcf-c623129d7969"
      },
      "source": [
        "train_data = pd.read_csv('/content/train.csv')\n",
        "train_data = train_data[['text', 'label']]\n",
        "train_data.shape"
      ],
      "execution_count": null,
      "outputs": [
        {
          "output_type": "execute_result",
          "data": {
            "text/plain": [
              "(7967, 2)"
            ]
          },
          "metadata": {},
          "execution_count": 4
        }
      ]
    },
    {
      "cell_type": "code",
      "metadata": {
        "colab": {
          "base_uri": "https://localhost:8080/"
        },
        "id": "KVCvW2WcFZnY",
        "outputId": "2ce4dc11-9286-4036-d5e4-5da3ef373bd3"
      },
      "source": [
        "train_data['label'].value_counts()"
      ],
      "execution_count": null,
      "outputs": [
        {
          "output_type": "execute_result",
          "data": {
            "text/plain": [
              "neutral     2926\n",
              "negative    2775\n",
              "positive    2266\n",
              "Name: label, dtype: int64"
            ]
          },
          "metadata": {},
          "execution_count": 5
        }
      ]
    },
    {
      "cell_type": "code",
      "metadata": {
        "colab": {
          "base_uri": "https://localhost:8080/"
        },
        "id": "VaclIGW8FbQn",
        "outputId": "ae342a0d-8901-4cb9-c53d-a00c2e43d0c9"
      },
      "source": [
        "test_data = pd.read_csv('/content/test.csv')\n",
        "test_data = test_data[['text', 'label']]\n",
        "test_data.shape"
      ],
      "execution_count": null,
      "outputs": [
        {
          "output_type": "execute_result",
          "data": {
            "text/plain": [
              "(1992, 2)"
            ]
          },
          "metadata": {},
          "execution_count": 6
        }
      ]
    },
    {
      "cell_type": "code",
      "metadata": {
        "colab": {
          "base_uri": "https://localhost:8080/"
        },
        "id": "NtRV2D7RFc-P",
        "outputId": "2f44d549-8058-47fc-ffc1-88175f2245a2"
      },
      "source": [
        "test_data['label'].value_counts()"
      ],
      "execution_count": null,
      "outputs": [
        {
          "output_type": "execute_result",
          "data": {
            "text/plain": [
              "neutral     732\n",
              "negative    694\n",
              "positive    566\n",
              "Name: label, dtype: int64"
            ]
          },
          "metadata": {},
          "execution_count": 7
        }
      ]
    },
    {
      "cell_type": "markdown",
      "metadata": {
        "id": "CSpz3SrTigew"
      },
      "source": [
        "# EDA"
      ]
    },
    {
      "cell_type": "markdown",
      "metadata": {
        "id": "RrLHGvjxjNP_"
      },
      "source": [
        "## Wordcloud"
      ]
    },
    {
      "cell_type": "code",
      "metadata": {
        "id": "HbVXS7syidAd"
      },
      "source": [
        "# positive comments before preprocessing\n",
        "# data_pos = train_data[train_data['label'] == 'positive']\n",
        "\n",
        "# all_text = ' '.join(word for word in data_pos['text'])\n",
        "# wordcloud = WordCloud(colormap='Greens', width=1000, height=1000, mode='RGBA', background_color='white').generate(all_text)\n",
        "# plt.figure(figsize=(20,10))\n",
        "# plt.imshow(wordcloud, interpolation='bilinear')\n",
        "# plt.axis(\"off\")\n",
        "# plt.margins(x=0, y=0)\n",
        "# plt.show()"
      ],
      "execution_count": null,
      "outputs": []
    },
    {
      "cell_type": "code",
      "metadata": {
        "id": "z9yRzPoYimIE"
      },
      "source": [
        "# negative comments before preprocessing\n",
        "# data_neg = train_data[train_data['label'] == 'negative']\n",
        "\n",
        "# all_text = ' '.join(word for word in data_neg['text'])\n",
        "# wordcloud = WordCloud(colormap='Reds', width=1000, height=1000, mode='RGBA', background_color='white').generate(all_text)\n",
        "# plt.figure(figsize=(20,10))\n",
        "# plt.imshow(wordcloud, interpolation='bilinear')\n",
        "# plt.axis(\"off\")\n",
        "# plt.margins(x=0, y=0)\n",
        "# plt.show()"
      ],
      "execution_count": null,
      "outputs": []
    },
    {
      "cell_type": "code",
      "metadata": {
        "id": "Olxg2IjAjByz"
      },
      "source": [
        "# neutral comments before preprocessing\n",
        "# data_neut = train_data[train_data['label'] == 'neutral']\n",
        "\n",
        "# all_text = ' '.join(word for word in data_neut['text'])\n",
        "# wordcloud = WordCloud(colormap='Blues', width=1000, height=1000, mode='RGBA', background_color='white').generate(all_text)\n",
        "# plt.figure(figsize=(20,10))\n",
        "# plt.imshow(wordcloud, interpolation='bilinear')\n",
        "# plt.axis(\"off\")\n",
        "# plt.margins(x=0, y=0)\n",
        "# plt.show()"
      ],
      "execution_count": null,
      "outputs": []
    },
    {
      "cell_type": "code",
      "metadata": {
        "colab": {
          "base_uri": "https://localhost:8080/"
        },
        "id": "WBmjPgdt_Obw",
        "outputId": "191a309a-f723-4ba5-ad82-7927b7fee600"
      },
      "source": [
        "# value counts\n",
        "train_data['label'].value_counts()"
      ],
      "execution_count": null,
      "outputs": [
        {
          "output_type": "execute_result",
          "data": {
            "text/plain": [
              "neutral     2926\n",
              "negative    2775\n",
              "positive    2266\n",
              "Name: label, dtype: int64"
            ]
          },
          "metadata": {},
          "execution_count": 11
        }
      ]
    },
    {
      "cell_type": "markdown",
      "metadata": {
        "id": "vygorxeojRKo"
      },
      "source": [
        "# Preprocess"
      ]
    },
    {
      "cell_type": "code",
      "metadata": {
        "id": "OGrJgqJ3Fn6Z"
      },
      "source": [
        "# comments = data['text']\n",
        "comments_train = train_data['text']\n",
        "comments_test = test_data['text']"
      ],
      "execution_count": null,
      "outputs": []
    },
    {
      "cell_type": "code",
      "metadata": {
        "id": "JtegplrV0R5j"
      },
      "source": [
        "# CLEANSING\n",
        "def cleansing(data):\n",
        "\n",
        "    # lowercasing\n",
        "    data = data.lower()\n",
        "\n",
        "    # remove punctuation\n",
        "    punct = string.punctuation\n",
        "    translator = str.maketrans(punct, ' '*len(punct))\n",
        "    data = data.translate(translator)\n",
        "\n",
        "    # remove ASCII dan unicode\n",
        "    # data = data.encode('ascii', 'ignore').decode('utf-8')\n",
        "    # data = re.sub(r'[^\\x00-\\x7f]',r'', data)\n",
        "    \n",
        "    # remove newline\n",
        "    data = data.replace('\\n', ' ')\n",
        "\n",
        "    # remove digit\n",
        "    pattern = r'[0-9]'\n",
        "    data = re.sub(pattern, '', data)\n",
        "\n",
        "    # remove extra space\n",
        "    data = ' '.join(data.split())\n",
        "    \n",
        "    return data\n",
        "\n",
        "import sys\n",
        "# REMOVE EMOJI\n",
        "# def remove_emoji(data):\n",
        "#     emoji_pattern = re.compile(\"[\"\n",
        "#                            u\"\\U0001F600-\\U0001F64F\"  # emoticons\n",
        "#                            u\"\\U0001F300-\\U0001F5FF\"  # symbols & pictographs\n",
        "#                            u\"\\U0001F680-\\U0001F6FF\"  # transport & map symbols\n",
        "#                            u\"\\U0001F1E0-\\U0001F1FF\"  # flags (iOS)\n",
        "#                            u\"\\U00002702-\\U000027B0\"\n",
        "#                            u\"\\U000024C2-\\U0001F251\"\n",
        "#                            \"]+\", flags=re.UNICODE)\n",
        "#     return emoji_pattern.sub(r' ', data)\n",
        "\n",
        "# CONVERT EMOJIS\n",
        "import emoji\n",
        "import functools\n",
        "import operator\n",
        "import re\n",
        "\n",
        "df_emoji = pd.read_csv('emoji_to_text.csv')\n",
        "UNICODE_EMO = {row['emoji']:row['makna'] for idx,row in df_emoji.iterrows()}\n",
        "def convert_emojis(text):\n",
        "    # split emojis\n",
        "    em_split_emoji = emoji.get_emoji_regexp().split(text)\n",
        "    em_split_whitespace = [substr.split() for substr in em_split_emoji]\n",
        "    em_split = functools.reduce(operator.concat, em_split_whitespace)\n",
        "    text = ' '.join(em_split)\n",
        "\n",
        "    # convert emojis\n",
        "    for emot in UNICODE_EMO:\n",
        "        text = re.sub(r'('+emot+')', \"_\".join(UNICODE_EMO[emot].replace(\",\",\"\").replace(\":\",\"\").split()), text)\n",
        "    return text.lower()\n",
        "\n",
        "# CONSTRUCT KAMUS ALAY\n",
        "text_path1 = 'https://raw.githubusercontent.com/ramaprakoso/analisis-sentimen/master/kamus/kbba.txt'\n",
        "text_path2 = 'https://raw.githubusercontent.com/nasalsabila/kamus-alay/master/colloquial-indonesian-lexicon.csv'\n",
        "kamus_alay1 = pd.read_csv(text_path1, delimiter=\"\\t\", header=None, names=['slang', 'formal'])\n",
        "kamus_alay2 = pd.read_csv(text_path2)\n",
        "kamus_alay = pd.concat([kamus_alay1, kamus_alay2[['slang', 'formal']]]).reset_index(drop=True)\n",
        "\n",
        "dict_alay = dict()\n",
        "for index, row in kamus_alay.iterrows():\n",
        "    dict_alay[row['slang']] = row['formal']\n",
        "\n",
        "# NORMALIZE COLLOQUIAL/ALAY\n",
        "def normalize_text(data):\n",
        "  word_tokens = word_tokenize(data)\n",
        "  result = [dict_alay.get(w,w) for w in word_tokens]\n",
        "  return ' '.join(result)\n",
        "\n",
        "\n",
        "# CONSTRUCT STOPWORDS\n",
        "rama_stopword = \"https://raw.githubusercontent.com/ramaprakoso/analisis-sentimen/master/kamus/stopword.txt\"\n",
        "yutomo_stopword = \"https://raw.githubusercontent.com/yasirutomo/python-sentianalysis-id/master/data/feature_list/stopwordsID.txt\"\n",
        "fpmipa_stopword = \"https://raw.githubusercontent.com/onlyphantom/elangdev/master/elang/word2vec/utils/stopwords-list/fpmipa-stopwords.txt\"\n",
        "sastrawi_stopword = \"https://raw.githubusercontent.com/onlyphantom/elangdev/master/elang/word2vec/utils/stopwords-list/sastrawi-stopwords.txt\"\n",
        "aliakbar_stopword = \"https://raw.githubusercontent.com/onlyphantom/elangdev/master/elang/word2vec/utils/stopwords-list/aliakbars-bilp.txt\"\n",
        "pebahasa_stopword = \"https://raw.githubusercontent.com/onlyphantom/elangdev/master/elang/word2vec/utils/stopwords-list/pebbie-pebahasa.txt\"\n",
        "elang_stopword = \"https://raw.githubusercontent.com/onlyphantom/elangdev/master/elang/word2vec/utils/stopwords-id.txt\"\n",
        "nltk_stopword = stopwords.words('indonesian')\n",
        "\n",
        "path_stopwords = [rama_stopword, yutomo_stopword, fpmipa_stopword, sastrawi_stopword, \n",
        "                  aliakbar_stopword, pebahasa_stopword, elang_stopword]\n",
        "\n",
        "# CUSTOM STOPWORDS\n",
        "other = '''\n",
        "admin mimin min minkes kalo nya username\n",
        "'''\n",
        "\n",
        "# gabungkan stopwords\n",
        "stopwords_l = nltk_stopword\n",
        "for path in path_stopwords:\n",
        "    response = requests.get(path)\n",
        "    stopwords_l += response.text.split('\\n')\n",
        "\n",
        "st_words = set(stopwords_l)\n",
        "other_stopword = set(other.split())\n",
        "\n",
        "stop_words = st_words | other_stopword\n",
        "\n",
        "# REMOVE STOPWORDS\n",
        "def remove_stopword(text, stop_words=stop_words):\n",
        "    word_tokens = word_tokenize(text)\n",
        "    filtered_sentence = [w for w in word_tokens if not w in stop_words]\n",
        "    return ' '.join(filtered_sentence)"
      ],
      "execution_count": null,
      "outputs": []
    },
    {
      "cell_type": "code",
      "metadata": {
        "id": "NfOlxdn00ajB"
      },
      "source": [
        "# full pipeline preprocess\n",
        "def preprocess(data):\n",
        "    data = cleansing(data)\n",
        "    # data = remove_emoji(data)\n",
        "    data = convert_emojis(data)\n",
        "    data = normalize_text(data)\n",
        "    data = remove_stopword(data)\n",
        "    return data"
      ],
      "execution_count": null,
      "outputs": []
    },
    {
      "cell_type": "markdown",
      "metadata": {
        "id": "NrdujBtLkUoW"
      },
      "source": [
        "## Rename username"
      ]
    },
    {
      "cell_type": "code",
      "metadata": {
        "id": "3hWqZikX0n-E"
      },
      "source": [
        "# rename username to @username\n",
        "pattern = \"(?:@)([A-Za-z0-9_](?:(?:[A-Za-z0-9_]|(?:\\.(?!\\.))){0,28}(?:[A-Za-z0-9_]))?)\"\n",
        "comments_train = comments_train.apply(lambda x: re.sub(pattern, \"@username\", x))\n",
        "comments_test = comments_test.apply(lambda x: re.sub(pattern, \"@username\", x))\n",
        "\n",
        "# preprocess\n",
        "comments_train = comments_train.apply(lambda x: preprocess(x))\n",
        "comments_test = comments_test.apply(lambda x: preprocess(x))"
      ],
      "execution_count": null,
      "outputs": []
    },
    {
      "cell_type": "code",
      "metadata": {
        "id": "ZT0xjKaOk3jr"
      },
      "source": [
        "# comments_train = comments_train.apply(lambda x: preprocess(x))\n",
        "# comments_test = comments_test.apply(lambda x: preprocess(x))"
      ],
      "execution_count": null,
      "outputs": []
    },
    {
      "cell_type": "code",
      "metadata": {
        "colab": {
          "base_uri": "https://localhost:8080/"
        },
        "id": "ovtkXuMrk8qt",
        "outputId": "570e38ac-c3c5-4ee4-b34f-69f3d96cdd48"
      },
      "source": [
        "comments_train.head()"
      ],
      "execution_count": null,
      "outputs": [
        {
          "output_type": "execute_result",
          "data": {
            "text/plain": [
              "0                                                  api\n",
              "1    turun maju canik wajah_tertawa_sampai_menangis...\n",
              "2        prosentase kematian covid warga kota semarang\n",
              "3    rapid test test swab pcr kawan-kawan dinkes se...\n",
              "4                                      area pedurungan\n",
              "Name: text, dtype: object"
            ]
          },
          "metadata": {},
          "execution_count": 19
        }
      ]
    },
    {
      "cell_type": "code",
      "metadata": {
        "colab": {
          "base_uri": "https://localhost:8080/"
        },
        "id": "iU6Hq4tfFGdP",
        "outputId": "38fdccf8-c515-432a-dc05-4ea073037949"
      },
      "source": [
        "comments_test.head()"
      ],
      "execution_count": null,
      "outputs": [
        {
          "output_type": "execute_result",
          "data": {
            "text/plain": [
              "0                             vaksin massal cek vaksin\n",
              "1             kak coba coba ulang terima kasih infonya\n",
              "2                           tugu graha padma isoman cc\n",
              "3    terimakasih infonya berharap update informasi ...\n",
              "4                                            ayo turun\n",
              "Name: text, dtype: object"
            ]
          },
          "metadata": {},
          "execution_count": 20
        }
      ]
    },
    {
      "cell_type": "markdown",
      "metadata": {
        "id": "mxpRrMG7lBWN"
      },
      "source": [
        "# Feature extraction (TF-IDF)"
      ]
    },
    {
      "cell_type": "code",
      "metadata": {
        "colab": {
          "base_uri": "https://localhost:8080/"
        },
        "id": "bQ91H5kAGGAH",
        "outputId": "8c3d0141-e22f-4004-c799-3156503643fc"
      },
      "source": [
        "y_train =  pd.get_dummies(train_data['label']).values\n",
        "y_test =  pd.get_dummies(test_data['label']).values\n",
        "\n",
        "y_train.shape, y_test.shape"
      ],
      "execution_count": null,
      "outputs": [
        {
          "output_type": "execute_result",
          "data": {
            "text/plain": [
              "((7967, 3), (1992, 3))"
            ]
          },
          "metadata": {},
          "execution_count": 21
        }
      ]
    },
    {
      "cell_type": "code",
      "metadata": {
        "colab": {
          "base_uri": "https://localhost:8080/"
        },
        "id": "p7XoaVNAGHdu",
        "outputId": "b4d250d4-b9a3-41e3-e114-22707b81ab5a"
      },
      "source": [
        "y_train[1], y_train[0], y_train[5]"
      ],
      "execution_count": null,
      "outputs": [
        {
          "output_type": "execute_result",
          "data": {
            "text/plain": [
              "(array([0, 1, 0], dtype=uint8),\n",
              " array([1, 0, 0], dtype=uint8),\n",
              " array([0, 0, 1], dtype=uint8))"
            ]
          },
          "metadata": {},
          "execution_count": 22
        }
      ]
    },
    {
      "cell_type": "code",
      "metadata": {
        "id": "imyHnMmdk9zJ",
        "colab": {
          "base_uri": "https://localhost:8080/"
        },
        "outputId": "8cc47b1e-8ae7-4bb3-ccb8-5176576ea431"
      },
      "source": [
        "from sklearn.feature_extraction.text import TfidfVectorizer\n",
        "\n",
        "vectorizer = TfidfVectorizer( min_df=2, max_df=0.95, max_features = 5000, ngram_range = (1, 3),\n",
        "                              sublinear_tf = True )\n",
        "\n",
        "comments_train_tfidf = vectorizer.fit_transform(comments_train).toarray()\n",
        "comments_test_tfidf = vectorizer.transform(comments_test).toarray()\n",
        "\n",
        "comments_train_tfidf.shape, comments_test_tfidf.shape"
      ],
      "execution_count": null,
      "outputs": [
        {
          "output_type": "execute_result",
          "data": {
            "text/plain": [
              "((7967, 5000), (1992, 5000))"
            ]
          },
          "metadata": {},
          "execution_count": 23
        }
      ]
    },
    {
      "cell_type": "code",
      "metadata": {
        "colab": {
          "base_uri": "https://localhost:8080/"
        },
        "id": "3VNZWddslhUC",
        "outputId": "cafab646-696f-4048-ab03-dd14ca9d6a39"
      },
      "source": [
        "comments_train_tfidf = comments_train_tfidf.reshape(comments_train_tfidf.shape[0], comments_train_tfidf.shape[-1], 1)\n",
        "comments_test_tfidf = comments_test_tfidf.reshape(comments_test_tfidf.shape[0], comments_test_tfidf.shape[-1], 1)\n",
        "\n",
        "comments_train_tfidf.shape, comments_test_tfidf.shape"
      ],
      "execution_count": null,
      "outputs": [
        {
          "output_type": "execute_result",
          "data": {
            "text/plain": [
              "((7967, 5000, 1), (1992, 5000, 1))"
            ]
          },
          "metadata": {},
          "execution_count": 24
        }
      ]
    },
    {
      "cell_type": "code",
      "metadata": {
        "id": "AUGkrpSpGSbt"
      },
      "source": [
        "from tensorflow.keras.models import Sequential\n",
        "from tensorflow.keras.layers import Dense, Embedding, Dropout\n",
        "from tensorflow.keras.optimizers import Adam\n",
        "from tensorflow.keras.callbacks import ModelCheckpoint, EarlyStopping\n",
        "from tensorflow.keras.layers import Conv1D, MaxPooling1D, GlobalMaxPooling1D  \n",
        "\n",
        "model = Sequential()\n",
        "model.add(Conv1D(64,8, activation='relu'))\n",
        "model.add(MaxPooling1D(2))\n",
        "model.add(Dropout(0.5))\n",
        "model.add(Dense(32, activation='relu'))\n",
        "model.add(Dropout(0.5))\n",
        "model.add(Dense(16, activation='relu'))\n",
        "model.add(GlobalMaxPooling1D())\n",
        "model.add(Dense(3, activation='softmax'))\n",
        "model.compile(optimizer='adam', loss='categorical_crossentropy', metrics=['accuracy'])"
      ],
      "execution_count": null,
      "outputs": []
    },
    {
      "cell_type": "code",
      "metadata": {
        "colab": {
          "base_uri": "https://localhost:8080/"
        },
        "id": "oDxUI8wA0-CB",
        "outputId": "3ea56b18-9ef3-4487-f0ff-55466f37ba50"
      },
      "source": [
        "model.fit(\n",
        "      x=comments_train_tfidf,\n",
        "      y=y_train,\n",
        "      epochs=30,\n",
        "      batch_size=32,\n",
        "      validation_split=0.2\n",
        ")"
      ],
      "execution_count": null,
      "outputs": [
        {
          "output_type": "stream",
          "name": "stdout",
          "text": [
            "Epoch 1/30\n",
            "200/200 [==============================] - 19s 29ms/step - loss: 1.0940 - accuracy: 0.3596 - val_loss: 1.0908 - val_accuracy: 0.3714\n",
            "Epoch 2/30\n",
            "200/200 [==============================] - 5s 27ms/step - loss: 1.0911 - accuracy: 0.3667 - val_loss: 1.0900 - val_accuracy: 0.3676\n",
            "Epoch 3/30\n",
            "200/200 [==============================] - 5s 27ms/step - loss: 1.0878 - accuracy: 0.3724 - val_loss: 1.0883 - val_accuracy: 0.3689\n",
            "Epoch 4/30\n",
            "200/200 [==============================] - 5s 27ms/step - loss: 1.0853 - accuracy: 0.3731 - val_loss: 1.0834 - val_accuracy: 0.3519\n",
            "Epoch 5/30\n",
            "200/200 [==============================] - 5s 27ms/step - loss: 1.0800 - accuracy: 0.3755 - val_loss: 1.0800 - val_accuracy: 0.3739\n",
            "Epoch 6/30\n",
            "200/200 [==============================] - 5s 27ms/step - loss: 1.0747 - accuracy: 0.3907 - val_loss: 1.0828 - val_accuracy: 0.3783\n",
            "Epoch 7/30\n",
            "200/200 [==============================] - 5s 27ms/step - loss: 1.0754 - accuracy: 0.3884 - val_loss: 1.0825 - val_accuracy: 0.3808\n",
            "Epoch 8/30\n",
            "200/200 [==============================] - 5s 27ms/step - loss: 1.0726 - accuracy: 0.4004 - val_loss: 1.0832 - val_accuracy: 0.3733\n",
            "Epoch 9/30\n",
            "200/200 [==============================] - 5s 27ms/step - loss: 1.0709 - accuracy: 0.4042 - val_loss: 1.0944 - val_accuracy: 0.3695\n",
            "Epoch 10/30\n",
            "200/200 [==============================] - 5s 27ms/step - loss: 1.0687 - accuracy: 0.4105 - val_loss: 1.0841 - val_accuracy: 0.3739\n",
            "Epoch 11/30\n",
            "200/200 [==============================] - 5s 27ms/step - loss: 1.0724 - accuracy: 0.3912 - val_loss: 1.0835 - val_accuracy: 0.3714\n",
            "Epoch 12/30\n",
            "200/200 [==============================] - 5s 27ms/step - loss: 1.0672 - accuracy: 0.4075 - val_loss: 1.0817 - val_accuracy: 0.3739\n",
            "Epoch 13/30\n",
            "200/200 [==============================] - 5s 27ms/step - loss: 1.0651 - accuracy: 0.4108 - val_loss: 1.0869 - val_accuracy: 0.3701\n",
            "Epoch 14/30\n",
            "200/200 [==============================] - 5s 27ms/step - loss: 1.0679 - accuracy: 0.4088 - val_loss: 1.0869 - val_accuracy: 0.3701\n",
            "Epoch 15/30\n",
            "200/200 [==============================] - 5s 27ms/step - loss: 1.0646 - accuracy: 0.4099 - val_loss: 1.0836 - val_accuracy: 0.3695\n",
            "Epoch 16/30\n",
            "200/200 [==============================] - 5s 27ms/step - loss: 1.0634 - accuracy: 0.4188 - val_loss: 1.0840 - val_accuracy: 0.3695\n",
            "Epoch 17/30\n",
            "200/200 [==============================] - 5s 27ms/step - loss: 1.0653 - accuracy: 0.4135 - val_loss: 1.0846 - val_accuracy: 0.3701\n",
            "Epoch 18/30\n",
            "200/200 [==============================] - 5s 27ms/step - loss: 1.0603 - accuracy: 0.4177 - val_loss: 1.0855 - val_accuracy: 0.3695\n",
            "Epoch 19/30\n",
            "200/200 [==============================] - 5s 27ms/step - loss: 1.0623 - accuracy: 0.4210 - val_loss: 1.0847 - val_accuracy: 0.3689\n",
            "Epoch 20/30\n",
            "200/200 [==============================] - 5s 27ms/step - loss: 1.0643 - accuracy: 0.4139 - val_loss: 1.0796 - val_accuracy: 0.3695\n",
            "Epoch 21/30\n",
            "200/200 [==============================] - 5s 27ms/step - loss: 1.0601 - accuracy: 0.4227 - val_loss: 1.0764 - val_accuracy: 0.3708\n",
            "Epoch 22/30\n",
            "200/200 [==============================] - 5s 27ms/step - loss: 1.0575 - accuracy: 0.4290 - val_loss: 1.0917 - val_accuracy: 0.3689\n",
            "Epoch 23/30\n",
            "200/200 [==============================] - 5s 27ms/step - loss: 1.0577 - accuracy: 0.4320 - val_loss: 1.0878 - val_accuracy: 0.3689\n",
            "Epoch 24/30\n",
            "200/200 [==============================] - 5s 27ms/step - loss: 1.0545 - accuracy: 0.4282 - val_loss: 1.0897 - val_accuracy: 0.3689\n",
            "Epoch 25/30\n",
            "200/200 [==============================] - 5s 27ms/step - loss: 1.0586 - accuracy: 0.4177 - val_loss: 1.0859 - val_accuracy: 0.3689\n",
            "Epoch 26/30\n",
            "200/200 [==============================] - 5s 26ms/step - loss: 1.0589 - accuracy: 0.4235 - val_loss: 1.0860 - val_accuracy: 0.3689\n",
            "Epoch 27/30\n",
            "200/200 [==============================] - 5s 27ms/step - loss: 1.0553 - accuracy: 0.4304 - val_loss: 1.0852 - val_accuracy: 0.3689\n",
            "Epoch 28/30\n",
            "200/200 [==============================] - 5s 27ms/step - loss: 1.0530 - accuracy: 0.4348 - val_loss: 1.0809 - val_accuracy: 0.3689\n",
            "Epoch 29/30\n",
            "200/200 [==============================] - 5s 27ms/step - loss: 1.0557 - accuracy: 0.4340 - val_loss: 1.0865 - val_accuracy: 0.3689\n",
            "Epoch 30/30\n",
            "200/200 [==============================] - 5s 27ms/step - loss: 1.0549 - accuracy: 0.4284 - val_loss: 1.0968 - val_accuracy: 0.3689\n"
          ]
        },
        {
          "output_type": "execute_result",
          "data": {
            "text/plain": [
              "<keras.callbacks.History at 0x7f894004e750>"
            ]
          },
          "metadata": {},
          "execution_count": 26
        }
      ]
    },
    {
      "cell_type": "code",
      "metadata": {
        "colab": {
          "base_uri": "https://localhost:8080/"
        },
        "id": "xyl-pt4oJ4E6",
        "outputId": "b85a5f3e-81ed-4f09-a963-75ace81a1f28"
      },
      "source": [
        "loss, accuracy = model.evaluate(comments_test_tfidf, y_test)"
      ],
      "execution_count": null,
      "outputs": [
        {
          "output_type": "stream",
          "name": "stdout",
          "text": [
            "63/63 [==============================] - 1s 13ms/step - loss: 1.1002 - accuracy: 0.3675\n"
          ]
        }
      ]
    },
    {
      "cell_type": "markdown",
      "metadata": {
        "id": "ARskxG1iJ3N1"
      },
      "source": [
        "# K-Fold"
      ]
    },
    {
      "cell_type": "code",
      "metadata": {
        "id": "wH9rQf3rHFDg"
      },
      "source": [
        "def create_model():\n",
        "    model = Sequential()\n",
        "    model.add(Conv1D(64,8, activation='relu'))\n",
        "    model.add(MaxPooling1D(2))\n",
        "    model.add(Dropout(0.5))\n",
        "    model.add(Dense(32, activation='relu'))\n",
        "    model.add(Dropout(0.5))\n",
        "    model.add(Dense(16, activation='relu'))\n",
        "    model.add(GlobalMaxPooling1D())\n",
        "    model.add(Dense(3, activation='softmax'))\n",
        "\n",
        "    # compile\n",
        "    model.compile(optimizer='adam', \n",
        "                  loss='categorical_crossentropy', \n",
        "                  metrics=['accuracy'])\n",
        "    return model"
      ],
      "execution_count": null,
      "outputs": []
    },
    {
      "cell_type": "code",
      "metadata": {
        "colab": {
          "base_uri": "https://localhost:8080/"
        },
        "id": "LOEJcImKKPDN",
        "outputId": "93a6b6a7-dd8f-439b-bfef-c8197ef78b1c"
      },
      "source": [
        "mapper = {'neutral':0, 'positive':1, 'negative':2}\n",
        "train_y = train_data['label'].map(mapper).values\n",
        "test_y = test_data['label'].map(mapper).values\n",
        "\n",
        "train_y[:2]"
      ],
      "execution_count": null,
      "outputs": [
        {
          "output_type": "execute_result",
          "data": {
            "text/plain": [
              "array([2, 0])"
            ]
          },
          "metadata": {},
          "execution_count": 29
        }
      ]
    },
    {
      "cell_type": "code",
      "metadata": {
        "colab": {
          "base_uri": "https://localhost:8080/"
        },
        "id": "0FG_L-VFKPFF",
        "outputId": "e462a9d9-6efe-4af9-8ed9-40c898b41cec"
      },
      "source": [
        "from sklearn.model_selection import KFold, StratifiedKFold\n",
        "import numpy as np\n",
        "\n",
        "# define 5-fold cross validation test harness\n",
        "kfold = StratifiedKFold(n_splits=5, shuffle=True, random_state=2021)\n",
        "\n",
        "# loop fold\n",
        "cvscores = []\n",
        "for idx_train, idx_val in kfold.split(comments_train_tfidf, train_y):\n",
        "    # initialize model\n",
        "    model = create_model()\n",
        "\n",
        "    # Fit data to model\n",
        "    history = model.fit(\n",
        "      x=comments_train_tfidf[idx_train],\n",
        "      y=y_train[idx_train],\n",
        "      epochs=30,\n",
        "      batch_size=32,\n",
        "      verbose=0\n",
        "      # validation_split=0.2\n",
        "    )\n",
        "\n",
        "    # Generate generalization metrics\n",
        "    scores = model.evaluate(comments_train_tfidf[idx_val], \n",
        "                            y_train[idx_val], \n",
        "                            verbose=0)\n",
        "    print(\"%s: %.2f%%\" % (model.metrics_names[1], scores[1]*100))\n",
        "    cvscores.append(scores[1]*100)\n",
        "\n",
        "print(\"%.2f%% (+/- %.2f%%)\" % (np.mean(cvscores), np.std(cvscores)))"
      ],
      "execution_count": null,
      "outputs": [
        {
          "output_type": "stream",
          "name": "stdout",
          "text": [
            "accuracy: 40.97%\n",
            "accuracy: 36.64%\n",
            "accuracy: 37.10%\n",
            "accuracy: 41.62%\n",
            "accuracy: 37.73%\n",
            "38.81% (+/- 2.07%)\n"
          ]
        }
      ]
    },
    {
      "cell_type": "code",
      "metadata": {
        "id": "52C5GPO6KPHO",
        "colab": {
          "base_uri": "https://localhost:8080/"
        },
        "outputId": "769655ad-94e4-4e77-89ef-1029bc8c9ee8"
      },
      "source": [
        "# predict data test\n",
        "model.evaluate(comments_test_tfidf, \n",
        "               y_test,\n",
        "               verbose=0)"
      ],
      "execution_count": null,
      "outputs": [
        {
          "output_type": "execute_result",
          "data": {
            "text/plain": [
              "[1.0783575773239136, 0.37700802087783813]"
            ]
          },
          "metadata": {},
          "execution_count": 31
        }
      ]
    },
    {
      "cell_type": "markdown",
      "metadata": {
        "id": "fmXGkZUwK9OS"
      },
      "source": [
        "# Keras Tuner"
      ]
    },
    {
      "cell_type": "code",
      "metadata": {
        "id": "WBFmQ4o7KPJb",
        "colab": {
          "base_uri": "https://localhost:8080/"
        },
        "outputId": "536fedc4-6c4e-4d16-c5d1-dc412d7eaeef"
      },
      "source": [
        "!pip install -q -U keras-tuner"
      ],
      "execution_count": null,
      "outputs": [
        {
          "output_type": "stream",
          "name": "stdout",
          "text": [
            "\u001b[?25l\r\u001b[K     |███▍                            | 10 kB 22.2 MB/s eta 0:00:01\r\u001b[K     |██████▊                         | 20 kB 25.0 MB/s eta 0:00:01\r\u001b[K     |██████████                      | 30 kB 14.9 MB/s eta 0:00:01\r\u001b[K     |█████████████▍                  | 40 kB 10.7 MB/s eta 0:00:01\r\u001b[K     |████████████████▊               | 51 kB 4.6 MB/s eta 0:00:01\r\u001b[K     |████████████████████            | 61 kB 5.0 MB/s eta 0:00:01\r\u001b[K     |███████████████████████▍        | 71 kB 4.6 MB/s eta 0:00:01\r\u001b[K     |██████████████████████████▊     | 81 kB 5.1 MB/s eta 0:00:01\r\u001b[K     |██████████████████████████████  | 92 kB 5.1 MB/s eta 0:00:01\r\u001b[K     |████████████████████████████████| 98 kB 3.3 MB/s \n",
            "\u001b[?25h"
          ]
        }
      ]
    },
    {
      "cell_type": "code",
      "metadata": {
        "id": "6tKOLuyqKPMl"
      },
      "source": [
        "import keras_tuner as kt\n",
        "from tensorflow import keras"
      ],
      "execution_count": null,
      "outputs": []
    },
    {
      "cell_type": "code",
      "metadata": {
        "id": "8BUfuTBQLBrl"
      },
      "source": [
        "def model_builder(hp):\n",
        "    model = Sequential()\n",
        "\n",
        "    model.add(Conv1D(filters=hp.Int('conv_1_filter', min_value=64, max_value=512, step=64),\n",
        "                    kernel_size=hp.Choice('conv_1_kernel', values=[4,8,16]), \n",
        "                    activation='relu'))\n",
        "\n",
        "    model.add(MaxPooling1D(pool_size=2))\n",
        "\n",
        "    model.add(Dropout(0.5))\n",
        "\n",
        "    model.add(Dense(units=hp.Int('units1', min_value=32, max_value=128, step=32), \n",
        "                    activation='relu'))\n",
        "    \n",
        "    model.add(Dropout(0.5))\n",
        "\n",
        "    model.add(Dense(units=hp.Int('units2', min_value=16, max_value=64, step=16), \n",
        "                    activation='relu'))\n",
        "    \n",
        "    model.add(GlobalMaxPooling1D())\n",
        "\n",
        "    model.add(Dense(3, activation='softmax'))\n",
        "\n",
        "    # compile\n",
        "    hp_learning_rate = hp.Choice('learning_rate', values=[1e-2, 1e-3, 1e-4, 1e-5])\n",
        "    model.compile(optimizer=Adam(learning_rate=hp_learning_rate),\n",
        "                  loss=\"categorical_crossentropy\",\n",
        "                  metrics=['accuracy'])\n",
        "    return model"
      ],
      "execution_count": null,
      "outputs": []
    },
    {
      "cell_type": "code",
      "metadata": {
        "id": "iWj_A8WwLBtr"
      },
      "source": [
        "tuner = kt.Hyperband(hypermodel=model_builder,\n",
        "                     objective=kt.Objective(\"val_accuracy\", direction=\"max\"),\n",
        "                     max_epochs=30,\n",
        "\t\t\t\t\t project_name='hyperband_tuner')"
      ],
      "execution_count": null,
      "outputs": []
    },
    {
      "cell_type": "code",
      "metadata": {
        "id": "KfIHjk6vLBvi",
        "colab": {
          "base_uri": "https://localhost:8080/",
          "height": 1000
        },
        "outputId": "04b1ba4f-19f4-4a7d-8da7-159d9286fa77"
      },
      "source": [
        "tuner.search(comments_train_tfidf, \n",
        "             y_train, \n",
        "             epochs=30,\n",
        "             verbose=1,\n",
        "             shuffle=True,\n",
        "             validation_split=0.2)"
      ],
      "execution_count": null,
      "outputs": [
        {
          "output_type": "stream",
          "name": "stdout",
          "text": [
            "Trial 81 Complete [00h 02m 23s]\n",
            "val_accuracy: 0.3958594799041748\n",
            "\n",
            "Best val_accuracy So Far: 0.4447929859161377\n",
            "Total elapsed time: 02h 02m 51s\n",
            "\n",
            "Search: Running Trial #82\n",
            "\n",
            "Hyperparameter    |Value             |Best Value So Far \n",
            "conv_1_filter     |384               |320               \n",
            "conv_1_kernel     |16                |16                \n",
            "units1            |96                |32                \n",
            "units2            |32                |32                \n",
            "learning_rate     |1e-05             |0.001             \n",
            "tuner/epochs      |10                |30                \n",
            "tuner/initial_e...|0                 |10                \n",
            "tuner/bracket     |1                 |3                 \n",
            "tuner/round       |0                 |3                 \n",
            "\n",
            "Epoch 1/10\n",
            "  6/200 [..............................] - ETA: 23s - loss: 1.1006 - accuracy: 0.3177WARNING:tensorflow:Callback method `on_train_batch_end` is slow compared to the batch time (batch time: 0.0535s vs `on_train_batch_end` time: 0.0653s). Check your callbacks.\n",
            "200/200 [==============================] - 25s 119ms/step - loss: 1.0964 - accuracy: 0.3840 - val_loss: 1.0962 - val_accuracy: 0.3959\n",
            "Epoch 2/10\n",
            "200/200 [==============================] - 23s 117ms/step - loss: 1.0959 - accuracy: 0.3899 - val_loss: 1.0955 - val_accuracy: 0.3670\n",
            "Epoch 3/10\n",
            "200/200 [==============================] - 23s 117ms/step - loss: 1.0954 - accuracy: 0.3824 - val_loss: 1.0950 - val_accuracy: 0.3532\n",
            "Epoch 4/10\n",
            "200/200 [==============================] - 23s 117ms/step - loss: 1.0947 - accuracy: 0.3772 - val_loss: 1.0946 - val_accuracy: 0.3570\n",
            "Epoch 5/10\n",
            "200/200 [==============================] - 23s 117ms/step - loss: 1.0943 - accuracy: 0.3791 - val_loss: 1.0942 - val_accuracy: 0.3551\n",
            "Epoch 6/10\n",
            "200/200 [==============================] - 23s 117ms/step - loss: 1.0939 - accuracy: 0.3758 - val_loss: 1.0938 - val_accuracy: 0.3683\n",
            "Epoch 7/10\n",
            "200/200 [==============================] - 23s 117ms/step - loss: 1.0938 - accuracy: 0.3631 - val_loss: 1.0935 - val_accuracy: 0.3701\n",
            "Epoch 8/10\n",
            "200/200 [==============================] - 23s 117ms/step - loss: 1.0931 - accuracy: 0.3695 - val_loss: 1.0932 - val_accuracy: 0.3701\n",
            "Epoch 9/10\n",
            "200/200 [==============================] - 23s 117ms/step - loss: 1.0929 - accuracy: 0.3700 - val_loss: 1.0930 - val_accuracy: 0.3689\n",
            "Epoch 10/10\n",
            "162/200 [=======================>......] - ETA: 4s - loss: 1.0929 - accuracy: 0.3661"
          ]
        },
        {
          "output_type": "error",
          "ename": "KeyboardInterrupt",
          "evalue": "ignored",
          "traceback": [
            "\u001b[0;31m---------------------------------------------------------------------------\u001b[0m",
            "\u001b[0;31mKeyboardInterrupt\u001b[0m                         Traceback (most recent call last)",
            "\u001b[0;32m<ipython-input-36-5a63e73c503e>\u001b[0m in \u001b[0;36m<module>\u001b[0;34m()\u001b[0m\n\u001b[1;32m      4\u001b[0m              \u001b[0mverbose\u001b[0m\u001b[0;34m=\u001b[0m\u001b[0;36m1\u001b[0m\u001b[0;34m,\u001b[0m\u001b[0;34m\u001b[0m\u001b[0;34m\u001b[0m\u001b[0m\n\u001b[1;32m      5\u001b[0m              \u001b[0mshuffle\u001b[0m\u001b[0;34m=\u001b[0m\u001b[0;32mTrue\u001b[0m\u001b[0;34m,\u001b[0m\u001b[0;34m\u001b[0m\u001b[0;34m\u001b[0m\u001b[0m\n\u001b[0;32m----> 6\u001b[0;31m              validation_split=0.2)\n\u001b[0m",
            "\u001b[0;32m/usr/local/lib/python3.7/dist-packages/keras_tuner/engine/base_tuner.py\u001b[0m in \u001b[0;36msearch\u001b[0;34m(self, *fit_args, **fit_kwargs)\u001b[0m\n\u001b[1;32m    177\u001b[0m \u001b[0;34m\u001b[0m\u001b[0m\n\u001b[1;32m    178\u001b[0m             \u001b[0mself\u001b[0m\u001b[0;34m.\u001b[0m\u001b[0mon_trial_begin\u001b[0m\u001b[0;34m(\u001b[0m\u001b[0mtrial\u001b[0m\u001b[0;34m)\u001b[0m\u001b[0;34m\u001b[0m\u001b[0;34m\u001b[0m\u001b[0m\n\u001b[0;32m--> 179\u001b[0;31m             \u001b[0mresults\u001b[0m \u001b[0;34m=\u001b[0m \u001b[0mself\u001b[0m\u001b[0;34m.\u001b[0m\u001b[0mrun_trial\u001b[0m\u001b[0;34m(\u001b[0m\u001b[0mtrial\u001b[0m\u001b[0;34m,\u001b[0m \u001b[0;34m*\u001b[0m\u001b[0mfit_args\u001b[0m\u001b[0;34m,\u001b[0m \u001b[0;34m**\u001b[0m\u001b[0mfit_kwargs\u001b[0m\u001b[0;34m)\u001b[0m\u001b[0;34m\u001b[0m\u001b[0;34m\u001b[0m\u001b[0m\n\u001b[0m\u001b[1;32m    180\u001b[0m             \u001b[0;31m# `results` is None indicates user updated oracle in `run_trial()`.\u001b[0m\u001b[0;34m\u001b[0m\u001b[0;34m\u001b[0m\u001b[0;34m\u001b[0m\u001b[0m\n\u001b[1;32m    181\u001b[0m             \u001b[0;32mif\u001b[0m \u001b[0mresults\u001b[0m \u001b[0;32mis\u001b[0m \u001b[0;32mNone\u001b[0m\u001b[0;34m:\u001b[0m\u001b[0;34m\u001b[0m\u001b[0;34m\u001b[0m\u001b[0m\n",
            "\u001b[0;32m/usr/local/lib/python3.7/dist-packages/keras_tuner/tuners/hyperband.py\u001b[0m in \u001b[0;36mrun_trial\u001b[0;34m(self, trial, *fit_args, **fit_kwargs)\u001b[0m\n\u001b[1;32m    374\u001b[0m             \u001b[0mfit_kwargs\u001b[0m\u001b[0;34m[\u001b[0m\u001b[0;34m\"epochs\"\u001b[0m\u001b[0;34m]\u001b[0m \u001b[0;34m=\u001b[0m \u001b[0mhp\u001b[0m\u001b[0;34m.\u001b[0m\u001b[0mvalues\u001b[0m\u001b[0;34m[\u001b[0m\u001b[0;34m\"tuner/epochs\"\u001b[0m\u001b[0;34m]\u001b[0m\u001b[0;34m\u001b[0m\u001b[0;34m\u001b[0m\u001b[0m\n\u001b[1;32m    375\u001b[0m             \u001b[0mfit_kwargs\u001b[0m\u001b[0;34m[\u001b[0m\u001b[0;34m\"initial_epoch\"\u001b[0m\u001b[0;34m]\u001b[0m \u001b[0;34m=\u001b[0m \u001b[0mhp\u001b[0m\u001b[0;34m.\u001b[0m\u001b[0mvalues\u001b[0m\u001b[0;34m[\u001b[0m\u001b[0;34m\"tuner/initial_epoch\"\u001b[0m\u001b[0;34m]\u001b[0m\u001b[0;34m\u001b[0m\u001b[0;34m\u001b[0m\u001b[0m\n\u001b[0;32m--> 376\u001b[0;31m         \u001b[0;32mreturn\u001b[0m \u001b[0msuper\u001b[0m\u001b[0;34m(\u001b[0m\u001b[0mHyperband\u001b[0m\u001b[0;34m,\u001b[0m \u001b[0mself\u001b[0m\u001b[0;34m)\u001b[0m\u001b[0;34m.\u001b[0m\u001b[0mrun_trial\u001b[0m\u001b[0;34m(\u001b[0m\u001b[0mtrial\u001b[0m\u001b[0;34m,\u001b[0m \u001b[0;34m*\u001b[0m\u001b[0mfit_args\u001b[0m\u001b[0;34m,\u001b[0m \u001b[0;34m**\u001b[0m\u001b[0mfit_kwargs\u001b[0m\u001b[0;34m)\u001b[0m\u001b[0;34m\u001b[0m\u001b[0;34m\u001b[0m\u001b[0m\n\u001b[0m\u001b[1;32m    377\u001b[0m \u001b[0;34m\u001b[0m\u001b[0m\n\u001b[1;32m    378\u001b[0m     \u001b[0;32mdef\u001b[0m \u001b[0m_build_model\u001b[0m\u001b[0;34m(\u001b[0m\u001b[0mself\u001b[0m\u001b[0;34m,\u001b[0m \u001b[0mhp\u001b[0m\u001b[0;34m)\u001b[0m\u001b[0;34m:\u001b[0m\u001b[0;34m\u001b[0m\u001b[0;34m\u001b[0m\u001b[0m\n",
            "\u001b[0;32m/usr/local/lib/python3.7/dist-packages/keras_tuner/engine/tuner.py\u001b[0m in \u001b[0;36mrun_trial\u001b[0;34m(self, trial, *args, **kwargs)\u001b[0m\n\u001b[1;32m    302\u001b[0m             \u001b[0mcallbacks\u001b[0m\u001b[0;34m.\u001b[0m\u001b[0mappend\u001b[0m\u001b[0;34m(\u001b[0m\u001b[0mmodel_checkpoint\u001b[0m\u001b[0;34m)\u001b[0m\u001b[0;34m\u001b[0m\u001b[0;34m\u001b[0m\u001b[0m\n\u001b[1;32m    303\u001b[0m             \u001b[0mcopied_kwargs\u001b[0m\u001b[0;34m[\u001b[0m\u001b[0;34m\"callbacks\"\u001b[0m\u001b[0;34m]\u001b[0m \u001b[0;34m=\u001b[0m \u001b[0mcallbacks\u001b[0m\u001b[0;34m\u001b[0m\u001b[0;34m\u001b[0m\u001b[0m\n\u001b[0;32m--> 304\u001b[0;31m             \u001b[0mobj_value\u001b[0m \u001b[0;34m=\u001b[0m \u001b[0mself\u001b[0m\u001b[0;34m.\u001b[0m\u001b[0m_build_and_fit_model\u001b[0m\u001b[0;34m(\u001b[0m\u001b[0mtrial\u001b[0m\u001b[0;34m,\u001b[0m \u001b[0;34m*\u001b[0m\u001b[0margs\u001b[0m\u001b[0;34m,\u001b[0m \u001b[0;34m**\u001b[0m\u001b[0mcopied_kwargs\u001b[0m\u001b[0;34m)\u001b[0m\u001b[0;34m\u001b[0m\u001b[0;34m\u001b[0m\u001b[0m\n\u001b[0m\u001b[1;32m    305\u001b[0m \u001b[0;34m\u001b[0m\u001b[0m\n\u001b[1;32m    306\u001b[0m             \u001b[0;31m# objective left unspecified,\u001b[0m\u001b[0;34m\u001b[0m\u001b[0;34m\u001b[0m\u001b[0;34m\u001b[0m\u001b[0m\n",
            "\u001b[0;32m/usr/local/lib/python3.7/dist-packages/keras_tuner/engine/tuner.py\u001b[0m in \u001b[0;36m_build_and_fit_model\u001b[0;34m(self, trial, *args, **kwargs)\u001b[0m\n\u001b[1;32m    232\u001b[0m         \u001b[0mhp\u001b[0m \u001b[0;34m=\u001b[0m \u001b[0mtrial\u001b[0m\u001b[0;34m.\u001b[0m\u001b[0mhyperparameters\u001b[0m\u001b[0;34m\u001b[0m\u001b[0;34m\u001b[0m\u001b[0m\n\u001b[1;32m    233\u001b[0m         \u001b[0mmodel\u001b[0m \u001b[0;34m=\u001b[0m \u001b[0mself\u001b[0m\u001b[0;34m.\u001b[0m\u001b[0m_try_build\u001b[0m\u001b[0;34m(\u001b[0m\u001b[0mhp\u001b[0m\u001b[0;34m)\u001b[0m\u001b[0;34m\u001b[0m\u001b[0;34m\u001b[0m\u001b[0m\n\u001b[0;32m--> 234\u001b[0;31m         \u001b[0;32mreturn\u001b[0m \u001b[0mself\u001b[0m\u001b[0;34m.\u001b[0m\u001b[0mhypermodel\u001b[0m\u001b[0;34m.\u001b[0m\u001b[0mfit\u001b[0m\u001b[0;34m(\u001b[0m\u001b[0mhp\u001b[0m\u001b[0;34m,\u001b[0m \u001b[0mmodel\u001b[0m\u001b[0;34m,\u001b[0m \u001b[0;34m*\u001b[0m\u001b[0margs\u001b[0m\u001b[0;34m,\u001b[0m \u001b[0;34m**\u001b[0m\u001b[0mkwargs\u001b[0m\u001b[0;34m)\u001b[0m\u001b[0;34m\u001b[0m\u001b[0;34m\u001b[0m\u001b[0m\n\u001b[0m\u001b[1;32m    235\u001b[0m \u001b[0;34m\u001b[0m\u001b[0m\n\u001b[1;32m    236\u001b[0m     \u001b[0;32mdef\u001b[0m \u001b[0mrun_trial\u001b[0m\u001b[0;34m(\u001b[0m\u001b[0mself\u001b[0m\u001b[0;34m,\u001b[0m \u001b[0mtrial\u001b[0m\u001b[0;34m,\u001b[0m \u001b[0;34m*\u001b[0m\u001b[0margs\u001b[0m\u001b[0;34m,\u001b[0m \u001b[0;34m**\u001b[0m\u001b[0mkwargs\u001b[0m\u001b[0;34m)\u001b[0m\u001b[0;34m:\u001b[0m\u001b[0;34m\u001b[0m\u001b[0;34m\u001b[0m\u001b[0m\n",
            "\u001b[0;32m/usr/local/lib/python3.7/dist-packages/keras_tuner/engine/hypermodel.py\u001b[0m in \u001b[0;36mfit\u001b[0;34m(self, hp, model, *args, **kwargs)\u001b[0m\n\u001b[1;32m    135\u001b[0m             \u001b[0mIf\u001b[0m \u001b[0;32mreturn\u001b[0m \u001b[0ma\u001b[0m \u001b[0mfloat\u001b[0m\u001b[0;34m,\u001b[0m \u001b[0mit\u001b[0m \u001b[0mshould\u001b[0m \u001b[0mbe\u001b[0m \u001b[0mthe\u001b[0m\u001b[0;31m \u001b[0m\u001b[0;31m`\u001b[0m\u001b[0mobjective\u001b[0m\u001b[0;31m`\u001b[0m \u001b[0mvalue\u001b[0m\u001b[0;34m.\u001b[0m\u001b[0;34m\u001b[0m\u001b[0;34m\u001b[0m\u001b[0m\n\u001b[1;32m    136\u001b[0m         \"\"\"\n\u001b[0;32m--> 137\u001b[0;31m         \u001b[0;32mreturn\u001b[0m \u001b[0mmodel\u001b[0m\u001b[0;34m.\u001b[0m\u001b[0mfit\u001b[0m\u001b[0;34m(\u001b[0m\u001b[0;34m*\u001b[0m\u001b[0margs\u001b[0m\u001b[0;34m,\u001b[0m \u001b[0;34m**\u001b[0m\u001b[0mkwargs\u001b[0m\u001b[0;34m)\u001b[0m\u001b[0;34m\u001b[0m\u001b[0;34m\u001b[0m\u001b[0m\n\u001b[0m\u001b[1;32m    138\u001b[0m \u001b[0;34m\u001b[0m\u001b[0m\n\u001b[1;32m    139\u001b[0m \u001b[0;34m\u001b[0m\u001b[0m\n",
            "\u001b[0;32m/usr/local/lib/python3.7/dist-packages/keras/utils/traceback_utils.py\u001b[0m in \u001b[0;36merror_handler\u001b[0;34m(*args, **kwargs)\u001b[0m\n\u001b[1;32m     62\u001b[0m     \u001b[0mfiltered_tb\u001b[0m \u001b[0;34m=\u001b[0m \u001b[0;32mNone\u001b[0m\u001b[0;34m\u001b[0m\u001b[0;34m\u001b[0m\u001b[0m\n\u001b[1;32m     63\u001b[0m     \u001b[0;32mtry\u001b[0m\u001b[0;34m:\u001b[0m\u001b[0;34m\u001b[0m\u001b[0;34m\u001b[0m\u001b[0m\n\u001b[0;32m---> 64\u001b[0;31m       \u001b[0;32mreturn\u001b[0m \u001b[0mfn\u001b[0m\u001b[0;34m(\u001b[0m\u001b[0;34m*\u001b[0m\u001b[0margs\u001b[0m\u001b[0;34m,\u001b[0m \u001b[0;34m**\u001b[0m\u001b[0mkwargs\u001b[0m\u001b[0;34m)\u001b[0m\u001b[0;34m\u001b[0m\u001b[0;34m\u001b[0m\u001b[0m\n\u001b[0m\u001b[1;32m     65\u001b[0m     \u001b[0;32mexcept\u001b[0m \u001b[0mException\u001b[0m \u001b[0;32mas\u001b[0m \u001b[0me\u001b[0m\u001b[0;34m:\u001b[0m  \u001b[0;31m# pylint: disable=broad-except\u001b[0m\u001b[0;34m\u001b[0m\u001b[0;34m\u001b[0m\u001b[0m\n\u001b[1;32m     66\u001b[0m       \u001b[0mfiltered_tb\u001b[0m \u001b[0;34m=\u001b[0m \u001b[0m_process_traceback_frames\u001b[0m\u001b[0;34m(\u001b[0m\u001b[0me\u001b[0m\u001b[0;34m.\u001b[0m\u001b[0m__traceback__\u001b[0m\u001b[0;34m)\u001b[0m\u001b[0;34m\u001b[0m\u001b[0;34m\u001b[0m\u001b[0m\n",
            "\u001b[0;32m/usr/local/lib/python3.7/dist-packages/keras/engine/training.py\u001b[0m in \u001b[0;36mfit\u001b[0;34m(self, x, y, batch_size, epochs, verbose, callbacks, validation_split, validation_data, shuffle, class_weight, sample_weight, initial_epoch, steps_per_epoch, validation_steps, validation_batch_size, validation_freq, max_queue_size, workers, use_multiprocessing)\u001b[0m\n\u001b[1;32m   1214\u001b[0m                 _r=1):\n\u001b[1;32m   1215\u001b[0m               \u001b[0mcallbacks\u001b[0m\u001b[0;34m.\u001b[0m\u001b[0mon_train_batch_begin\u001b[0m\u001b[0;34m(\u001b[0m\u001b[0mstep\u001b[0m\u001b[0;34m)\u001b[0m\u001b[0;34m\u001b[0m\u001b[0;34m\u001b[0m\u001b[0m\n\u001b[0;32m-> 1216\u001b[0;31m               \u001b[0mtmp_logs\u001b[0m \u001b[0;34m=\u001b[0m \u001b[0mself\u001b[0m\u001b[0;34m.\u001b[0m\u001b[0mtrain_function\u001b[0m\u001b[0;34m(\u001b[0m\u001b[0miterator\u001b[0m\u001b[0;34m)\u001b[0m\u001b[0;34m\u001b[0m\u001b[0;34m\u001b[0m\u001b[0m\n\u001b[0m\u001b[1;32m   1217\u001b[0m               \u001b[0;32mif\u001b[0m \u001b[0mdata_handler\u001b[0m\u001b[0;34m.\u001b[0m\u001b[0mshould_sync\u001b[0m\u001b[0;34m:\u001b[0m\u001b[0;34m\u001b[0m\u001b[0;34m\u001b[0m\u001b[0m\n\u001b[1;32m   1218\u001b[0m                 \u001b[0mcontext\u001b[0m\u001b[0;34m.\u001b[0m\u001b[0masync_wait\u001b[0m\u001b[0;34m(\u001b[0m\u001b[0;34m)\u001b[0m\u001b[0;34m\u001b[0m\u001b[0;34m\u001b[0m\u001b[0m\n",
            "\u001b[0;32m/usr/local/lib/python3.7/dist-packages/tensorflow/python/util/traceback_utils.py\u001b[0m in \u001b[0;36merror_handler\u001b[0;34m(*args, **kwargs)\u001b[0m\n\u001b[1;32m    148\u001b[0m     \u001b[0mfiltered_tb\u001b[0m \u001b[0;34m=\u001b[0m \u001b[0;32mNone\u001b[0m\u001b[0;34m\u001b[0m\u001b[0;34m\u001b[0m\u001b[0m\n\u001b[1;32m    149\u001b[0m     \u001b[0;32mtry\u001b[0m\u001b[0;34m:\u001b[0m\u001b[0;34m\u001b[0m\u001b[0;34m\u001b[0m\u001b[0m\n\u001b[0;32m--> 150\u001b[0;31m       \u001b[0;32mreturn\u001b[0m \u001b[0mfn\u001b[0m\u001b[0;34m(\u001b[0m\u001b[0;34m*\u001b[0m\u001b[0margs\u001b[0m\u001b[0;34m,\u001b[0m \u001b[0;34m**\u001b[0m\u001b[0mkwargs\u001b[0m\u001b[0;34m)\u001b[0m\u001b[0;34m\u001b[0m\u001b[0;34m\u001b[0m\u001b[0m\n\u001b[0m\u001b[1;32m    151\u001b[0m     \u001b[0;32mexcept\u001b[0m \u001b[0mException\u001b[0m \u001b[0;32mas\u001b[0m \u001b[0me\u001b[0m\u001b[0;34m:\u001b[0m\u001b[0;34m\u001b[0m\u001b[0;34m\u001b[0m\u001b[0m\n\u001b[1;32m    152\u001b[0m       \u001b[0mfiltered_tb\u001b[0m \u001b[0;34m=\u001b[0m \u001b[0m_process_traceback_frames\u001b[0m\u001b[0;34m(\u001b[0m\u001b[0me\u001b[0m\u001b[0;34m.\u001b[0m\u001b[0m__traceback__\u001b[0m\u001b[0;34m)\u001b[0m\u001b[0;34m\u001b[0m\u001b[0;34m\u001b[0m\u001b[0m\n",
            "\u001b[0;32m/usr/local/lib/python3.7/dist-packages/tensorflow/python/eager/def_function.py\u001b[0m in \u001b[0;36m__call__\u001b[0;34m(self, *args, **kwds)\u001b[0m\n\u001b[1;32m    908\u001b[0m \u001b[0;34m\u001b[0m\u001b[0m\n\u001b[1;32m    909\u001b[0m       \u001b[0;32mwith\u001b[0m \u001b[0mOptionalXlaContext\u001b[0m\u001b[0;34m(\u001b[0m\u001b[0mself\u001b[0m\u001b[0;34m.\u001b[0m\u001b[0m_jit_compile\u001b[0m\u001b[0;34m)\u001b[0m\u001b[0;34m:\u001b[0m\u001b[0;34m\u001b[0m\u001b[0;34m\u001b[0m\u001b[0m\n\u001b[0;32m--> 910\u001b[0;31m         \u001b[0mresult\u001b[0m \u001b[0;34m=\u001b[0m \u001b[0mself\u001b[0m\u001b[0;34m.\u001b[0m\u001b[0m_call\u001b[0m\u001b[0;34m(\u001b[0m\u001b[0;34m*\u001b[0m\u001b[0margs\u001b[0m\u001b[0;34m,\u001b[0m \u001b[0;34m**\u001b[0m\u001b[0mkwds\u001b[0m\u001b[0;34m)\u001b[0m\u001b[0;34m\u001b[0m\u001b[0;34m\u001b[0m\u001b[0m\n\u001b[0m\u001b[1;32m    911\u001b[0m \u001b[0;34m\u001b[0m\u001b[0m\n\u001b[1;32m    912\u001b[0m       \u001b[0mnew_tracing_count\u001b[0m \u001b[0;34m=\u001b[0m \u001b[0mself\u001b[0m\u001b[0;34m.\u001b[0m\u001b[0mexperimental_get_tracing_count\u001b[0m\u001b[0;34m(\u001b[0m\u001b[0;34m)\u001b[0m\u001b[0;34m\u001b[0m\u001b[0;34m\u001b[0m\u001b[0m\n",
            "\u001b[0;32m/usr/local/lib/python3.7/dist-packages/tensorflow/python/eager/def_function.py\u001b[0m in \u001b[0;36m_call\u001b[0;34m(self, *args, **kwds)\u001b[0m\n\u001b[1;32m    940\u001b[0m       \u001b[0;31m# In this case we have created variables on the first call, so we run the\u001b[0m\u001b[0;34m\u001b[0m\u001b[0;34m\u001b[0m\u001b[0;34m\u001b[0m\u001b[0m\n\u001b[1;32m    941\u001b[0m       \u001b[0;31m# defunned version which is guaranteed to never create variables.\u001b[0m\u001b[0;34m\u001b[0m\u001b[0;34m\u001b[0m\u001b[0;34m\u001b[0m\u001b[0m\n\u001b[0;32m--> 942\u001b[0;31m       \u001b[0;32mreturn\u001b[0m \u001b[0mself\u001b[0m\u001b[0;34m.\u001b[0m\u001b[0m_stateless_fn\u001b[0m\u001b[0;34m(\u001b[0m\u001b[0;34m*\u001b[0m\u001b[0margs\u001b[0m\u001b[0;34m,\u001b[0m \u001b[0;34m**\u001b[0m\u001b[0mkwds\u001b[0m\u001b[0;34m)\u001b[0m  \u001b[0;31m# pylint: disable=not-callable\u001b[0m\u001b[0;34m\u001b[0m\u001b[0;34m\u001b[0m\u001b[0m\n\u001b[0m\u001b[1;32m    943\u001b[0m     \u001b[0;32melif\u001b[0m \u001b[0mself\u001b[0m\u001b[0;34m.\u001b[0m\u001b[0m_stateful_fn\u001b[0m \u001b[0;32mis\u001b[0m \u001b[0;32mnot\u001b[0m \u001b[0;32mNone\u001b[0m\u001b[0;34m:\u001b[0m\u001b[0;34m\u001b[0m\u001b[0;34m\u001b[0m\u001b[0m\n\u001b[1;32m    944\u001b[0m       \u001b[0;31m# Release the lock early so that multiple threads can perform the call\u001b[0m\u001b[0;34m\u001b[0m\u001b[0;34m\u001b[0m\u001b[0;34m\u001b[0m\u001b[0m\n",
            "\u001b[0;32m/usr/local/lib/python3.7/dist-packages/tensorflow/python/eager/function.py\u001b[0m in \u001b[0;36m__call__\u001b[0;34m(self, *args, **kwargs)\u001b[0m\n\u001b[1;32m   3129\u001b[0m        filtered_flat_args) = self._maybe_define_function(args, kwargs)\n\u001b[1;32m   3130\u001b[0m     return graph_function._call_flat(\n\u001b[0;32m-> 3131\u001b[0;31m         filtered_flat_args, captured_inputs=graph_function.captured_inputs)  # pylint: disable=protected-access\n\u001b[0m\u001b[1;32m   3132\u001b[0m \u001b[0;34m\u001b[0m\u001b[0m\n\u001b[1;32m   3133\u001b[0m   \u001b[0;34m@\u001b[0m\u001b[0mproperty\u001b[0m\u001b[0;34m\u001b[0m\u001b[0;34m\u001b[0m\u001b[0m\n",
            "\u001b[0;32m/usr/local/lib/python3.7/dist-packages/tensorflow/python/eager/function.py\u001b[0m in \u001b[0;36m_call_flat\u001b[0;34m(self, args, captured_inputs, cancellation_manager)\u001b[0m\n\u001b[1;32m   1958\u001b[0m       \u001b[0;31m# No tape is watching; skip to running the function.\u001b[0m\u001b[0;34m\u001b[0m\u001b[0;34m\u001b[0m\u001b[0;34m\u001b[0m\u001b[0m\n\u001b[1;32m   1959\u001b[0m       return self._build_call_outputs(self._inference_function.call(\n\u001b[0;32m-> 1960\u001b[0;31m           ctx, args, cancellation_manager=cancellation_manager))\n\u001b[0m\u001b[1;32m   1961\u001b[0m     forward_backward = self._select_forward_and_backward_functions(\n\u001b[1;32m   1962\u001b[0m         \u001b[0margs\u001b[0m\u001b[0;34m,\u001b[0m\u001b[0;34m\u001b[0m\u001b[0;34m\u001b[0m\u001b[0m\n",
            "\u001b[0;32m/usr/local/lib/python3.7/dist-packages/tensorflow/python/eager/function.py\u001b[0m in \u001b[0;36mcall\u001b[0;34m(self, ctx, args, cancellation_manager)\u001b[0m\n\u001b[1;32m    601\u001b[0m               \u001b[0minputs\u001b[0m\u001b[0;34m=\u001b[0m\u001b[0margs\u001b[0m\u001b[0;34m,\u001b[0m\u001b[0;34m\u001b[0m\u001b[0;34m\u001b[0m\u001b[0m\n\u001b[1;32m    602\u001b[0m               \u001b[0mattrs\u001b[0m\u001b[0;34m=\u001b[0m\u001b[0mattrs\u001b[0m\u001b[0;34m,\u001b[0m\u001b[0;34m\u001b[0m\u001b[0;34m\u001b[0m\u001b[0m\n\u001b[0;32m--> 603\u001b[0;31m               ctx=ctx)\n\u001b[0m\u001b[1;32m    604\u001b[0m         \u001b[0;32melse\u001b[0m\u001b[0;34m:\u001b[0m\u001b[0;34m\u001b[0m\u001b[0;34m\u001b[0m\u001b[0m\n\u001b[1;32m    605\u001b[0m           outputs = execute.execute_with_cancellation(\n",
            "\u001b[0;32m/usr/local/lib/python3.7/dist-packages/tensorflow/python/eager/execute.py\u001b[0m in \u001b[0;36mquick_execute\u001b[0;34m(op_name, num_outputs, inputs, attrs, ctx, name)\u001b[0m\n\u001b[1;32m     57\u001b[0m     \u001b[0mctx\u001b[0m\u001b[0;34m.\u001b[0m\u001b[0mensure_initialized\u001b[0m\u001b[0;34m(\u001b[0m\u001b[0;34m)\u001b[0m\u001b[0;34m\u001b[0m\u001b[0;34m\u001b[0m\u001b[0m\n\u001b[1;32m     58\u001b[0m     tensors = pywrap_tfe.TFE_Py_Execute(ctx._handle, device_name, op_name,\n\u001b[0;32m---> 59\u001b[0;31m                                         inputs, attrs, num_outputs)\n\u001b[0m\u001b[1;32m     60\u001b[0m   \u001b[0;32mexcept\u001b[0m \u001b[0mcore\u001b[0m\u001b[0;34m.\u001b[0m\u001b[0m_NotOkStatusException\u001b[0m \u001b[0;32mas\u001b[0m \u001b[0me\u001b[0m\u001b[0;34m:\u001b[0m\u001b[0;34m\u001b[0m\u001b[0;34m\u001b[0m\u001b[0m\n\u001b[1;32m     61\u001b[0m     \u001b[0;32mif\u001b[0m \u001b[0mname\u001b[0m \u001b[0;32mis\u001b[0m \u001b[0;32mnot\u001b[0m \u001b[0;32mNone\u001b[0m\u001b[0;34m:\u001b[0m\u001b[0;34m\u001b[0m\u001b[0;34m\u001b[0m\u001b[0m\n",
            "\u001b[0;31mKeyboardInterrupt\u001b[0m: "
          ]
        }
      ]
    },
    {
      "cell_type": "code",
      "metadata": {
        "id": "mhhGYiDnLBxd"
      },
      "source": [
        "tuner.results_summary()"
      ],
      "execution_count": null,
      "outputs": []
    },
    {
      "cell_type": "code",
      "metadata": {
        "id": "OestgGD2LBzf"
      },
      "source": [
        "best_model = tuner.get_best_models()[0]"
      ],
      "execution_count": null,
      "outputs": []
    },
    {
      "cell_type": "code",
      "metadata": {
        "id": "oDsHUEOALB1f"
      },
      "source": [
        "# conv_1_filter: 320\n",
        "# conv_1_kernel: 16\n",
        "# units1: 32\n",
        "# units2: 32\n",
        "# learning_rate: 0.001\n",
        " \n",
        "def create_mode_tuned():\n",
        "    model = Sequential()\n",
        "    model.add(Conv1D(320,16, activation='relu'))\n",
        "    model.add(MaxPooling1D(2))\n",
        "    model.add(Dropout(0.5))\n",
        "    model.add(Dense(32, activation='relu'))\n",
        "    model.add(Dropout(0.5))\n",
        "    model.add(Dense(32, activation='relu'))\n",
        "    model.add(GlobalMaxPooling1D())\n",
        "    model.add(Dense(3, activation='softmax'))\n",
        "\n",
        "    # compile\n",
        "    model.compile(optimizer=Adam(learning_rate=0.001), \n",
        "                  loss='categorical_crossentropy', \n",
        "                  metrics=['accuracy'])\n",
        "    return model"
      ],
      "execution_count": null,
      "outputs": []
    },
    {
      "cell_type": "code",
      "metadata": {
        "id": "TyqCxYgmNs0K",
        "colab": {
          "base_uri": "https://localhost:8080/"
        },
        "outputId": "34733963-c186-4e96-ddaf-c691a0e2fd2b"
      },
      "source": [
        "# define 5-fold cross validation test harness\n",
        "kfold = StratifiedKFold(n_splits=5, shuffle=True, random_state=2021)\n",
        "\n",
        "# loop fold\n",
        "cvscores = []\n",
        "for idx_train, idx_val in kfold.split(comments_train_tfidf, train_y):\n",
        "    # initialize model\n",
        "    model = create_mode_tuned()\n",
        "\n",
        "    # Fit data to model\n",
        "    history = model.fit(\n",
        "      x=comments_train_tfidf[idx_train],\n",
        "      y=y_train[idx_train],\n",
        "      epochs=30,\n",
        "      batch_size=32,\n",
        "      verbose=0\n",
        "      # validation_split=0.2\n",
        "    )\n",
        "\n",
        "    # Generate generalization metrics\n",
        "    scores = model.evaluate(comments_train_tfidf[idx_val], \n",
        "                            y_train[idx_val], \n",
        "                            verbose=0)\n",
        "    print(\"%s: %.2f%%\" % (model.metrics_names[1], scores[1]*100))\n",
        "    cvscores.append(scores[1]*100)\n",
        "\n",
        "print(\"%.2f%% (+/- %.2f%%)\" % (np.mean(cvscores), np.std(cvscores)))"
      ],
      "execution_count": null,
      "outputs": [
        {
          "output_type": "stream",
          "name": "stdout",
          "text": [
            "accuracy: 46.74%\n",
            "accuracy: 47.68%\n",
            "accuracy: 46.14%\n",
            "accuracy: 44.95%\n",
            "accuracy: 44.57%\n",
            "46.01% (+/- 1.14%)\n"
          ]
        }
      ]
    },
    {
      "cell_type": "code",
      "metadata": {
        "id": "9QB1L4KsLB3q",
        "colab": {
          "base_uri": "https://localhost:8080/"
        },
        "outputId": "6a87deb8-60a0-4de2-dda6-309700f1b927"
      },
      "source": [
        "# predict data test\n",
        "model.evaluate(comments_test_tfidf, \n",
        "               y_test, \n",
        "               verbose=0)"
      ],
      "execution_count": null,
      "outputs": [
        {
          "output_type": "execute_result",
          "data": {
            "text/plain": [
              "[1.055172085762024, 0.4322289228439331]"
            ]
          },
          "metadata": {},
          "execution_count": 40
        }
      ]
    },
    {
      "cell_type": "code",
      "metadata": {
        "id": "q37TwSeGLB7F"
      },
      "source": [
        "from tensorflow.keras.utils import plot_model\n"
      ],
      "execution_count": null,
      "outputs": []
    },
    {
      "cell_type": "code",
      "metadata": {
        "id": "_k2oBwK2NvZx",
        "colab": {
          "base_uri": "https://localhost:8080/",
          "height": 976
        },
        "outputId": "15a51f1f-a0da-4809-874f-830feb14bc12"
      },
      "source": [
        "plot_model(model, show_dtype=True, \n",
        "           show_layer_names=True, show_shapes=True,\n",
        "           to_file=\"cnn.png\")"
      ],
      "execution_count": null,
      "outputs": [
        {
          "output_type": "execute_result",
          "data": {
            "image/png": "[encoded data removed]",
            "text/plain": [
              "<IPython.core.display.Image object>"
            ]
          },
          "metadata": {},
          "execution_count": 45
        }
      ]
    },
    {
      "cell_type": "code",
      "metadata": {
        "id": "HVNYQOjDNvdM"
      },
      "source": [
        ""
      ],
      "execution_count": null,
      "outputs": []
    },
    {
      "cell_type": "code",
      "metadata": {
        "id": "ah_TtGGhHFA9"
      },
      "source": [
        "def predict_sentiment(sex, age, fare):\n",
        "    df = pd.DataFrame.from_dict({'Sex': [sex], 'Age': [age], 'Fare': [fare]})\n",
        "    df = encode_sex(df)\n",
        "    df = encode_fares(df)\n",
        "    df = encode_ages(df)\n",
        "    pred = clf.predict_proba(df)[0]\n",
        "    return {'Perishes': pred[0], 'Survives': pred[1]}"
      ],
      "execution_count": null,
      "outputs": []
    },
    {
      "cell_type": "code",
      "metadata": {
        "id": "ZfDSXuOXHE-L"
      },
      "source": [
        ""
      ],
      "execution_count": null,
      "outputs": []
    },
    {
      "cell_type": "code",
      "metadata": {
        "id": "UJdInxL3HE8I"
      },
      "source": [
        ""
      ],
      "execution_count": null,
      "outputs": []
    },
    {
      "cell_type": "code",
      "metadata": {
        "id": "KtJgmFM5HE6P"
      },
      "source": [
        ""
      ],
      "execution_count": null,
      "outputs": []
    },
    {
      "cell_type": "code",
      "metadata": {
        "id": "m9nIjH2mHE2S"
      },
      "source": [
        ""
      ],
      "execution_count": null,
      "outputs": []
    },
    {
      "cell_type": "code",
      "metadata": {
        "id": "nrwxqO9DHEw9"
      },
      "source": [
        ""
      ],
      "execution_count": null,
      "outputs": []
    },
    {
      "cell_type": "code",
      "metadata": {
        "id": "Im5Iy7-HHEuF"
      },
      "source": [
        ""
      ],
      "execution_count": null,
      "outputs": []
    },
    {
      "cell_type": "markdown",
      "metadata": {
        "id": "uOgXZdp_5nI5"
      },
      "source": [
        "# CNN"
      ]
    },
    {
      "cell_type": "code",
      "metadata": {
        "colab": {
          "base_uri": "https://localhost:8080/"
        },
        "id": "ND6jkcqG-0O4",
        "outputId": "0b5f977a-e5e2-4ee3-f2a1-519b6036d94a"
      },
      "source": [
        "!pip install gradio"
      ],
      "execution_count": null,
      "outputs": [
        {
          "output_type": "stream",
          "name": "stdout",
          "text": [
            "Collecting gradio\n",
            "  Downloading gradio-2.3.7-py3-none-any.whl (3.6 MB)\n",
            "\u001b[K     |████████████████████████████████| 3.6 MB 7.6 MB/s \n",
            "\u001b[?25hCollecting Flask-Cors>=3.0.8\n",
            "  Downloading Flask_Cors-3.0.10-py2.py3-none-any.whl (14 kB)\n",
            "Requirement already satisfied: requests in /usr/local/lib/python3.7/dist-packages (from gradio) (2.23.0)\n",
            "Requirement already satisfied: pillow in /usr/local/lib/python3.7/dist-packages (from gradio) (7.1.2)\n",
            "Collecting ffmpy\n",
            "  Downloading ffmpy-0.3.0.tar.gz (4.8 kB)\n",
            "Collecting pydub\n",
            "  Downloading pydub-0.25.1-py2.py3-none-any.whl (32 kB)\n",
            "Requirement already satisfied: matplotlib in /usr/local/lib/python3.7/dist-packages (from gradio) (3.2.2)\n",
            "Collecting analytics-python\n",
            "  Downloading analytics_python-1.4.0-py2.py3-none-any.whl (15 kB)\n",
            "Collecting markdown2\n",
            "  Downloading markdown2-2.4.1-py2.py3-none-any.whl (34 kB)\n",
            "Collecting paramiko\n",
            "  Downloading paramiko-2.8.0-py2.py3-none-any.whl (206 kB)\n",
            "\u001b[K     |████████████████████████████████| 206 kB 53.8 MB/s \n",
            "\u001b[?25hCollecting pycryptodome\n",
            "  Downloading pycryptodome-3.11.0-cp35-abi3-manylinux2010_x86_64.whl (1.9 MB)\n",
            "\u001b[K     |████████████████████████████████| 1.9 MB 49.6 MB/s \n",
            "\u001b[?25hRequirement already satisfied: Flask>=1.1.1 in /usr/local/lib/python3.7/dist-packages (from gradio) (1.1.4)\n",
            "Collecting Flask-Login\n",
            "  Downloading Flask_Login-0.5.0-py2.py3-none-any.whl (16 kB)\n",
            "Requirement already satisfied: numpy in /usr/local/lib/python3.7/dist-packages (from gradio) (1.19.5)\n",
            "Collecting flask-cachebuster\n",
            "  Downloading Flask-CacheBuster-1.0.0.tar.gz (3.1 kB)\n",
            "Requirement already satisfied: pandas in /usr/local/lib/python3.7/dist-packages (from gradio) (1.1.5)\n",
            "Requirement already satisfied: itsdangerous<2.0,>=0.24 in /usr/local/lib/python3.7/dist-packages (from Flask>=1.1.1->gradio) (1.1.0)\n",
            "Requirement already satisfied: Werkzeug<2.0,>=0.15 in /usr/local/lib/python3.7/dist-packages (from Flask>=1.1.1->gradio) (1.0.1)\n",
            "Requirement already satisfied: Jinja2<3.0,>=2.10.1 in /usr/local/lib/python3.7/dist-packages (from Flask>=1.1.1->gradio) (2.11.3)\n",
            "Requirement already satisfied: click<8.0,>=5.1 in /usr/local/lib/python3.7/dist-packages (from Flask>=1.1.1->gradio) (7.1.2)\n",
            "Requirement already satisfied: Six in /usr/local/lib/python3.7/dist-packages (from Flask-Cors>=3.0.8->gradio) (1.15.0)\n",
            "Requirement already satisfied: MarkupSafe>=0.23 in /usr/local/lib/python3.7/dist-packages (from Jinja2<3.0,>=2.10.1->Flask>=1.1.1->gradio) (2.0.1)\n",
            "Requirement already satisfied: python-dateutil>2.1 in /usr/local/lib/python3.7/dist-packages (from analytics-python->gradio) (2.8.2)\n",
            "Collecting monotonic>=1.5\n",
            "  Downloading monotonic-1.6-py2.py3-none-any.whl (8.2 kB)\n",
            "Collecting backoff==1.10.0\n",
            "  Downloading backoff-1.10.0-py2.py3-none-any.whl (31 kB)\n",
            "Requirement already satisfied: idna<3,>=2.5 in /usr/local/lib/python3.7/dist-packages (from requests->gradio) (2.10)\n",
            "Requirement already satisfied: chardet<4,>=3.0.2 in /usr/local/lib/python3.7/dist-packages (from requests->gradio) (3.0.4)\n",
            "Requirement already satisfied: urllib3!=1.25.0,!=1.25.1,<1.26,>=1.21.1 in /usr/local/lib/python3.7/dist-packages (from requests->gradio) (1.24.3)\n",
            "Requirement already satisfied: certifi>=2017.4.17 in /usr/local/lib/python3.7/dist-packages (from requests->gradio) (2021.5.30)\n",
            "Requirement already satisfied: kiwisolver>=1.0.1 in /usr/local/lib/python3.7/dist-packages (from matplotlib->gradio) (1.3.2)\n",
            "Requirement already satisfied: pyparsing!=2.0.4,!=2.1.2,!=2.1.6,>=2.0.1 in /usr/local/lib/python3.7/dist-packages (from matplotlib->gradio) (2.4.7)\n",
            "Requirement already satisfied: cycler>=0.10 in /usr/local/lib/python3.7/dist-packages (from matplotlib->gradio) (0.10.0)\n",
            "Requirement already satisfied: pytz>=2017.2 in /usr/local/lib/python3.7/dist-packages (from pandas->gradio) (2018.9)\n",
            "Collecting pynacl>=1.0.1\n",
            "  Downloading PyNaCl-1.4.0-cp35-abi3-manylinux1_x86_64.whl (961 kB)\n",
            "\u001b[K     |████████████████████████████████| 961 kB 63.3 MB/s \n",
            "\u001b[?25hCollecting cryptography>=2.5\n",
            "  Downloading cryptography-35.0.0-cp36-abi3-manylinux_2_24_x86_64.whl (3.5 MB)\n",
            "\u001b[K     |████████████████████████████████| 3.5 MB 56.0 MB/s \n",
            "\u001b[?25hCollecting bcrypt>=3.1.3\n",
            "  Downloading bcrypt-3.2.0-cp36-abi3-manylinux2010_x86_64.whl (63 kB)\n",
            "\u001b[K     |████████████████████████████████| 63 kB 3.0 MB/s \n",
            "\u001b[?25hRequirement already satisfied: cffi>=1.1 in /usr/local/lib/python3.7/dist-packages (from bcrypt>=3.1.3->paramiko->gradio) (1.14.6)\n",
            "Requirement already satisfied: pycparser in /usr/local/lib/python3.7/dist-packages (from cffi>=1.1->bcrypt>=3.1.3->paramiko->gradio) (2.20)\n",
            "Building wheels for collected packages: ffmpy, flask-cachebuster\n",
            "  Building wheel for ffmpy (setup.py) ... \u001b[?25l\u001b[?25hdone\n",
            "  Created wheel for ffmpy: filename=ffmpy-0.3.0-py3-none-any.whl size=4710 sha256=160670cbd01d5ae45c03d5a17463619bfca58c9dba59d5a1bd4bd74988fa8a7d\n",
            "  Stored in directory: /root/.cache/pip/wheels/13/e4/6c/e8059816e86796a597c6e6b0d4c880630f51a1fcfa0befd5e6\n",
            "  Building wheel for flask-cachebuster (setup.py) ... \u001b[?25l\u001b[?25hdone\n",
            "  Created wheel for flask-cachebuster: filename=Flask_CacheBuster-1.0.0-py3-none-any.whl size=3371 sha256=73803986135ded7e83a3aa034863ef603a996f081bf695229521fa70d8ec1b7a\n",
            "  Stored in directory: /root/.cache/pip/wheels/28/c0/c4/44687421dab41455be93112bd1b0dee1f3c5a9aa27bee63708\n",
            "Successfully built ffmpy flask-cachebuster\n",
            "Installing collected packages: pynacl, monotonic, cryptography, bcrypt, backoff, pydub, pycryptodome, paramiko, markdown2, Flask-Login, Flask-Cors, flask-cachebuster, ffmpy, analytics-python, gradio\n",
            "Successfully installed Flask-Cors-3.0.10 Flask-Login-0.5.0 analytics-python-1.4.0 backoff-1.10.0 bcrypt-3.2.0 cryptography-35.0.0 ffmpy-0.3.0 flask-cachebuster-1.0.0 gradio-2.3.7 markdown2-2.4.1 monotonic-1.6 paramiko-2.8.0 pycryptodome-3.11.0 pydub-0.25.1 pynacl-1.4.0\n"
          ]
        }
      ]
    },
    {
      "cell_type": "code",
      "metadata": {
        "id": "N-4iz2L0-iHq"
      },
      "source": [
        "import gradio as gr"
      ],
      "execution_count": null,
      "outputs": []
    },
    {
      "cell_type": "code",
      "metadata": {
        "id": "tylO-ADXno9B"
      },
      "source": [
        "def get_encode(x):\n",
        "  x=token1.texts_to_sequences(x)\n",
        "  x=pad_sequences(x, maxlen=max_kata, padding='post')\n",
        "  predict_x=model.predict(x)\n",
        "  classes_x=np.argmax(predict_x,axis=1)\n",
        "  return classes_x"
      ],
      "execution_count": null,
      "outputs": []
    },
    {
      "cell_type": "code",
      "metadata": {
        "id": "1npx_39_EGCT"
      },
      "source": [
        "def get_encode(x):\n",
        "  x=token1.texts_to_sequences(x)\n",
        "  x=pad_sequences(x, maxlen=max_kata, padding='post')\n",
        "  return x"
      ],
      "execution_count": null,
      "outputs": []
    },
    {
      "cell_type": "code",
      "metadata": {
        "id": "P5b-ye2oSTAP"
      },
      "source": [
        "def get_encode(x):\n",
        "  x=token1.texts_to_sequences(x)\n",
        "  x=pad_sequences(x, maxlen=max_kata, padding='post')\n",
        "  predict_x=model.predict(x)\n",
        "  print(predict_x)\n",
        "  prob_x=np.max(predict_x, axis=1)\n",
        "  classes_x=np.argmax(predict_x,axis=1)\n",
        "  return classes_x, round(prob_x[0])"
      ],
      "execution_count": null,
      "outputs": []
    },
    {
      "cell_type": "code",
      "metadata": {
        "colab": {
          "base_uri": "https://localhost:8080/"
        },
        "id": "U_QZEoEwWkoc",
        "outputId": "4d6a7a14-d168-4b63-b72c-fc36ba11274e"
      },
      "source": [
        "get_encode('Semarang hebat')"
      ],
      "execution_count": null,
      "outputs": [
        {
          "output_type": "stream",
          "name": "stdout",
          "text": [
            "[[0.23449636 0.7491797  0.01632398]\n",
            " [0.26482272 0.354344   0.3808333 ]\n",
            " [0.01759321 0.94845283 0.03395393]\n",
            " [0.3004989  0.36732167 0.33217943]\n",
            " [0.28680444 0.34133515 0.3718604 ]\n",
            " [0.3004989  0.36732167 0.33217943]\n",
            " [0.23350278 0.46493992 0.3015573 ]\n",
            " [0.2343699  0.396893   0.36873713]\n",
            " [0.28680444 0.34133515 0.3718604 ]\n",
            " [0.2807975  0.36019853 0.35900396]\n",
            " [0.26482272 0.354344   0.3808333 ]\n",
            " [0.04548858 0.9413951  0.01311627]\n",
            " [0.3004989  0.36732167 0.33217943]\n",
            " [0.13193291 0.7927755  0.0752916 ]]\n"
          ]
        },
        {
          "output_type": "execute_result",
          "data": {
            "text/plain": [
              "(array([1, 2, 1, 1, 2, 1, 1, 1, 2, 1, 2, 1, 1, 1]), 1)"
            ]
          },
          "metadata": {},
          "execution_count": 86
        }
      ]
    },
    {
      "cell_type": "code",
      "metadata": {
        "id": "8sRiK2DRo2Sn",
        "colab": {
          "base_uri": "https://localhost:8080/"
        },
        "outputId": "ab27c72b-118d-444c-b1d2-a3b2091cf17b"
      },
      "source": [
        "x=['Semarang hebat']\n",
        "x=get_encode(x)"
      ],
      "execution_count": null,
      "outputs": [
        {
          "output_type": "stream",
          "name": "stdout",
          "text": [
            "[0.9838154]\n"
          ]
        }
      ]
    },
    {
      "cell_type": "code",
      "metadata": {
        "colab": {
          "base_uri": "https://localhost:8080/"
        },
        "id": "yiYPlMpApC7M",
        "outputId": "3e1b2d01-5d1a-49ee-cc4c-9c1a3cad5a8b"
      },
      "source": [
        "model.predict(x)"
      ],
      "execution_count": null,
      "outputs": [
        {
          "output_type": "execute_result",
          "data": {
            "text/plain": [
              "array([[4.1386651e-05, 8.5382519e-05, 9.9987316e-01]], dtype=float32)"
            ]
          },
          "metadata": {},
          "execution_count": 69
        }
      ]
    },
    {
      "cell_type": "code",
      "metadata": {
        "colab": {
          "base_uri": "https://localhost:8080/"
        },
        "id": "EvE9V6R2qUFL",
        "outputId": "ed1c94db-d40b-49ad-b5b4-c3b351b01b27"
      },
      "source": [
        "predict_x=model.predict(x)\n",
        "classes_x=np.argmax(predict_x,axis=1)\n",
        "classes_x"
      ],
      "execution_count": null,
      "outputs": [
        {
          "output_type": "execute_result",
          "data": {
            "text/plain": [
              "array([2])"
            ]
          },
          "metadata": {},
          "execution_count": 61
        }
      ]
    },
    {
      "cell_type": "code",
      "metadata": {
        "id": "l-FXdiJBCSKE"
      },
      "source": [
        "hasil=classes_x"
      ],
      "execution_count": null,
      "outputs": []
    },
    {
      "cell_type": "code",
      "metadata": {
        "id": "EBvRrhkML8aH"
      },
      "source": [
        "gradio_ui = gr.Interface(\n",
        "    fn=get_encode,\n",
        "    title=\"Sentiment Analysis\",\n",
        "    description=\"Enter some text and see if the Distilbert model can gauge the sentiment correctly\",\n",
        "    inputs=gr.inputs.Textbox(lines=10, label=\"Paste some text here\"),\n",
        "    outputs=[\n",
        "        gr.outputs.Textbox(label=\"Sentiment Label\"),\n",
        "        gr.outputs.Textbox(label=\"Sentiment Score\"),\n",
        "    ],\n",
        ")"
      ],
      "execution_count": null,
      "outputs": []
    },
    {
      "cell_type": "code",
      "metadata": {
        "colab": {
          "base_uri": "https://localhost:8080/",
          "height": 640
        },
        "id": "47q-gSyFMN7Q",
        "outputId": "639dd04f-af01-4b4e-b162-53be0b4db0ac"
      },
      "source": [
        "gradio_ui.launch()"
      ],
      "execution_count": null,
      "outputs": [
        {
          "output_type": "stream",
          "name": "stdout",
          "text": [
            "Colab notebook detected. To show errors in colab notebook, set `debug=True` in `launch()`\n",
            "This share link will expire in 72 hours. If you need a permanent link, visit: https://gradio.app/introducing-hosted\n",
            "Running on External URL: https://59083.gradio.app\n",
            "Interface loading below...\n"
          ]
        },
        {
          "output_type": "display_data",
          "data": {
            "text/html": [
              "\n",
              "        <iframe\n",
              "            width=\"900\"\n",
              "            height=\"500\"\n",
              "            src=\"https://59083.gradio.app\"\n",
              "            frameborder=\"0\"\n",
              "            allowfullscreen\n",
              "        ></iframe>\n",
              "        "
            ],
            "text/plain": [
              "<IPython.lib.display.IFrame at 0x7f85e2614210>"
            ]
          },
          "metadata": {}
        },
        {
          "output_type": "execute_result",
          "data": {
            "text/plain": [
              "(<Flask 'gradio.networking'>,\n",
              " 'http://127.0.0.1:7863/',\n",
              " 'https://59083.gradio.app')"
            ]
          },
          "metadata": {},
          "execution_count": 82
        }
      ]
    },
    {
      "cell_type": "code",
      "metadata": {
        "id": "jgYnLviX_nm3"
      },
      "source": [
        "gr.Interface(fn=get_encode, inputs=[\"text\"], outputs=\"text\").launch()"
      ],
      "execution_count": null,
      "outputs": []
    },
    {
      "cell_type": "code",
      "metadata": {
        "id": "LLhtHNNe_WjK"
      },
      "source": [
        "iface="
      ],
      "execution_count": null,
      "outputs": []
    }
  ]
}