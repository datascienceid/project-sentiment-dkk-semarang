{
  "nbformat": 4,
  "nbformat_minor": 0,
  "metadata": {
    "colab": {
      "name": "Copy_of_Sentiment_Analysis_DKK_Semarang_(Word2Vec_Fasttext_&_CNN)_with_Emoji.ipynb",
      "provenance": [],
      "collapsed_sections": []
    },
    "kernelspec": {
      "display_name": "Python 3",
      "name": "python3"
    },
    "language_info": {
      "name": "python"
    },
    "accelerator": "GPU"
  },
  "cells": [
    {
      "cell_type": "code",
      "metadata": {
        "colab": {
          "base_uri": "https://localhost:8080/"
        },
        "id": "R9sxaobncL2T",
        "outputId": "3bbff5ce-358a-478e-eb85-59771c5d056f"
      },
      "source": [
        "!pip install emoji"
      ],
      "execution_count": null,
      "outputs": [
        {
          "output_type": "stream",
          "name": "stdout",
          "text": [
            "Collecting emoji\n",
            "  Downloading emoji-1.6.1.tar.gz (170 kB)\n",
            "\u001b[?25l\r\u001b[K     |██                              | 10 kB 24.1 MB/s eta 0:00:01\r\u001b[K     |███▉                            | 20 kB 22.9 MB/s eta 0:00:01\r\u001b[K     |█████▉                          | 30 kB 11.2 MB/s eta 0:00:01\r\u001b[K     |███████▊                        | 40 kB 9.0 MB/s eta 0:00:01\r\u001b[K     |█████████▋                      | 51 kB 5.1 MB/s eta 0:00:01\r\u001b[K     |███████████▋                    | 61 kB 5.4 MB/s eta 0:00:01\r\u001b[K     |█████████████▌                  | 71 kB 5.9 MB/s eta 0:00:01\r\u001b[K     |███████████████▍                | 81 kB 6.5 MB/s eta 0:00:01\r\u001b[K     |█████████████████▍              | 92 kB 6.7 MB/s eta 0:00:01\r\u001b[K     |███████████████████▎            | 102 kB 5.3 MB/s eta 0:00:01\r\u001b[K     |█████████████████████▏          | 112 kB 5.3 MB/s eta 0:00:01\r\u001b[K     |███████████████████████▏        | 122 kB 5.3 MB/s eta 0:00:01\r\u001b[K     |█████████████████████████       | 133 kB 5.3 MB/s eta 0:00:01\r\u001b[K     |███████████████████████████     | 143 kB 5.3 MB/s eta 0:00:01\r\u001b[K     |█████████████████████████████   | 153 kB 5.3 MB/s eta 0:00:01\r\u001b[K     |██████████████████████████████▉ | 163 kB 5.3 MB/s eta 0:00:01\r\u001b[K     |████████████████████████████████| 170 kB 5.3 MB/s \n",
            "\u001b[?25hBuilding wheels for collected packages: emoji\n",
            "  Building wheel for emoji (setup.py) ... \u001b[?25l\u001b[?25hdone\n",
            "  Created wheel for emoji: filename=emoji-1.6.1-py3-none-any.whl size=169314 sha256=c3c85001b2c58ac2583c57c329667952e48f6c2fba58af097f19055aec711382\n",
            "  Stored in directory: /root/.cache/pip/wheels/ea/5f/d3/03d313ddb3c2a1a427bb4690f1621eea60fe6f2a30cc95940f\n",
            "Successfully built emoji\n",
            "Installing collected packages: emoji\n",
            "Successfully installed emoji-1.6.1\n"
          ]
        }
      ]
    },
    {
      "cell_type": "code",
      "metadata": {
        "colab": {
          "base_uri": "https://localhost:8080/"
        },
        "id": "KIE1_DpxsJEG",
        "outputId": "6ef51e68-d1aa-4564-a4f3-96179e30359d"
      },
      "source": [
        "from google.colab import drive\n",
        "drive.mount('/content/drive')"
      ],
      "execution_count": null,
      "outputs": [
        {
          "output_type": "stream",
          "name": "stdout",
          "text": [
            "Mounted at /content/drive\n"
          ]
        }
      ]
    },
    {
      "cell_type": "markdown",
      "metadata": {
        "id": "O73_3IGSiStg"
      },
      "source": [
        "# Import libraries"
      ]
    },
    {
      "cell_type": "code",
      "metadata": {
        "id": "XM2i-RdoiTy7"
      },
      "source": [
        "import pandas as pd\n",
        "import numpy as np\n",
        "import matplotlib.pyplot as plt\n",
        "import string, re, requests, csv\n",
        "from google.colab import drive\n",
        "from wordcloud import WordCloud\n",
        "from gensim.corpora import WikiCorpus"
      ],
      "execution_count": null,
      "outputs": []
    },
    {
      "cell_type": "code",
      "metadata": {
        "colab": {
          "base_uri": "https://localhost:8080/"
        },
        "id": "_TUbZKrJiVOU",
        "outputId": "ba46bb33-109b-412c-ac60-aedbba687a4e"
      },
      "source": [
        "from nltk import word_tokenize, sent_tokenize\n",
        "import nltk\n",
        "from nltk.corpus import stopwords\n",
        "nltk.download('stopwords')\n",
        "nltk.download('punkt')"
      ],
      "execution_count": null,
      "outputs": [
        {
          "output_type": "stream",
          "name": "stdout",
          "text": [
            "[nltk_data] Downloading package stopwords to /root/nltk_data...\n",
            "[nltk_data]   Unzipping corpora/stopwords.zip.\n",
            "[nltk_data] Downloading package punkt to /root/nltk_data...\n",
            "[nltk_data]   Unzipping tokenizers/punkt.zip.\n"
          ]
        },
        {
          "output_type": "execute_result",
          "data": {
            "text/plain": [
              "True"
            ]
          },
          "metadata": {},
          "execution_count": 4
        }
      ]
    },
    {
      "cell_type": "markdown",
      "metadata": {
        "id": "B_ovLo6EiX2_"
      },
      "source": [
        "# Load dataset"
      ]
    },
    {
      "cell_type": "code",
      "metadata": {
        "colab": {
          "base_uri": "https://localhost:8080/",
          "height": 206
        },
        "id": "8qMho9XsiWdX",
        "outputId": "f518165a-8c8c-49b8-8515-370565df758e"
      },
      "source": [
        "train = pd.read_csv('/content/train.csv')\n",
        "test = pd.read_csv('/content/test.csv')\n",
        "\n",
        "train.head()"
      ],
      "execution_count": null,
      "outputs": [
        {
          "output_type": "execute_result",
          "data": {
            "text/html": [
              "<div>\n",
              "<style scoped>\n",
              "    .dataframe tbody tr th:only-of-type {\n",
              "        vertical-align: middle;\n",
              "    }\n",
              "\n",
              "    .dataframe tbody tr th {\n",
              "        vertical-align: top;\n",
              "    }\n",
              "\n",
              "    .dataframe thead th {\n",
              "        text-align: right;\n",
              "    }\n",
              "</style>\n",
              "<table border=\"1\" class=\"dataframe\">\n",
              "  <thead>\n",
              "    <tr style=\"text-align: right;\">\n",
              "      <th></th>\n",
              "      <th>text</th>\n",
              "      <th>label</th>\n",
              "      <th>username</th>\n",
              "      <th>likes</th>\n",
              "      <th>datetime</th>\n",
              "    </tr>\n",
              "  </thead>\n",
              "  <tbody>\n",
              "    <tr>\n",
              "      <th>0</th>\n",
              "      <td>🔥</td>\n",
              "      <td>negative</td>\n",
              "      <td>lanyardsemarang</td>\n",
              "      <td>0</td>\n",
              "      <td>2020-11-02</td>\n",
              "    </tr>\n",
              "    <tr>\n",
              "      <th>1</th>\n",
              "      <td>Naik Turun maju can5ik 😂😂😂😂</td>\n",
              "      <td>neutral</td>\n",
              "      <td>hadi_soeparno</td>\n",
              "      <td>1</td>\n",
              "      <td>2021-03-29</td>\n",
              "    </tr>\n",
              "    <tr>\n",
              "      <th>2</th>\n",
              "      <td>Prosentase tingkat kematian karena covid 19 ut...</td>\n",
              "      <td>neutral</td>\n",
              "      <td>heryadisaputro</td>\n",
              "      <td>0</td>\n",
              "      <td>2020-09-22</td>\n",
              "    </tr>\n",
              "    <tr>\n",
              "      <th>3</th>\n",
              "      <td>Rapid test/ test swab PCR Di DKK/dinkes Semara...</td>\n",
              "      <td>negative</td>\n",
              "      <td>airlangga15</td>\n",
              "      <td>0</td>\n",
              "      <td>2020-05-29</td>\n",
              "    </tr>\n",
              "    <tr>\n",
              "      <th>4</th>\n",
              "      <td>Min, area pedurungan bs dilakukan dmn,</td>\n",
              "      <td>neutral</td>\n",
              "      <td>fauzanabell</td>\n",
              "      <td>0</td>\n",
              "      <td>2021-06-22</td>\n",
              "    </tr>\n",
              "  </tbody>\n",
              "</table>\n",
              "</div>"
            ],
            "text/plain": [
              "                                                text  ...    datetime\n",
              "0                                                  🔥  ...  2020-11-02\n",
              "1                        Naik Turun maju can5ik 😂😂😂😂  ...  2021-03-29\n",
              "2  Prosentase tingkat kematian karena covid 19 ut...  ...  2020-09-22\n",
              "3  Rapid test/ test swab PCR Di DKK/dinkes Semara...  ...  2020-05-29\n",
              "4             Min, area pedurungan bs dilakukan dmn,  ...  2021-06-22\n",
              "\n",
              "[5 rows x 5 columns]"
            ]
          },
          "metadata": {},
          "execution_count": 5
        }
      ]
    },
    {
      "cell_type": "markdown",
      "metadata": {
        "id": "CSpz3SrTigew"
      },
      "source": [
        "# EDA"
      ]
    },
    {
      "cell_type": "markdown",
      "metadata": {
        "id": "RrLHGvjxjNP_"
      },
      "source": [
        "## Wordcloud"
      ]
    },
    {
      "cell_type": "code",
      "metadata": {
        "id": "HbVXS7syidAd"
      },
      "source": [
        "# positive comments before preprocessing\n",
        "# data_pos = train[train['label'] == 'positive']\n",
        "\n",
        "# all_text = ' '.join(word for word in data_pos['text'])\n",
        "# wordcloud = WordCloud(colormap='Greens', width=1000, height=1000, mode='RGBA', background_color='white').generate(all_text)\n",
        "# plt.figure(figsize=(20,10))\n",
        "# plt.imshow(wordcloud, interpolation='bilinear')\n",
        "# plt.axis(\"off\")\n",
        "# plt.margins(x=0, y=0)\n",
        "# plt.show()"
      ],
      "execution_count": null,
      "outputs": []
    },
    {
      "cell_type": "code",
      "metadata": {
        "id": "z9yRzPoYimIE"
      },
      "source": [
        "# negative comments before preprocessing\n",
        "# data_neg = train[train['label'] == 'negative']\n",
        "\n",
        "# all_text = ' '.join(word for word in data_neg['text'])\n",
        "# wordcloud = WordCloud(colormap='Reds', width=1000, height=1000, mode='RGBA', background_color='white').generate(all_text)\n",
        "# plt.figure(figsize=(20,10))\n",
        "# plt.imshow(wordcloud, interpolation='bilinear')\n",
        "# plt.axis(\"off\")\n",
        "# plt.margins(x=0, y=0)\n",
        "# plt.show()"
      ],
      "execution_count": null,
      "outputs": []
    },
    {
      "cell_type": "code",
      "metadata": {
        "id": "Olxg2IjAjByz"
      },
      "source": [
        "# neutral comments before preprocessing\n",
        "# data_neut = train[train['label'] == 'neutral']\n",
        "\n",
        "# all_text = ' '.join(word for word in data_neut['text'])\n",
        "# wordcloud = WordCloud(colormap='Blues', width=1000, height=1000, mode='RGBA', background_color='white').generate(all_text)\n",
        "# plt.figure(figsize=(20,10))\n",
        "# plt.imshow(wordcloud, interpolation='bilinear')\n",
        "# plt.axis(\"off\")\n",
        "# plt.margins(x=0, y=0)\n",
        "# plt.show()"
      ],
      "execution_count": null,
      "outputs": []
    },
    {
      "cell_type": "code",
      "metadata": {
        "colab": {
          "base_uri": "https://localhost:8080/"
        },
        "id": "WBmjPgdt_Obw",
        "outputId": "f0cf42d2-f164-4b09-c72b-ce08af2a8135"
      },
      "source": [
        "# value counts\n",
        "train['label'].value_counts()"
      ],
      "execution_count": null,
      "outputs": [
        {
          "output_type": "execute_result",
          "data": {
            "text/plain": [
              "neutral     2926\n",
              "negative    2775\n",
              "positive    2266\n",
              "Name: label, dtype: int64"
            ]
          },
          "metadata": {},
          "execution_count": 9
        }
      ]
    },
    {
      "cell_type": "markdown",
      "metadata": {
        "id": "vygorxeojRKo"
      },
      "source": [
        "# Preprocess"
      ]
    },
    {
      "cell_type": "code",
      "metadata": {
        "id": "5-RvDQEljeEV"
      },
      "source": [
        "train_text = train['text']\n",
        "test_text = test['text']"
      ],
      "execution_count": null,
      "outputs": []
    },
    {
      "cell_type": "code",
      "metadata": {
        "id": "pra6PprkPoWV"
      },
      "source": [
        "# CLEANSING\n",
        "def cleansing(data):\n",
        "\n",
        "    # lowercasing\n",
        "    data = data.lower()\n",
        "\n",
        "    # remove punctuation\n",
        "    punct = string.punctuation\n",
        "    translator = str.maketrans(punct, ' '*len(punct))\n",
        "    data = data.translate(translator)\n",
        "\n",
        "    # remove ASCII dan unicode\n",
        "    # data = data.encode('ascii', 'ignore').decode('utf-8')\n",
        "    # data = re.sub(r'[^\\x00-\\x7f]',r'', data)\n",
        "    \n",
        "    # remove newline\n",
        "    data = data.replace('\\n', ' ')\n",
        "\n",
        "    # remove digit\n",
        "    pattern = r'[0-9]'\n",
        "    data = re.sub(pattern, '', data)\n",
        "\n",
        "    # remove extra space\n",
        "    data = ' '.join(data.split())\n",
        "    \n",
        "    return data\n",
        "\n",
        "import sys\n",
        "# REMOVE EMOJI\n",
        "# def remove_emoji(data):\n",
        "#     emoji_pattern = re.compile(\"[\"\n",
        "#                            u\"\\U0001F600-\\U0001F64F\"  # emoticons\n",
        "#                            u\"\\U0001F300-\\U0001F5FF\"  # symbols & pictographs\n",
        "#                            u\"\\U0001F680-\\U0001F6FF\"  # transport & map symbols\n",
        "#                            u\"\\U0001F1E0-\\U0001F1FF\"  # flags (iOS)\n",
        "#                            u\"\\U00002702-\\U000027B0\"\n",
        "#                            u\"\\U000024C2-\\U0001F251\"\n",
        "#                            \"]+\", flags=re.UNICODE)\n",
        "#     return emoji_pattern.sub(r' ', data)\n",
        "\n",
        "# CONVERT EMOJIS\n",
        "import emoji\n",
        "import functools\n",
        "import operator\n",
        "import re\n",
        "\n",
        "df_emoji = pd.read_csv('emoji_to_text.csv')\n",
        "UNICODE_EMO = {row['emoji']:row['makna'] for idx,row in df_emoji.iterrows()}\n",
        "def convert_emojis(text):\n",
        "    # split emojis\n",
        "    em_split_emoji = emoji.get_emoji_regexp().split(text)\n",
        "    em_split_whitespace = [substr.split() for substr in em_split_emoji]\n",
        "    em_split = functools.reduce(operator.concat, em_split_whitespace)\n",
        "    text = ' '.join(em_split)\n",
        "\n",
        "    # convert emojis\n",
        "    for emot in UNICODE_EMO:\n",
        "        text = re.sub(r'('+emot+')', \"_\".join(UNICODE_EMO[emot].replace(\",\",\"\").replace(\":\",\"\").split()), text)\n",
        "    return text.lower()\n",
        "\n",
        "# CONSTRUCT KAMUS ALAY\n",
        "text_path1 = 'https://raw.githubusercontent.com/ramaprakoso/analisis-sentimen/master/kamus/kbba.txt'\n",
        "text_path2 = 'https://raw.githubusercontent.com/nasalsabila/kamus-alay/master/colloquial-indonesian-lexicon.csv'\n",
        "kamus_alay1 = pd.read_csv(text_path1, delimiter=\"\\t\", header=None, names=['slang', 'formal'])\n",
        "kamus_alay2 = pd.read_csv(text_path2)\n",
        "kamus_alay = pd.concat([kamus_alay1, kamus_alay2[['slang', 'formal']]]).reset_index(drop=True)\n",
        "\n",
        "dict_alay = dict()\n",
        "for index, row in kamus_alay.iterrows():\n",
        "    dict_alay[row['slang']] = row['formal']\n",
        "\n",
        "# NORMALIZE COLLOQUIAL/ALAY\n",
        "def normalize_text(data):\n",
        "  word_tokens = word_tokenize(data)\n",
        "  result = [dict_alay.get(w,w) for w in word_tokens]\n",
        "  return ' '.join(result)\n",
        "\n",
        "\n",
        "# CONSTRUCT STOPWORDS\n",
        "rama_stopword = \"https://raw.githubusercontent.com/ramaprakoso/analisis-sentimen/master/kamus/stopword.txt\"\n",
        "yutomo_stopword = \"https://raw.githubusercontent.com/yasirutomo/python-sentianalysis-id/master/data/feature_list/stopwordsID.txt\"\n",
        "fpmipa_stopword = \"https://raw.githubusercontent.com/onlyphantom/elangdev/master/elang/word2vec/utils/stopwords-list/fpmipa-stopwords.txt\"\n",
        "sastrawi_stopword = \"https://raw.githubusercontent.com/onlyphantom/elangdev/master/elang/word2vec/utils/stopwords-list/sastrawi-stopwords.txt\"\n",
        "aliakbar_stopword = \"https://raw.githubusercontent.com/onlyphantom/elangdev/master/elang/word2vec/utils/stopwords-list/aliakbars-bilp.txt\"\n",
        "pebahasa_stopword = \"https://raw.githubusercontent.com/onlyphantom/elangdev/master/elang/word2vec/utils/stopwords-list/pebbie-pebahasa.txt\"\n",
        "elang_stopword = \"https://raw.githubusercontent.com/onlyphantom/elangdev/master/elang/word2vec/utils/stopwords-id.txt\"\n",
        "nltk_stopword = stopwords.words('indonesian')\n",
        "\n",
        "path_stopwords = [rama_stopword, yutomo_stopword, fpmipa_stopword, sastrawi_stopword, \n",
        "                  aliakbar_stopword, pebahasa_stopword, elang_stopword]\n",
        "\n",
        "# CUSTOM STOPWORDS\n",
        "other = '''\n",
        "admin mimin min minkes kalo nya username\n",
        "'''\n",
        "\n",
        "# gabungkan stopwords\n",
        "stopwords_l = nltk_stopword\n",
        "for path in path_stopwords:\n",
        "    response = requests.get(path)\n",
        "    stopwords_l += response.text.split('\\n')\n",
        "\n",
        "st_words = set(stopwords_l)\n",
        "other_stopword = set(other.split())\n",
        "\n",
        "stop_words = st_words | other_stopword\n",
        "\n",
        "# REMOVE STOPWORDS\n",
        "def remove_stopword(text, stop_words=stop_words):\n",
        "    word_tokens = word_tokenize(text)\n",
        "    filtered_sentence = [w for w in word_tokens if not w in stop_words]\n",
        "    return ' '.join(filtered_sentence)"
      ],
      "execution_count": null,
      "outputs": []
    },
    {
      "cell_type": "code",
      "metadata": {
        "id": "CE26lhvxQT8-"
      },
      "source": [
        "# full pipeline preprocess\n",
        "def preprocess(data):\n",
        "    data = cleansing(data)\n",
        "    # data = remove_emoji(data)\n",
        "    data = convert_emojis(data)\n",
        "    data = normalize_text(data)\n",
        "    data = remove_stopword(data)\n",
        "    return data"
      ],
      "execution_count": null,
      "outputs": []
    },
    {
      "cell_type": "code",
      "metadata": {
        "id": "j9iH2W-dQfVy"
      },
      "source": [
        "# rename username to @username\n",
        "# pattern = \"(?:@)([A-Za-z0-9_](?:(?:[A-Za-z0-9_]|(?:\\.(?!\\.))){0,28}(?:[A-Za-z0-9_]))?)\"\n",
        "# train_text = train_text.apply(lambda x: re.sub(pattern, \"@username\", x))\n",
        "# test_text = test_text.apply(lambda x: re.sub(pattern, \"@username\", x))\n",
        "\n",
        "# # preprocess\n",
        "# train_text = train_text.apply(lambda x: preprocess(x))\n",
        "# test_text = test_text.apply(lambda x: preprocess(x))"
      ],
      "execution_count": null,
      "outputs": []
    },
    {
      "cell_type": "code",
      "metadata": {
        "id": "kQCppfUgRDpD"
      },
      "source": [
        "# train_text.head()"
      ],
      "execution_count": null,
      "outputs": []
    },
    {
      "cell_type": "markdown",
      "metadata": {
        "id": "mxpRrMG7lBWN"
      },
      "source": [
        "# Feature extraction (Word2Vec Fasttext)"
      ]
    },
    {
      "cell_type": "code",
      "metadata": {
        "colab": {
          "base_uri": "https://localhost:8080/"
        },
        "id": "r67cV8pOaMCO",
        "outputId": "262a776d-1837-40bf-a04f-8ff5503330b9"
      },
      "source": [
        "y_train =  pd.get_dummies(train['label']).values\n",
        "y_test =  pd.get_dummies(test['label']).values\n",
        "\n",
        "y_train.shape, y_test.shape"
      ],
      "execution_count": null,
      "outputs": [
        {
          "output_type": "execute_result",
          "data": {
            "text/plain": [
              "((7967, 3), (1992, 3))"
            ]
          },
          "metadata": {},
          "execution_count": 15
        }
      ]
    },
    {
      "cell_type": "code",
      "metadata": {
        "id": "izJ_MRj1adL5"
      },
      "source": [
        "# y_train[1], y_train[0], y_train[5]"
      ],
      "execution_count": null,
      "outputs": []
    },
    {
      "cell_type": "code",
      "metadata": {
        "id": "ilEt5X-2TFdd"
      },
      "source": [
        "# dowload pre-trained word2vec fasttext indonesia\n",
        "# ! wget https://dl.fbaipublicfiles.com/fasttext/vectors-crawl/cc.id.300.bin.gz\n",
        "# unzip\n",
        "# ! gunzip cc.id.300.bin.gz"
      ],
      "execution_count": null,
      "outputs": []
    },
    {
      "cell_type": "code",
      "metadata": {
        "id": "Xgo_mSNlTFmf"
      },
      "source": [
        "from gensim.models import KeyedVectors\n",
        "from gensim.models.wrappers import FastText\n",
        "\n",
        "# load pre-trained word2vec fasttext\n",
        "# word2vec = FastText.load_fasttext_format('cc.id.300.bin')"
      ],
      "execution_count": null,
      "outputs": []
    },
    {
      "cell_type": "code",
      "metadata": {
        "id": "vjFqBV8STFrv"
      },
      "source": [
        "# check vocab pada pre-trained model\n",
        "# vocab = word2vec.wv.vocab\n",
        "# words = word2vec.wv.index2word\n",
        "\n",
        "# print(f'vocabulary length: {len(vocab)}')\n",
        "# print(f'top 20 words in word2vec:\\n{words[:20]}')"
      ],
      "execution_count": null,
      "outputs": []
    },
    {
      "cell_type": "code",
      "metadata": {
        "id": "ZU62kF7DgFtB"
      },
      "source": [
        "# get word vector 'makan'\n",
        "# word2vec['makan']"
      ],
      "execution_count": null,
      "outputs": []
    },
    {
      "cell_type": "code",
      "metadata": {
        "id": "rIbzJt4f3aTo"
      },
      "source": [
        "# tokenize text\n",
        "# def tokenize(sentence):\n",
        "#     return word_tokenize(sentence)\n",
        "\n",
        "# train_text = train_text.apply(lambda x: tokenize(x))\n",
        "# test_text = test_text.apply(lambda x: tokenize(x))"
      ],
      "execution_count": null,
      "outputs": []
    },
    {
      "cell_type": "code",
      "metadata": {
        "id": "Q39RgdCVmHpS"
      },
      "source": [
        "# vectorize\n",
        "# VOCABULARY = word2vec.wv.vocab\n",
        "# def vectorize(tokens):\n",
        "#     word_vec = []\n",
        "#     for w in tokens:\n",
        "#         if w in VOCABULARY:\n",
        "#             # get word vector from pre-trained word2vec fasttext\n",
        "#             word_vec.append(word2vec[w])\n",
        "#     return word_vec\n",
        "\n",
        "# def avg_vectorize(tokens):\n",
        "#     sum_vec = np.zeros(300)\n",
        "#     word_count = 0\n",
        "\n",
        "#     for w in tokens:\n",
        "#         if w in VOCABULARY:\n",
        "#             # word vector from pre-trained word2vec fasttext and add vector\n",
        "#             sum_vec += word2vec[w]\n",
        "#             word_count += 1\n",
        "#     return sum_vec if word_count==0 else sum_vec/word_count"
      ],
      "execution_count": null,
      "outputs": []
    },
    {
      "cell_type": "code",
      "metadata": {
        "id": "PDW2hKWkMzeR"
      },
      "source": [
        "# check maximum token and count\n",
        "# max_size_token = 0\n",
        "# count = 0\n",
        "# max_len_choosen = 50\n",
        "\n",
        "# for tok in train_text:\n",
        "#     # find max token\n",
        "#     if len(tok) > max_size_token: max_size_token = len(tok)\n",
        "#     # count\n",
        "#     if len(tok) > max_len_choosen: count += 1\n",
        "\n",
        "# print(f'Maximum length token: {max_size_token}')\n",
        "# print(f'With MAX_LEN {max_len_choosen}, there are/is {count} token/s')"
      ],
      "execution_count": null,
      "outputs": []
    },
    {
      "cell_type": "code",
      "metadata": {
        "id": "SokY7xpVJRFt"
      },
      "source": [
        "# padding\n",
        "# MAX_LEN = 50\n",
        "\n",
        "# def add_padding(word_vec):\n",
        "#     if len(word_vec) < MAX_LEN:\n",
        "#         pad_count = MAX_LEN - len(word_vec)\n",
        "#         return word_vec + [np.array([0]*300)]*pad_count\n",
        "#     else:\n",
        "#         return word_vec[:MAX_LEN]"
      ],
      "execution_count": null,
      "outputs": []
    },
    {
      "cell_type": "code",
      "metadata": {
        "id": "K6N3CmSgUJxN"
      },
      "source": [
        "# feature extraction\n",
        "# def extract_feature(data, ndim=3):\n",
        "#     if ndim == 3:\n",
        "#         features = vectorize(data)\n",
        "#         features = add_padding(features)\n",
        "#     elif ndim == 2:\n",
        "#         features = avg_vectorize(data)\n",
        "#     return np.array(features)"
      ],
      "execution_count": null,
      "outputs": []
    },
    {
      "cell_type": "code",
      "metadata": {
        "id": "W35NXCxQTm0n"
      },
      "source": [
        "# import numpy as np\n",
        "\n",
        "# # extract feature\n",
        "# comments_train_w2v = np.array([extract_feature(text, ndim=3) for text in train_text])\n",
        "# comments_test_w2v = np.array([extract_feature(text, ndim=3) for text in test_text])\n",
        "\n",
        "# comments_train_w2v.shape, comments_test_w2v.shape"
      ],
      "execution_count": null,
      "outputs": []
    },
    {
      "cell_type": "code",
      "metadata": {
        "id": "A78baC9oQkwy"
      },
      "source": [
        "# export numpy array train and test\n",
        "# np.save(\"train_wordvec.npy\", comments_train_w2v)\n",
        "# np.save(\"test_wordvec.npy\", comments_test_w2v)"
      ],
      "execution_count": null,
      "outputs": []
    },
    {
      "cell_type": "code",
      "metadata": {
        "colab": {
          "base_uri": "https://localhost:8080/"
        },
        "id": "G5ViPxSMoo75",
        "outputId": "e62f382b-cbc4-4cee-eb6c-694b445f9073"
      },
      "source": [
        "path_train = \"/content/drive/MyDrive/5. Research & Development/Kepengurusan 2021-2022/1 - Research Instagram DKK Semarang/Code and Model/train_wordvec.npy\"\n",
        "path_test = \"/content/drive/MyDrive/5. Research & Development/Kepengurusan 2021-2022/1 - Research Instagram DKK Semarang/Code and Model/test_wordvec.npy\"\n",
        "comments_train_w2v = np.load(path_train)\n",
        "comments_test_w2v = np.load(path_test)\n",
        "\n",
        "comments_train_w2v.shape, comments_test_w2v.shape"
      ],
      "execution_count": null,
      "outputs": [
        {
          "output_type": "execute_result",
          "data": {
            "text/plain": [
              "((7967, 50, 300), (1992, 50, 300))"
            ]
          },
          "metadata": {},
          "execution_count": 28
        }
      ]
    },
    {
      "cell_type": "code",
      "metadata": {
        "id": "_IKASGU5TmkN"
      },
      "source": [
        "from tensorflow.keras.models import Sequential\n",
        "from tensorflow.keras.layers import Dense, Embedding, Dropout\n",
        "from tensorflow.keras.optimizers import Adam\n",
        "# from tensorflow.keras.optimizers import Adam\n",
        "from tensorflow.keras.callbacks import ModelCheckpoint, EarlyStopping\n",
        "# from keras.layers import Conv1D, MaxPooling1D, GlobalMaxPooling1D\n",
        "from tensorflow.keras.layers import Conv1D, MaxPooling1D, GlobalMaxPooling1D  \n",
        "\n",
        "\n",
        "# model = Sequential()\n",
        "# model.add(Conv1D(64,8, activation='relu'))\n",
        "# model.add(MaxPooling1D(2))\n",
        "# model.add(Dropout(0.5))\n",
        "# model.add(Dense(32, activation='relu'))\n",
        "# model.add(Dropout(0.5))\n",
        "# model.add(Dense(16, activation='relu'))\n",
        "# model.add(GlobalMaxPooling1D())\n",
        "# model.add(Dense(3, activation='softmax'))\n",
        "# model.compile(optimizer='adam', loss='categorical_crossentropy', metrics=['accuracy'])\n",
        "\n",
        "\n",
        "# conv_1_filter: 448\n",
        "# conv_1_kernel: 16\n",
        "# units1: 64\n",
        "# units2: 32\n",
        "# learning_rate: 0.0001\n",
        "\n",
        "model = Sequential()\n",
        "model.add(Conv1D(448,16, activation='relu'))\n",
        "model.add(MaxPooling1D(2))\n",
        "model.add(Dropout(0.5))\n",
        "model.add(Dense(64, activation='relu'))\n",
        "model.add(Dropout(0.5))\n",
        "model.add(Dense(32, activation='relu'))\n",
        "model.add(GlobalMaxPooling1D())\n",
        "model.add(Dense(3, activation='softmax'))\n",
        "model.compile(optimizer=Adam(learning_rate=0.0001), \n",
        "              loss='categorical_crossentropy', metrics=['accuracy'])"
      ],
      "execution_count": null,
      "outputs": []
    },
    {
      "cell_type": "code",
      "metadata": {
        "colab": {
          "base_uri": "https://localhost:8080/"
        },
        "id": "9v03XMZiZ_wG",
        "outputId": "a447b3c5-18db-46c7-9f46-2c7acc17fdac"
      },
      "source": [
        "model.fit(\n",
        "      x=comments_train_w2v,\n",
        "      y=y_train,\n",
        "      epochs=30,\n",
        "      batch_size=32,\n",
        "      validation_split=0.2\n",
        ")"
      ],
      "execution_count": null,
      "outputs": [
        {
          "output_type": "stream",
          "name": "stdout",
          "text": [
            "Epoch 1/30\n",
            "200/200 [==============================] - 47s 228ms/step - loss: 1.0574 - accuracy: 0.4667 - val_loss: 1.0030 - val_accuracy: 0.6110\n",
            "Epoch 2/30\n",
            "200/200 [==============================] - 45s 226ms/step - loss: 0.9343 - accuracy: 0.6083 - val_loss: 0.8757 - val_accuracy: 0.6512\n",
            "Epoch 3/30\n",
            "200/200 [==============================] - 46s 230ms/step - loss: 0.8404 - accuracy: 0.6386 - val_loss: 0.8159 - val_accuracy: 0.6631\n",
            "Epoch 4/30\n",
            "200/200 [==============================] - 45s 227ms/step - loss: 0.7996 - accuracy: 0.6562 - val_loss: 0.8000 - val_accuracy: 0.6713\n",
            "Epoch 5/30\n",
            "200/200 [==============================] - 46s 229ms/step - loss: 0.7530 - accuracy: 0.6785 - val_loss: 0.7816 - val_accuracy: 0.6700\n",
            "Epoch 6/30\n",
            "200/200 [==============================] - 45s 227ms/step - loss: 0.7243 - accuracy: 0.6961 - val_loss: 0.7781 - val_accuracy: 0.6719\n",
            "Epoch 7/30\n",
            "200/200 [==============================] - 47s 237ms/step - loss: 0.6954 - accuracy: 0.7083 - val_loss: 0.7800 - val_accuracy: 0.6706\n",
            "Epoch 8/30\n",
            "200/200 [==============================] - 46s 230ms/step - loss: 0.6763 - accuracy: 0.7201 - val_loss: 0.7566 - val_accuracy: 0.6851\n",
            "Epoch 9/30\n",
            "200/200 [==============================] - 45s 227ms/step - loss: 0.6498 - accuracy: 0.7350 - val_loss: 0.7637 - val_accuracy: 0.6794\n",
            "Epoch 10/30\n",
            "200/200 [==============================] - 46s 228ms/step - loss: 0.6243 - accuracy: 0.7475 - val_loss: 0.7534 - val_accuracy: 0.6844\n",
            "Epoch 11/30\n",
            "200/200 [==============================] - 46s 229ms/step - loss: 0.5999 - accuracy: 0.7533 - val_loss: 0.7522 - val_accuracy: 0.6851\n",
            "Epoch 12/30\n",
            "200/200 [==============================] - 46s 229ms/step - loss: 0.5727 - accuracy: 0.7686 - val_loss: 0.7596 - val_accuracy: 0.6844\n",
            "Epoch 13/30\n",
            "200/200 [==============================] - 46s 231ms/step - loss: 0.5521 - accuracy: 0.7772 - val_loss: 0.7522 - val_accuracy: 0.6957\n",
            "Epoch 14/30\n",
            "200/200 [==============================] - 46s 231ms/step - loss: 0.5321 - accuracy: 0.7891 - val_loss: 0.7608 - val_accuracy: 0.6913\n",
            "Epoch 15/30\n",
            "200/200 [==============================] - 46s 229ms/step - loss: 0.5152 - accuracy: 0.7992 - val_loss: 0.7710 - val_accuracy: 0.6801\n",
            "Epoch 16/30\n",
            "200/200 [==============================] - 45s 227ms/step - loss: 0.4955 - accuracy: 0.8006 - val_loss: 0.7760 - val_accuracy: 0.6939\n",
            "Epoch 17/30\n",
            "200/200 [==============================] - 45s 226ms/step - loss: 0.4774 - accuracy: 0.8089 - val_loss: 0.7927 - val_accuracy: 0.6926\n",
            "Epoch 18/30\n",
            "200/200 [==============================] - 46s 231ms/step - loss: 0.4569 - accuracy: 0.8178 - val_loss: 0.8156 - val_accuracy: 0.6863\n",
            "Epoch 19/30\n",
            "200/200 [==============================] - 46s 230ms/step - loss: 0.4363 - accuracy: 0.8305 - val_loss: 0.8180 - val_accuracy: 0.6882\n",
            "Epoch 20/30\n",
            "200/200 [==============================] - 46s 229ms/step - loss: 0.4254 - accuracy: 0.8319 - val_loss: 0.8279 - val_accuracy: 0.6851\n",
            "Epoch 21/30\n",
            "200/200 [==============================] - 46s 232ms/step - loss: 0.4076 - accuracy: 0.8393 - val_loss: 0.8428 - val_accuracy: 0.6807\n",
            "Epoch 22/30\n",
            "200/200 [==============================] - 46s 232ms/step - loss: 0.3987 - accuracy: 0.8487 - val_loss: 0.8752 - val_accuracy: 0.6757\n",
            "Epoch 23/30\n",
            "200/200 [==============================] - 46s 231ms/step - loss: 0.3861 - accuracy: 0.8494 - val_loss: 0.8740 - val_accuracy: 0.6863\n",
            "Epoch 24/30\n",
            "200/200 [==============================] - 47s 233ms/step - loss: 0.3760 - accuracy: 0.8530 - val_loss: 0.9094 - val_accuracy: 0.6907\n",
            "Epoch 25/30\n",
            "200/200 [==============================] - 46s 230ms/step - loss: 0.3621 - accuracy: 0.8600 - val_loss: 0.9267 - val_accuracy: 0.6826\n",
            "Epoch 26/30\n",
            "200/200 [==============================] - 46s 232ms/step - loss: 0.3549 - accuracy: 0.8649 - val_loss: 0.9414 - val_accuracy: 0.6832\n",
            "Epoch 27/30\n",
            "200/200 [==============================] - 47s 233ms/step - loss: 0.3411 - accuracy: 0.8716 - val_loss: 0.9744 - val_accuracy: 0.6769\n",
            "Epoch 28/30\n",
            "200/200 [==============================] - 47s 233ms/step - loss: 0.3360 - accuracy: 0.8724 - val_loss: 0.9863 - val_accuracy: 0.6838\n",
            "Epoch 29/30\n",
            "200/200 [==============================] - 47s 234ms/step - loss: 0.3261 - accuracy: 0.8781 - val_loss: 0.9958 - val_accuracy: 0.6826\n",
            "Epoch 30/30\n",
            "200/200 [==============================] - 46s 230ms/step - loss: 0.3111 - accuracy: 0.8793 - val_loss: 1.0257 - val_accuracy: 0.6801\n"
          ]
        },
        {
          "output_type": "execute_result",
          "data": {
            "text/plain": [
              "<keras.callbacks.History at 0x7fa3ba5bff10>"
            ]
          },
          "metadata": {},
          "execution_count": 30
        }
      ]
    },
    {
      "cell_type": "code",
      "metadata": {
        "colab": {
          "base_uri": "https://localhost:8080/"
        },
        "id": "2qJfBRtd1oJJ",
        "outputId": "e0b537c2-d95f-4ef5-ec52-4038835bf064"
      },
      "source": [
        "print(model.summary())"
      ],
      "execution_count": null,
      "outputs": [
        {
          "output_type": "stream",
          "name": "stdout",
          "text": [
            "Model: \"sequential\"\n",
            "_________________________________________________________________\n",
            " Layer (type)                Output Shape              Param #   \n",
            "=================================================================\n",
            " conv1d (Conv1D)             (None, 35, 448)           2150848   \n",
            "                                                                 \n",
            " max_pooling1d (MaxPooling1D  (None, 17, 448)          0         \n",
            " )                                                               \n",
            "                                                                 \n",
            " dropout (Dropout)           (None, 17, 448)           0         \n",
            "                                                                 \n",
            " dense (Dense)               (None, 17, 64)            28736     \n",
            "                                                                 \n",
            " dropout_1 (Dropout)         (None, 17, 64)            0         \n",
            "                                                                 \n",
            " dense_1 (Dense)             (None, 17, 32)            2080      \n",
            "                                                                 \n",
            " global_max_pooling1d (Globa  (None, 32)               0         \n",
            " lMaxPooling1D)                                                  \n",
            "                                                                 \n",
            " dense_2 (Dense)             (None, 3)                 99        \n",
            "                                                                 \n",
            "=================================================================\n",
            "Total params: 2,181,763\n",
            "Trainable params: 2,181,763\n",
            "Non-trainable params: 0\n",
            "_________________________________________________________________\n",
            "None\n"
          ]
        }
      ]
    },
    {
      "cell_type": "code",
      "metadata": {
        "colab": {
          "base_uri": "https://localhost:8080/"
        },
        "id": "nN_EwLFX2nqb",
        "outputId": "0918ebc4-b9e0-4ef2-c19c-e050630abf23"
      },
      "source": [
        "loss, accuracy = model.evaluate(comments_train_w2v, y_train)"
      ],
      "execution_count": null,
      "outputs": [
        {
          "output_type": "stream",
          "name": "stdout",
          "text": [
            "249/249 [==============================] - 22s 87ms/step - loss: 0.4090 - accuracy: 0.8592\n"
          ]
        }
      ]
    },
    {
      "cell_type": "code",
      "metadata": {
        "id": "l3YF1_SgaQzI",
        "colab": {
          "base_uri": "https://localhost:8080/"
        },
        "outputId": "b2cdbf15-ec06-49b0-cecc-9f85c25e7a9a"
      },
      "source": [
        "# loss, accuracy = best_model.evaluate(comments_test_w2v, y_test)\n",
        "\n",
        "loss, accuracy = model.evaluate(comments_test_w2v, y_test)"
      ],
      "execution_count": null,
      "outputs": [
        {
          "output_type": "stream",
          "name": "stdout",
          "text": [
            "63/63 [==============================] - 5s 86ms/step - loss: 0.9146 - accuracy: 0.7063\n"
          ]
        }
      ]
    },
    {
      "cell_type": "code",
      "metadata": {
        "id": "Din8pA9Idam7"
      },
      "source": [
        "from tensorflow.keras.utils import plot_model"
      ],
      "execution_count": null,
      "outputs": []
    },
    {
      "cell_type": "code",
      "metadata": {
        "colab": {
          "base_uri": "https://localhost:8080/",
          "height": 976
        },
        "id": "28ExZIzUdapL",
        "outputId": "0d49c6f6-199c-462f-fd29-ed370635a386"
      },
      "source": [
        "plot_model(model, \n",
        "           to_file=\"Word2Vec CNN Architecture.png\",\n",
        "           show_shapes=True,\n",
        "           show_dtype=True,\n",
        "           show_layer_names=True,)"
      ],
      "execution_count": null,
      "outputs": [
        {
          "output_type": "execute_result",
          "data": {
            "image/png": "[encoded data removed]",
            "text/plain": [
              "<IPython.core.display.Image object>"
            ]
          },
          "metadata": {},
          "execution_count": 35
        }
      ]
    },
    {
      "cell_type": "code",
      "metadata": {
        "id": "dtRjgSeSdaqi"
      },
      "source": [
        ""
      ],
      "execution_count": null,
      "outputs": []
    },
    {
      "cell_type": "code",
      "metadata": {
        "id": "5WF0cDnzdasV"
      },
      "source": [
        ""
      ],
      "execution_count": null,
      "outputs": []
    },
    {
      "cell_type": "code",
      "metadata": {
        "id": "h-SnlSp-davw"
      },
      "source": [
        ""
      ],
      "execution_count": null,
      "outputs": []
    },
    {
      "cell_type": "code",
      "metadata": {
        "id": "MUGeP3sdrQc5"
      },
      "source": [
        "def get_encode(x):\n",
        "  x=comments_train_w2v.texts_to_sequences(x)\n",
        "  x=pad_sequences(x, maxlen=MAX_LEN, padding='post')\n",
        "  return x"
      ],
      "execution_count": null,
      "outputs": []
    },
    {
      "cell_type": "code",
      "metadata": {
        "id": "m89KdedEqaeL"
      },
      "source": [
        "sentence =['Semarang hebat']\n",
        "print"
      ],
      "execution_count": null,
      "outputs": []
    },
    {
      "cell_type": "code",
      "metadata": {
        "colab": {
          "base_uri": "https://localhost:8080/"
        },
        "id": "PGPUbf2CqWqN",
        "outputId": "901473f4-9e6b-4cbf-b24b-429c311dd7d0"
      },
      "source": [
        "len(comments_train_w2v)"
      ],
      "execution_count": null,
      "outputs": [
        {
          "output_type": "execute_result",
          "data": {
            "text/plain": [
              "7967"
            ]
          },
          "metadata": {},
          "execution_count": 56
        }
      ]
    },
    {
      "cell_type": "code",
      "metadata": {
        "colab": {
          "base_uri": "https://localhost:8080/"
        },
        "id": "xQbdkCe6abkm",
        "outputId": "9632733e-0ad7-4e15-c98d-69e17f8e1b99"
      },
      "source": [
        "y_train[:7]"
      ],
      "execution_count": null,
      "outputs": [
        {
          "output_type": "execute_result",
          "data": {
            "text/plain": [
              "array([[1, 0, 0],\n",
              "       [0, 1, 0],\n",
              "       [0, 1, 0],\n",
              "       [1, 0, 0],\n",
              "       [0, 1, 0],\n",
              "       [0, 0, 1],\n",
              "       [1, 0, 0]], dtype=uint8)"
            ]
          },
          "metadata": {},
          "execution_count": 54
        }
      ]
    },
    {
      "cell_type": "code",
      "metadata": {
        "colab": {
          "base_uri": "https://localhost:8080/"
        },
        "id": "vAdi52AIq8Qa",
        "outputId": "e23e4ce3-79a1-453f-e09a-c59787d6869a"
      },
      "source": [
        "y_train"
      ],
      "execution_count": null,
      "outputs": [
        {
          "output_type": "execute_result",
          "data": {
            "text/plain": [
              "array([[1, 0, 0],\n",
              "       [0, 1, 0],\n",
              "       [0, 1, 0],\n",
              "       ...,\n",
              "       [1, 0, 0],\n",
              "       [1, 0, 0],\n",
              "       [1, 0, 0]], dtype=uint8)"
            ]
          },
          "metadata": {},
          "execution_count": 59
        }
      ]
    },
    {
      "cell_type": "code",
      "metadata": {
        "id": "fyjSXkkCq1qB"
      },
      "source": [
        "y_atrain=np.asarray(y_train)"
      ],
      "execution_count": null,
      "outputs": []
    },
    {
      "cell_type": "code",
      "metadata": {
        "colab": {
          "base_uri": "https://localhost:8080/"
        },
        "id": "jl5UsGokq5pp",
        "outputId": "4f14f4ea-6881-4eff-d33c-a687858d9975"
      },
      "source": [
        "y_atrain"
      ],
      "execution_count": null,
      "outputs": [
        {
          "output_type": "execute_result",
          "data": {
            "text/plain": [
              "array([[1, 0, 0],\n",
              "       [0, 1, 0],\n",
              "       [0, 1, 0],\n",
              "       ...,\n",
              "       [1, 0, 0],\n",
              "       [1, 0, 0],\n",
              "       [1, 0, 0]], dtype=uint8)"
            ]
          },
          "metadata": {},
          "execution_count": 58
        }
      ]
    },
    {
      "cell_type": "code",
      "metadata": {
        "id": "-b460X4ZaZW2"
      },
      "source": [
        "def get_encode(x):\n",
        "  x=words(x)\n",
        "  x=add_padding(x, maxlen=MAX_LEN, padding='post')\n",
        "  return x"
      ],
      "execution_count": null,
      "outputs": []
    },
    {
      "cell_type": "code",
      "metadata": {
        "colab": {
          "base_uri": "https://localhost:8080/",
          "height": 163
        },
        "id": "cdQnrt7Xqeai",
        "outputId": "54048538-af01-448e-d013-c91ac2855a2f"
      },
      "source": [
        "word2vec.similar_by_word(\"semrg\",topn=5)"
      ],
      "execution_count": null,
      "outputs": [
        {
          "output_type": "error",
          "ename": "NameError",
          "evalue": "ignored",
          "traceback": [
            "\u001b[0;31m---------------------------------------------------------------------------\u001b[0m",
            "\u001b[0;31mNameError\u001b[0m                                 Traceback (most recent call last)",
            "\u001b[0;32m<ipython-input-1-d3ea49b477a6>\u001b[0m in \u001b[0;36m<module>\u001b[0;34m()\u001b[0m\n\u001b[0;32m----> 1\u001b[0;31m \u001b[0mword2vec\u001b[0m\u001b[0;34m.\u001b[0m\u001b[0msimilar_by_word\u001b[0m\u001b[0;34m(\u001b[0m\u001b[0;34m\"semrg\"\u001b[0m\u001b[0;34m,\u001b[0m\u001b[0mtopn\u001b[0m\u001b[0;34m=\u001b[0m\u001b[0;36m5\u001b[0m\u001b[0;34m)\u001b[0m\u001b[0;34m\u001b[0m\u001b[0;34m\u001b[0m\u001b[0m\n\u001b[0m",
            "\u001b[0;31mNameError\u001b[0m: name 'word2vec' is not defined"
          ]
        }
      ]
    },
    {
      "cell_type": "code",
      "metadata": {
        "id": "Gv1-HbRJqcSi"
      },
      "source": [
        "x=['Semarang']\n",
        "x=pad_sequences(x, maxlen=MAX_LEN, padding='post')"
      ],
      "execution_count": null,
      "outputs": []
    },
    {
      "cell_type": "code",
      "metadata": {
        "id": "6rIXENUCqdhq"
      },
      "source": [
        "predict_x=model.predict(x)\n"
      ],
      "execution_count": null,
      "outputs": []
    },
    {
      "cell_type": "code",
      "metadata": {
        "id": "PJScm7OSaTKR"
      },
      "source": [
        "!pip install gradio"
      ],
      "execution_count": null,
      "outputs": []
    },
    {
      "cell_type": "code",
      "metadata": {
        "id": "EGGtCR-4aVk-"
      },
      "source": [
        "import gradio as gr"
      ],
      "execution_count": null,
      "outputs": []
    },
    {
      "cell_type": "markdown",
      "metadata": {
        "id": "cWUQyCcE3hg8"
      },
      "source": [
        "# K-Fold"
      ]
    },
    {
      "cell_type": "code",
      "metadata": {
        "id": "gEw2PH-Y3giY"
      },
      "source": [
        "def create_model():\n",
        "    model = Sequential()\n",
        "    model.add(Conv1D(64,8, activation='relu'))\n",
        "    model.add(MaxPooling1D(2))\n",
        "    model.add(Dropout(0.5))\n",
        "    model.add(Dense(32, activation='relu'))\n",
        "    model.add(Dropout(0.5))\n",
        "    model.add(Dense(16, activation='relu'))\n",
        "    model.add(GlobalMaxPooling1D())\n",
        "    model.add(Dense(3, activation='softmax'))\n",
        "\n",
        "    # compile\n",
        "    model.compile(optimizer='adam', \n",
        "                  loss='categorical_crossentropy', \n",
        "                  metrics=['accuracy'])\n",
        "    return model"
      ],
      "execution_count": null,
      "outputs": []
    },
    {
      "cell_type": "code",
      "metadata": {
        "colab": {
          "base_uri": "https://localhost:8080/"
        },
        "id": "sa6xxqNM6lCU",
        "outputId": "445c1873-ab31-4495-95a2-56f02dc4f04a"
      },
      "source": [
        "# karena stratified kfold gak support multilabel, dibuat standar\n",
        "y_train[:2]"
      ],
      "execution_count": null,
      "outputs": [
        {
          "output_type": "execute_result",
          "data": {
            "text/plain": [
              "array([[1, 0, 0],\n",
              "       [0, 1, 0]], dtype=uint8)"
            ]
          },
          "metadata": {},
          "execution_count": 37
        }
      ]
    },
    {
      "cell_type": "code",
      "metadata": {
        "colab": {
          "base_uri": "https://localhost:8080/"
        },
        "id": "l6JdpDB86s58",
        "outputId": "b7870587-4c25-44b4-82d7-33c808536781"
      },
      "source": [
        "mapper = {'neutral':0, 'positive':1, 'negative':2}\n",
        "train_y = train['label'].map(mapper).values\n",
        "test_y = test['label'].map(mapper).values\n",
        "\n",
        "train_y[:2]"
      ],
      "execution_count": null,
      "outputs": [
        {
          "output_type": "execute_result",
          "data": {
            "text/plain": [
              "array([2, 0])"
            ]
          },
          "metadata": {},
          "execution_count": 38
        }
      ]
    },
    {
      "cell_type": "code",
      "metadata": {
        "colab": {
          "base_uri": "https://localhost:8080/"
        },
        "id": "gMq753MY3s6x",
        "outputId": "c389a66f-d3f1-4499-8167-3c81d227be2b"
      },
      "source": [
        "from sklearn.model_selection import KFold, StratifiedKFold\n",
        "\n",
        "# define 5-fold cross validation test harness\n",
        "kfold = StratifiedKFold(n_splits=5, shuffle=True, random_state=2021)\n",
        "\n",
        "# loop fold\n",
        "cvscores = []\n",
        "for idx_train, idx_val in kfold.split(comments_train_w2v, train_y):\n",
        "    # initialize model\n",
        "    model = create_model()\n",
        "\n",
        "    # Fit data to model\n",
        "    history = model.fit(\n",
        "      x=comments_train_w2v[idx_train],\n",
        "      y=y_train[idx_train],\n",
        "      epochs=30,\n",
        "      batch_size=32,\n",
        "      verbose=0\n",
        "      # validation_split=0.2\n",
        "    )\n",
        "\n",
        "    # Generate generalization metrics\n",
        "    scores = model.evaluate(comments_train_w2v[idx_val], \n",
        "                            y_train[idx_val], \n",
        "                            verbose=0)\n",
        "    print(\"%s: %.2f%%\" % (model.metrics_names[1], scores[1]*100))\n",
        "    cvscores.append(scores[1]*100)\n",
        "\n",
        "print(\"%.2f%% (+/- %.2f%%)\" % (np.mean(cvscores), np.std(cvscores)))"
      ],
      "execution_count": null,
      "outputs": [
        {
          "output_type": "stream",
          "name": "stdout",
          "text": [
            "accuracy: 67.75%\n",
            "accuracy: 68.70%\n",
            "accuracy: 68.61%\n",
            "accuracy: 68.49%\n",
            "accuracy: 68.17%\n",
            "68.34% (+/- 0.34%)\n"
          ]
        }
      ]
    },
    {
      "cell_type": "code",
      "metadata": {
        "id": "s1eWJkb8_tyN",
        "colab": {
          "base_uri": "https://localhost:8080/"
        },
        "outputId": "0a6d8fff-e1d7-40ed-a0c8-affdf8b3bd0d"
      },
      "source": [
        "# predict data test\n",
        "model.evaluate(comments_test_w2v, \n",
        "               y_test, \n",
        "               verbose=0)"
      ],
      "execution_count": null,
      "outputs": [
        {
          "output_type": "execute_result",
          "data": {
            "text/plain": [
              "[0.9065189957618713, 0.6706827282905579]"
            ]
          },
          "metadata": {},
          "execution_count": 40
        }
      ]
    },
    {
      "cell_type": "markdown",
      "metadata": {
        "id": "M3h2QCsz-u-0"
      },
      "source": [
        "# Keras Tuner"
      ]
    },
    {
      "cell_type": "code",
      "metadata": {
        "colab": {
          "base_uri": "https://localhost:8080/"
        },
        "id": "xMbqzKMw7UFi",
        "outputId": "3d0ede4f-d653-46d4-93cb-e5753fa32c4c"
      },
      "source": [
        "!pip install -q -U keras-tuner"
      ],
      "execution_count": null,
      "outputs": [
        {
          "output_type": "stream",
          "name": "stdout",
          "text": [
            "\u001b[?25l\r\u001b[K     |███▍                            | 10 kB 31.8 MB/s eta 0:00:01\r\u001b[K     |██████▊                         | 20 kB 9.3 MB/s eta 0:00:01\r\u001b[K     |██████████                      | 30 kB 8.0 MB/s eta 0:00:01\r\u001b[K     |█████████████▍                  | 40 kB 7.5 MB/s eta 0:00:01\r\u001b[K     |████████████████▊               | 51 kB 5.1 MB/s eta 0:00:01\r\u001b[K     |████████████████████            | 61 kB 5.6 MB/s eta 0:00:01\r\u001b[K     |███████████████████████▍        | 71 kB 5.4 MB/s eta 0:00:01\r\u001b[K     |██████████████████████████▊     | 81 kB 6.0 MB/s eta 0:00:01\r\u001b[K     |██████████████████████████████  | 92 kB 6.0 MB/s eta 0:00:01\r\u001b[K     |████████████████████████████████| 98 kB 3.5 MB/s \n",
            "\u001b[?25h"
          ]
        }
      ]
    },
    {
      "cell_type": "code",
      "metadata": {
        "id": "I2D-6n-A-wRt"
      },
      "source": [
        "import keras_tuner as kt\n",
        "from tensorflow import keras"
      ],
      "execution_count": null,
      "outputs": []
    },
    {
      "cell_type": "code",
      "metadata": {
        "id": "18ywVqwXveAz"
      },
      "source": [
        "def model_builder(hp):\n",
        "    model = Sequential()\n",
        "\n",
        "    model.add(Conv1D(filters=hp.Int('conv_1_filter', min_value=64, max_value=512, step=64),\n",
        "                    kernel_size=hp.Choice('conv_1_kernel', values=[4,8,16]), \n",
        "                    activation='relu'))\n",
        "\n",
        "    model.add(MaxPooling1D(pool_size=2))\n",
        "\n",
        "    model.add(Dropout(0.5))\n",
        "\n",
        "    model.add(Dense(units=hp.Int('units1', min_value=32, max_value=128, step=32), \n",
        "                    activation='relu'))\n",
        "    \n",
        "    model.add(Dropout(0.5))\n",
        "\n",
        "    model.add(Dense(units=hp.Int('units2', min_value=16, max_value=64, step=16), \n",
        "                    activation='relu'))\n",
        "    \n",
        "    model.add(GlobalMaxPooling1D())\n",
        "\n",
        "    model.add(Dense(3, activation='softmax'))\n",
        "\n",
        "    # compile\n",
        "    hp_learning_rate = hp.Choice('learning_rate', values=[1e-2, 1e-3, 1e-4, 1e-5])\n",
        "    model.compile(optimizer=Adam(learning_rate=hp_learning_rate),\n",
        "                  loss=\"categorical_crossentropy\",\n",
        "                  metrics=['accuracy'])\n",
        "    return model"
      ],
      "execution_count": null,
      "outputs": []
    },
    {
      "cell_type": "code",
      "metadata": {
        "id": "64krjfHHx-rY"
      },
      "source": [
        "# tuner = kt.RandomSearch(\n",
        "#     model_builder,\n",
        "#     objective='val_accuracy',\n",
        "#     max_trials=10\n",
        "# )\n",
        "# tuner initialization\n",
        "tuner = kt.Hyperband(hypermodel=model_builder,\n",
        "                     objective=kt.Objective(\"val_accuracy\", direction=\"max\"),\n",
        "                     max_epochs=30,\n",
        "\t\t\t\t\t project_name='hyperband_tuner')"
      ],
      "execution_count": null,
      "outputs": []
    },
    {
      "cell_type": "code",
      "metadata": {
        "colab": {
          "base_uri": "https://localhost:8080/"
        },
        "id": "P-9zdSG1x-tv",
        "outputId": "9375acf6-e3c9-4c37-e0ea-4b32386d2a9d"
      },
      "source": [
        "tuner.search(comments_train_w2v, \n",
        "             y_train, \n",
        "             epochs=30,\n",
        "             verbose=1,\n",
        "             shuffle=True,\n",
        "             validation_split=0.2)"
      ],
      "execution_count": null,
      "outputs": [
        {
          "output_type": "stream",
          "name": "stdout",
          "text": [
            "Trial 90 Complete [00h 01m 23s]\n",
            "val_accuracy: 0.6744040250778198\n",
            "\n",
            "Best val_accuracy So Far: 0.7001254558563232\n",
            "Total elapsed time: 00h 32m 36s\n",
            "INFO:tensorflow:Oracle triggered exit\n"
          ]
        }
      ]
    },
    {
      "cell_type": "code",
      "metadata": {
        "colab": {
          "base_uri": "https://localhost:8080/"
        },
        "id": "v3WxGNdHDOzg",
        "outputId": "404d0b2d-035c-4421-fab1-d49aa8b064ed"
      },
      "source": [
        "tuner.results_summary()"
      ],
      "execution_count": null,
      "outputs": [
        {
          "output_type": "stream",
          "name": "stdout",
          "text": [
            "Results summary\n",
            "Results in ./hyperband_tuner\n",
            "Showing 10 best trials\n",
            "Objective(name='val_accuracy', direction='max')\n",
            "Trial summary\n",
            "Hyperparameters:\n",
            "conv_1_filter: 64\n",
            "conv_1_kernel: 8\n",
            "units1: 96\n",
            "units2: 48\n",
            "learning_rate: 0.001\n",
            "tuner/epochs: 30\n",
            "tuner/initial_epoch: 10\n",
            "tuner/bracket: 1\n",
            "tuner/round: 1\n",
            "tuner/trial_id: 3928a9739522cc694f43d23bf9aec1bd\n",
            "Score: 0.7001254558563232\n",
            "Trial summary\n",
            "Hyperparameters:\n",
            "conv_1_filter: 256\n",
            "conv_1_kernel: 16\n",
            "units1: 32\n",
            "units2: 48\n",
            "learning_rate: 0.001\n",
            "tuner/epochs: 10\n",
            "tuner/initial_epoch: 4\n",
            "tuner/bracket: 2\n",
            "tuner/round: 1\n",
            "tuner/trial_id: 403e71e22f3a388eedf90feb2a2587c5\n",
            "Score: 0.6994981169700623\n",
            "Trial summary\n",
            "Hyperparameters:\n",
            "conv_1_filter: 256\n",
            "conv_1_kernel: 16\n",
            "units1: 32\n",
            "units2: 48\n",
            "learning_rate: 0.001\n",
            "tuner/epochs: 30\n",
            "tuner/initial_epoch: 10\n",
            "tuner/bracket: 2\n",
            "tuner/round: 2\n",
            "tuner/trial_id: 87378192442ce728e2b55f50715906a0\n",
            "Score: 0.6994981169700623\n",
            "Trial summary\n",
            "Hyperparameters:\n",
            "conv_1_filter: 448\n",
            "conv_1_kernel: 16\n",
            "units1: 64\n",
            "units2: 32\n",
            "learning_rate: 0.0001\n",
            "tuner/epochs: 10\n",
            "tuner/initial_epoch: 0\n",
            "tuner/bracket: 1\n",
            "tuner/round: 0\n",
            "Score: 0.6969887018203735\n",
            "Trial summary\n",
            "Hyperparameters:\n",
            "conv_1_filter: 128\n",
            "conv_1_kernel: 16\n",
            "units1: 96\n",
            "units2: 48\n",
            "learning_rate: 0.001\n",
            "tuner/epochs: 30\n",
            "tuner/initial_epoch: 10\n",
            "tuner/bracket: 3\n",
            "tuner/round: 3\n",
            "tuner/trial_id: 4cc7b1c647262ce0ea3346765f270c5e\n",
            "Score: 0.6963613629341125\n",
            "Trial summary\n",
            "Hyperparameters:\n",
            "conv_1_filter: 448\n",
            "conv_1_kernel: 16\n",
            "units1: 64\n",
            "units2: 32\n",
            "learning_rate: 0.0001\n",
            "tuner/epochs: 30\n",
            "tuner/initial_epoch: 10\n",
            "tuner/bracket: 1\n",
            "tuner/round: 1\n",
            "tuner/trial_id: 18c176285debf74fa7515abcd018424b\n",
            "Score: 0.6951066255569458\n",
            "Trial summary\n",
            "Hyperparameters:\n",
            "conv_1_filter: 256\n",
            "conv_1_kernel: 4\n",
            "units1: 96\n",
            "units2: 32\n",
            "learning_rate: 0.001\n",
            "tuner/epochs: 30\n",
            "tuner/initial_epoch: 0\n",
            "tuner/bracket: 0\n",
            "tuner/round: 0\n",
            "Score: 0.6951066255569458\n",
            "Trial summary\n",
            "Hyperparameters:\n",
            "conv_1_filter: 320\n",
            "conv_1_kernel: 4\n",
            "units1: 64\n",
            "units2: 48\n",
            "learning_rate: 0.001\n",
            "tuner/epochs: 30\n",
            "tuner/initial_epoch: 10\n",
            "tuner/bracket: 3\n",
            "tuner/round: 3\n",
            "tuner/trial_id: 9b8964bb406425fa8ba08a2d39d7c514\n",
            "Score: 0.6944792866706848\n",
            "Trial summary\n",
            "Hyperparameters:\n",
            "conv_1_filter: 192\n",
            "conv_1_kernel: 16\n",
            "units1: 64\n",
            "units2: 32\n",
            "learning_rate: 0.0001\n",
            "tuner/epochs: 30\n",
            "tuner/initial_epoch: 10\n",
            "tuner/bracket: 1\n",
            "tuner/round: 1\n",
            "tuner/trial_id: 2ba6dc5c35b1e8131fc3fd46e4035972\n",
            "Score: 0.6944792866706848\n",
            "Trial summary\n",
            "Hyperparameters:\n",
            "conv_1_filter: 128\n",
            "conv_1_kernel: 16\n",
            "units1: 64\n",
            "units2: 32\n",
            "learning_rate: 0.001\n",
            "tuner/epochs: 30\n",
            "tuner/initial_epoch: 10\n",
            "tuner/bracket: 2\n",
            "tuner/round: 2\n",
            "tuner/trial_id: 4a75dc45b2a67a7f57f93f509f66e726\n",
            "Score: 0.6938519477844238\n"
          ]
        }
      ]
    },
    {
      "cell_type": "code",
      "metadata": {
        "id": "vCbpt6nxyllB"
      },
      "source": [
        "best_model = tuner.get_best_models()[0]"
      ],
      "execution_count": null,
      "outputs": []
    },
    {
      "cell_type": "code",
      "metadata": {
        "id": "2caDJLDX55Pd"
      },
      "source": [
        "model_copy = keras.models.clone_model(best_model)"
      ],
      "execution_count": null,
      "outputs": []
    },
    {
      "cell_type": "code",
      "metadata": {
        "id": "mKS03CEyLbcX"
      },
      "source": [
        "# conv_1_filter: 64\n",
        "# conv_1_kernel: 8\n",
        "# units1: 96\n",
        "# units2: 48\n",
        "# learning_rate: 0.001\n",
        "\n",
        "# conv_1_filter: 448\n",
        "# conv_1_kernel: 16\n",
        "# units1: 64\n",
        "# units2: 32\n",
        "# learning_rate: 0.0001\n",
        "\n",
        "def create_mode_tuned():\n",
        "    model = Sequential()\n",
        "    model.add(Conv1D(448,16, activation='relu'))\n",
        "    model.add(MaxPooling1D(2))\n",
        "    model.add(Dropout(0.5))\n",
        "    model.add(Dense(64, activation='relu'))\n",
        "    model.add(Dropout(0.5))\n",
        "    model.add(Dense(32, activation='relu'))\n",
        "    model.add(GlobalMaxPooling1D())\n",
        "    model.add(Dense(3, activation='softmax'))\n",
        "\n",
        "    # compile\n",
        "    model.compile(optimizer=Adam(learning_rate=0.0001), \n",
        "                  loss='categorical_crossentropy', \n",
        "                  metrics=['accuracy'])\n",
        "    return model"
      ],
      "execution_count": null,
      "outputs": []
    },
    {
      "cell_type": "code",
      "metadata": {
        "colab": {
          "base_uri": "https://localhost:8080/"
        },
        "id": "hEZnzpMi4vpp",
        "outputId": "3129f836-5654-4912-e75a-f706d681cef2"
      },
      "source": [
        "# define 5-fold cross validation test harness\n",
        "kfold = StratifiedKFold(n_splits=5, shuffle=True, random_state=2021)\n",
        "\n",
        "# loop fold\n",
        "cvscores = []\n",
        "for idx_train, idx_val in kfold.split(comments_train_w2v, train_y):\n",
        "    # initialize model\n",
        "    model = create_mode_tuned()\n",
        "\n",
        "    # Fit data to model\n",
        "    history = model.fit(\n",
        "      x=comments_train_w2v[idx_train],\n",
        "      y=y_train[idx_train],\n",
        "      epochs=30,\n",
        "      batch_size=32,\n",
        "      verbose=0\n",
        "      # validation_split=0.2\n",
        "    )\n",
        "\n",
        "    # Generate generalization metrics\n",
        "    scores = model.evaluate(comments_train_w2v[idx_val], \n",
        "                            y_train[idx_val], \n",
        "                            verbose=0)\n",
        "    print(\"%s: %.2f%%\" % (model.metrics_names[1], scores[1]*100))\n",
        "    cvscores.append(scores[1]*100)\n",
        "\n",
        "print(\"%.2f%% (+/- %.2f%%)\" % (np.mean(cvscores), np.std(cvscores)))"
      ],
      "execution_count": null,
      "outputs": [
        {
          "output_type": "stream",
          "name": "stdout",
          "text": [
            "accuracy: 67.25%\n",
            "accuracy: 68.07%\n",
            "accuracy: 67.55%\n",
            "accuracy: 68.93%\n",
            "accuracy: 68.93%\n",
            "68.14% (+/- 0.69%)\n"
          ]
        }
      ]
    },
    {
      "cell_type": "code",
      "metadata": {
        "colab": {
          "base_uri": "https://localhost:8080/"
        },
        "id": "nd4s6qqe422u",
        "outputId": "132cb3ee-6c68-414c-d419-dd5f741263a4"
      },
      "source": [
        "# predict data test\n",
        "model.evaluate(comments_test_w2v, \n",
        "               y_test, \n",
        "               verbose=0)"
      ],
      "execution_count": null,
      "outputs": [
        {
          "output_type": "execute_result",
          "data": {
            "text/plain": [
              "[0.984968900680542, 0.6932730674743652]"
            ]
          },
          "metadata": {},
          "execution_count": 58
        }
      ]
    },
    {
      "cell_type": "code",
      "metadata": {
        "id": "Ij6-kCTONiDk"
      },
      "source": [
        ""
      ],
      "execution_count": null,
      "outputs": []
    }
  ]
}