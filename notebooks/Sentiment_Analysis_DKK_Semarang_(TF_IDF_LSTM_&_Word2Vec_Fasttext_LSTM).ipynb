{
  "nbformat": 4,
  "nbformat_minor": 0,
  "metadata": {
    "accelerator": "TPU",
    "colab": {
      "name": "Sentiment_Analysis_DKK_Semarang_(LSTM)",
      "provenance": [],
      "collapsed_sections": []
    },
    "kernelspec": {
      "display_name": "Python 3",
      "name": "python3"
    },
    "language_info": {
      "name": "python"
    }
  },
  "cells": [
    {
      "cell_type": "markdown",
      "metadata": {
        "id": "KE08uHcp3PCp"
      },
      "source": [
        "### **Import Library**"
      ]
    },
    {
      "cell_type": "code",
      "metadata": {
        "id": "hneUfcUg3SRQ"
      },
      "source": [
        "import pandas as pd\n",
        "import matplotlib.pyplot as plt\n",
        "import string, re, requests, csv\n",
        "from google.colab import drive\n",
        "from wordcloud import WordCloud\n",
        "from gensim.corpora import WikiCorpus"
      ],
      "execution_count": null,
      "outputs": []
    },
    {
      "cell_type": "code",
      "metadata": {
        "colab": {
          "base_uri": "https://localhost:8080/"
        },
        "id": "ghWtEwwt9zAn",
        "outputId": "83026a1e-b871-4ef0-9f64-746e06c22b6e"
      },
      "source": [
        "from nltk import word_tokenize, sent_tokenize\n",
        "import nltk\n",
        "from nltk.corpus import stopwords\n",
        "nltk.download('stopwords')\n",
        "nltk.download('punkt')"
      ],
      "execution_count": null,
      "outputs": [
        {
          "output_type": "stream",
          "name": "stdout",
          "text": [
            "[nltk_data] Downloading package stopwords to /root/nltk_data...\n",
            "[nltk_data]   Package stopwords is already up-to-date!\n",
            "[nltk_data] Downloading package punkt to /root/nltk_data...\n",
            "[nltk_data]   Package punkt is already up-to-date!\n"
          ]
        },
        {
          "output_type": "execute_result",
          "data": {
            "text/plain": [
              "True"
            ]
          },
          "metadata": {},
          "execution_count": 2
        }
      ]
    },
    {
      "cell_type": "code",
      "metadata": {
        "colab": {
          "base_uri": "https://localhost:8080/"
        },
        "id": "z3Z_mhXhqNK2",
        "outputId": "ac23b1b9-db8c-4450-9261-4ae69c88be1a"
      },
      "source": [
        "!pip install emoji"
      ],
      "execution_count": null,
      "outputs": [
        {
          "output_type": "stream",
          "name": "stdout",
          "text": [
            "Requirement already satisfied: emoji in /usr/local/lib/python3.7/dist-packages (1.6.1)\n"
          ]
        }
      ]
    },
    {
      "cell_type": "markdown",
      "metadata": {
        "id": "MAUdm8NMXrXN"
      },
      "source": [
        "### **Load Dataset**"
      ]
    },
    {
      "cell_type": "code",
      "metadata": {
        "colab": {
          "base_uri": "https://localhost:8080/"
        },
        "id": "xYJ4ZmLXtXIv",
        "outputId": "4b501f3e-7a47-4c93-d6cf-6bdf2b414496"
      },
      "source": [
        "train_data = pd.read_csv('/content/train.csv')\n",
        "train_data = train_data[['text', 'label']]\n",
        "train_data.shape"
      ],
      "execution_count": null,
      "outputs": [
        {
          "output_type": "execute_result",
          "data": {
            "text/plain": [
              "(7967, 2)"
            ]
          },
          "metadata": {},
          "execution_count": 4
        }
      ]
    },
    {
      "cell_type": "code",
      "metadata": {
        "colab": {
          "base_uri": "https://localhost:8080/"
        },
        "id": "PSmd0ufRtrcf",
        "outputId": "6910b5c5-5ab9-4332-b147-7a96590bc41c"
      },
      "source": [
        "train_data['label'].value_counts()"
      ],
      "execution_count": null,
      "outputs": [
        {
          "output_type": "execute_result",
          "data": {
            "text/plain": [
              "neutral     2926\n",
              "negative    2775\n",
              "positive    2266\n",
              "Name: label, dtype: int64"
            ]
          },
          "metadata": {},
          "execution_count": 5
        }
      ]
    },
    {
      "cell_type": "code",
      "metadata": {
        "colab": {
          "base_uri": "https://localhost:8080/"
        },
        "id": "hy0JV6eytyDP",
        "outputId": "ed0b6c6a-82f0-4b77-d640-1a2a53ea52d7"
      },
      "source": [
        "test_data = pd.read_csv('/content/test.csv')\n",
        "test_data = test_data[['text', 'label']]\n",
        "test_data.shape"
      ],
      "execution_count": null,
      "outputs": [
        {
          "output_type": "execute_result",
          "data": {
            "text/plain": [
              "(1992, 2)"
            ]
          },
          "metadata": {},
          "execution_count": 6
        }
      ]
    },
    {
      "cell_type": "code",
      "metadata": {
        "colab": {
          "base_uri": "https://localhost:8080/"
        },
        "id": "Hv32SZKjt8yW",
        "outputId": "e41adb33-22e8-440b-cf11-2b0acda115c5"
      },
      "source": [
        "test_data['label'].value_counts()"
      ],
      "execution_count": null,
      "outputs": [
        {
          "output_type": "execute_result",
          "data": {
            "text/plain": [
              "neutral     732\n",
              "negative    694\n",
              "positive    566\n",
              "Name: label, dtype: int64"
            ]
          },
          "metadata": {},
          "execution_count": 7
        }
      ]
    },
    {
      "cell_type": "markdown",
      "metadata": {
        "id": "RASVz11HtL5w"
      },
      "source": [
        "### **All Preprocessing**"
      ]
    },
    {
      "cell_type": "code",
      "metadata": {
        "id": "-F2xvjdUpHLy"
      },
      "source": [
        "# comments = data['text']\n",
        "comments_train = train_data['text']\n",
        "comments_test = test_data['text']"
      ],
      "execution_count": null,
      "outputs": []
    },
    {
      "cell_type": "code",
      "metadata": {
        "id": "jQ7eJcf2saVm"
      },
      "source": [
        "### 1. Replace Username\n",
        "def replace_username(data):\n",
        "  pattern = \"(?:@)([A-Za-z0-9_](?:(?:[A-Za-z0-9_]|(?:\\.(?!\\.))){0,28}(?:[A-Za-z0-9_]))?)\"\n",
        "  data = re.sub(pattern, \"@username\", data)\n",
        "  \n",
        "  return data\n",
        "\n",
        "### 2. Cleansing Data\n",
        "def cleansing(data):\n",
        "    # lowercasing\n",
        "    data = data.lower()\n",
        "\n",
        "    # remove punctuation\n",
        "    punct = string.punctuation\n",
        "    translator = str.maketrans(punct, ' '*len(punct))\n",
        "    data = data.translate(translator)\n",
        "\n",
        "    # remove ASCII dan unicode\n",
        "    data = data.encode('ascii', 'ignore').decode('utf-8')\n",
        "    data = re.sub(r'[^\\x00-\\x7f]',r'', data)\n",
        "    \n",
        "    # remove newline\n",
        "    data = data.replace('\\n', ' ')\n",
        "\n",
        "    # remove digit\n",
        "    pattern = r'[0-9]'\n",
        "    data = re.sub(pattern, '', data)\n",
        "\n",
        "    # remove extra space\n",
        "    data = ' '.join(data.split())\n",
        "    \n",
        "    return data\n",
        "\n",
        "# ### 3. Remove Emoji  \n",
        "import sys\n",
        "def remove_emoji(data):\n",
        "    emoji_pattern = re.compile(\"[\"\n",
        "                           u\"\\U0001F600-\\U0001F64F\"  # emoticons\n",
        "                           u\"\\U0001F300-\\U0001F5FF\"  # symbols & pictographs\n",
        "                           u\"\\U0001F680-\\U0001F6FF\"  # transport & map symbols\n",
        "                           u\"\\U0001F1E0-\\U0001F1FF\"  # flags (iOS)\n",
        "                           u\"\\U00002702-\\U000027B0\"\n",
        "                           u\"\\U000024C2-\\U0001F251\"\n",
        "                           \"]+\", flags=re.UNICODE)\n",
        "    return emoji_pattern.sub(r' ', data)\n",
        "\n",
        "### 3. Convert Emoji\n",
        "import emoji\n",
        "import functools\n",
        "import operator\n",
        "import re\n",
        "\n",
        "df_emoji = pd.read_csv('emoji_to_text.csv')\n",
        "UNICODE_EMO = {row['emoji']:row['makna'] for idx,row in df_emoji.iterrows()}\n",
        "def convert_emojis(text):\n",
        "    # split emojis\n",
        "    em_split_emoji = emoji.get_emoji_regexp().split(text)\n",
        "    em_split_whitespace = [substr.split() for substr in em_split_emoji]\n",
        "    em_split = functools.reduce(operator.concat, em_split_whitespace)\n",
        "    text = ' '.join(em_split)\n",
        "\n",
        "    # convert emojis\n",
        "    for emot in UNICODE_EMO:\n",
        "        text = re.sub(r'('+emot+')', \"_\".join(UNICODE_EMO[emot].replace(\",\",\"\").replace(\":\",\"\").split()), text)\n",
        "    return text.lower()\n",
        "  \n",
        "### 4. Normalize Kata Alay\n",
        "# CONSTRUCT KAMUS ALAY\n",
        "text_path1 = 'https://raw.githubusercontent.com/ramaprakoso/analisis-sentimen/master/kamus/kbba.txt'\n",
        "text_path2 = 'https://raw.githubusercontent.com/nasalsabila/kamus-alay/master/colloquial-indonesian-lexicon.csv'\n",
        "kamus_alay1 = pd.read_csv(text_path1, delimiter=\"\\t\", header=None, names=['slang', 'formal'])\n",
        "kamus_alay2 = pd.read_csv(text_path2)\n",
        "kamus_alay = pd.concat([kamus_alay1, kamus_alay2[['slang', 'formal']]]).reset_index(drop=True)\n",
        "\n",
        "dict_alay = dict()\n",
        "for index, row in kamus_alay.iterrows():\n",
        "    dict_alay[row['slang']] = row['formal']\n",
        "\n",
        "def normalize_text(data):\n",
        "  word_tokens = word_tokenize(data)\n",
        "  result = [dict_alay.get(w,w) for w in word_tokens]\n",
        "  return ' '.join(result)\n",
        "\n",
        "\n",
        "### 5. Remove Stopwords\n",
        "# CONSTRUCT STOPWORDS\n",
        "rama_stopword = \"https://raw.githubusercontent.com/ramaprakoso/analisis-sentimen/master/kamus/stopword.txt\"\n",
        "yutomo_stopword = \"https://raw.githubusercontent.com/yasirutomo/python-sentianalysis-id/master/data/feature_list/stopwordsID.txt\"\n",
        "fpmipa_stopword = \"https://raw.githubusercontent.com/onlyphantom/elangdev/master/elang/word2vec/utils/stopwords-list/fpmipa-stopwords.txt\"\n",
        "sastrawi_stopword = \"https://raw.githubusercontent.com/onlyphantom/elangdev/master/elang/word2vec/utils/stopwords-list/sastrawi-stopwords.txt\"\n",
        "aliakbar_stopword = \"https://raw.githubusercontent.com/onlyphantom/elangdev/master/elang/word2vec/utils/stopwords-list/aliakbars-bilp.txt\"\n",
        "pebahasa_stopword = \"https://raw.githubusercontent.com/onlyphantom/elangdev/master/elang/word2vec/utils/stopwords-list/pebbie-pebahasa.txt\"\n",
        "elang_stopword = \"https://raw.githubusercontent.com/onlyphantom/elangdev/master/elang/word2vec/utils/stopwords-id.txt\"\n",
        "nltk_stopword = stopwords.words('indonesian')\n",
        "\n",
        "path_stopwords = [rama_stopword, yutomo_stopword, fpmipa_stopword, sastrawi_stopword, \n",
        "                  aliakbar_stopword, pebahasa_stopword, elang_stopword]\n",
        "\n",
        "# CUSTOM STOPWORDS\n",
        "other = '''\n",
        "admin mimin min minkes kalo nya username\n",
        "'''\n",
        "\n",
        "# gabungkan stopwords\n",
        "stopwords_l = nltk_stopword\n",
        "for path in path_stopwords:\n",
        "    response = requests.get(path)\n",
        "    stopwords_l += response.text.split('\\n')\n",
        "\n",
        "st_words = set(stopwords_l)\n",
        "other_stopword = set(other.split())\n",
        "\n",
        "stop_words = st_words | other_stopword\n",
        "\n",
        "def remove_stopword(text, stop_words=stop_words):\n",
        "    word_tokens = word_tokenize(text)\n",
        "    filtered_sentence = [w for w in word_tokens if not w in stop_words]\n",
        "    return ' '.join(filtered_sentence)\n",
        "\n",
        "def preprocessing(data):\n",
        "  data = replace_username(data)\n",
        "  data = cleansing(data)\n",
        "  # data = remove_emoji(data)\n",
        "  data = convert_emojis(data)\n",
        "  data = normalize_text(data)\n",
        "  data = remove_stopword(data)\n",
        "\n",
        "  return data"
      ],
      "execution_count": null,
      "outputs": []
    },
    {
      "cell_type": "code",
      "metadata": {
        "id": "n6xAdZXav1jA"
      },
      "source": [
        "comments_train = comments_train.apply(lambda x: preprocessing(x))\n",
        "comments_test = comments_test.apply(lambda x: preprocessing(x))"
      ],
      "execution_count": null,
      "outputs": []
    },
    {
      "cell_type": "code",
      "metadata": {
        "colab": {
          "base_uri": "https://localhost:8080/"
        },
        "id": "ZCqy3X-Ev-tS",
        "outputId": "7063322e-ceca-4dd2-9225-55731884cc5e"
      },
      "source": [
        "comments_train.head()"
      ],
      "execution_count": null,
      "outputs": [
        {
          "output_type": "execute_result",
          "data": {
            "text/plain": [
              "0                                                     \n",
              "1                                     turun maju canik\n",
              "2        prosentase kematian covid warga kota semarang\n",
              "3    rapid test test swab pcr kawan-kawan dinkes se...\n",
              "4                                      area pedurungan\n",
              "Name: text, dtype: object"
            ]
          },
          "metadata": {},
          "execution_count": 11
        }
      ]
    },
    {
      "cell_type": "code",
      "metadata": {
        "colab": {
          "base_uri": "https://localhost:8080/"
        },
        "id": "yNJpXWuWxEkm",
        "outputId": "5135753a-e78b-475c-d3f9-6c43320a9498"
      },
      "source": [
        "comments_test.head()"
      ],
      "execution_count": null,
      "outputs": [
        {
          "output_type": "execute_result",
          "data": {
            "text/plain": [
              "0                             vaksin massal cek vaksin\n",
              "1             kak coba coba ulang terima kasih infonya\n",
              "2                           tugu graha padma isoman cc\n",
              "3    terimakasih infonya berharap update informasi ...\n",
              "4                                            ayo turun\n",
              "Name: text, dtype: object"
            ]
          },
          "metadata": {},
          "execution_count": 12
        }
      ]
    },
    {
      "cell_type": "markdown",
      "metadata": {
        "id": "eJDohUS69zhu"
      },
      "source": [
        "# **Feature Extraction**"
      ]
    },
    {
      "cell_type": "code",
      "metadata": {
        "colab": {
          "base_uri": "https://localhost:8080/"
        },
        "id": "kgBMo3tEzknb",
        "outputId": "61212319-0218-41af-cdbd-298db649aabd"
      },
      "source": [
        "y_train =  pd.get_dummies(train_data['label']).values\n",
        "y_test =  pd.get_dummies(test_data['label']).values\n",
        "\n",
        "y_train.shape, y_test.shape"
      ],
      "execution_count": null,
      "outputs": [
        {
          "output_type": "execute_result",
          "data": {
            "text/plain": [
              "((7967, 3), (1992, 3))"
            ]
          },
          "metadata": {},
          "execution_count": 24
        }
      ]
    },
    {
      "cell_type": "code",
      "metadata": {
        "colab": {
          "base_uri": "https://localhost:8080/"
        },
        "id": "vrstO7NIwPGX",
        "outputId": "7d8071f9-5483-4c68-f5e2-3d03d1105f13"
      },
      "source": [
        "y_train[1], y_train[0], y_train[5]"
      ],
      "execution_count": null,
      "outputs": [
        {
          "output_type": "execute_result",
          "data": {
            "text/plain": [
              "(array([0, 1, 0], dtype=uint8),\n",
              " array([1, 0, 0], dtype=uint8),\n",
              " array([0, 0, 1], dtype=uint8))"
            ]
          },
          "metadata": {},
          "execution_count": 25
        }
      ]
    },
    {
      "cell_type": "markdown",
      "metadata": {
        "id": "fhnLEGNLuEbP"
      },
      "source": [
        "## **TF-IDF**"
      ]
    },
    {
      "cell_type": "code",
      "metadata": {
        "colab": {
          "base_uri": "https://localhost:8080/"
        },
        "id": "yWqLJ8IE91An",
        "outputId": "5dc99447-6cb3-43f3-96bb-8f9cdd01a902"
      },
      "source": [
        "from sklearn.feature_extraction.text import TfidfVectorizer\n",
        "\n",
        "vectorizer = TfidfVectorizer( min_df=2, max_df=0.95, max_features = 5000, ngram_range = (1, 3),\n",
        "                              sublinear_tf = True )\n",
        "\n",
        "comments_train_tfidf = vectorizer.fit_transform(comments_train).toarray()\n",
        "comments_test_tfidf = vectorizer.transform(comments_test).toarray()\n",
        "\n",
        "comments_train_tfidf.shape, comments_test_tfidf.shape"
      ],
      "execution_count": null,
      "outputs": [
        {
          "output_type": "execute_result",
          "data": {
            "text/plain": [
              "((7967, 5000), (1992, 5000))"
            ]
          },
          "metadata": {},
          "execution_count": 18
        }
      ]
    },
    {
      "cell_type": "code",
      "metadata": {
        "colab": {
          "base_uri": "https://localhost:8080/"
        },
        "id": "f00EArwMusMK",
        "outputId": "146470ab-2a7f-4478-f562-ecf2d106c9e7"
      },
      "source": [
        "# reshape, since LSTM cells expects ndims = 3\n",
        "comments_train_tfidf = comments_train_tfidf.reshape(comments_train_tfidf.shape[0], 1, comments_train_tfidf.shape[-1])\n",
        "comments_test_tfidf = comments_test_tfidf.reshape(comments_test_tfidf.shape[0], 1, comments_test_tfidf.shape[-1])\n",
        "\n",
        "comments_train_tfidf.shape, comments_test_tfidf.shape"
      ],
      "execution_count": null,
      "outputs": [
        {
          "output_type": "execute_result",
          "data": {
            "text/plain": [
              "((7967, 1, 5000), (1992, 1, 5000))"
            ]
          },
          "metadata": {},
          "execution_count": 19
        }
      ]
    },
    {
      "cell_type": "code",
      "metadata": {
        "id": "diktXwF5vqWe",
        "colab": {
          "base_uri": "https://localhost:8080/"
        },
        "outputId": "76597cf7-788a-4848-d41a-e0919d1ffecc"
      },
      "source": [
        "!pip install -q -U keras-tuner"
      ],
      "execution_count": null,
      "outputs": [
        {
          "output_type": "stream",
          "name": "stdout",
          "text": [
            "\u001b[?25l\r\u001b[K     |███▍                            | 10 kB 20.3 MB/s eta 0:00:01\r\u001b[K     |██████▊                         | 20 kB 27.3 MB/s eta 0:00:01\r\u001b[K     |██████████                      | 30 kB 23.4 MB/s eta 0:00:01\r\u001b[K     |█████████████▍                  | 40 kB 17.9 MB/s eta 0:00:01\r\u001b[K     |████████████████▊               | 51 kB 5.9 MB/s eta 0:00:01\r\u001b[K     |████████████████████            | 61 kB 6.3 MB/s eta 0:00:01\r\u001b[K     |███████████████████████▍        | 71 kB 5.7 MB/s eta 0:00:01\r\u001b[K     |██████████████████████████▊     | 81 kB 6.3 MB/s eta 0:00:01\r\u001b[K     |██████████████████████████████  | 92 kB 6.7 MB/s eta 0:00:01\r\u001b[K     |████████████████████████████████| 98 kB 3.5 MB/s \n",
            "\u001b[?25h"
          ]
        }
      ]
    },
    {
      "cell_type": "code",
      "source": [
        "from keras.models import Sequential\n",
        "from keras.layers import Dense, Embedding, LSTM, Dropout\n",
        "from tensorflow.keras.optimizers import Adam\n",
        "from keras.callbacks import ModelCheckpoint, EarlyStopping \n",
        "from keras_tuner.engine.hyperparameters import HyperParameters\n",
        "from keras_tuner.tuners import RandomSearch \n",
        "from keras_tuner.tuners import Hyperband\n",
        "from keras.utils.vis_utils import plot_model"
      ],
      "metadata": {
        "id": "adMS8U88tGJT"
      },
      "execution_count": null,
      "outputs": []
    },
    {
      "cell_type": "markdown",
      "source": [
        "**Before Tuning**"
      ],
      "metadata": {
        "id": "Vs9zXh6rtltk"
      }
    },
    {
      "cell_type": "code",
      "metadata": {
        "id": "HWg4G9I3cyNg"
      },
      "source": [
        "model = Sequential()\n",
        "model.add(LSTM(units=32, input_shape=comments_train_tfidf.shape[1:]))\n",
        "model.add(Dropout(0.2))\n",
        "model.add(Dense(3,activation='softmax'))\n",
        "opt = Adam()\n",
        "model.compile(loss = 'categorical_crossentropy', optimizer=opt, metrics = ['accuracy'])"
      ],
      "execution_count": null,
      "outputs": []
    },
    {
      "cell_type": "code",
      "source": [
        "es = EarlyStopping(monitor='val_loss', mode='min', verbose=1, patience=10)\n",
        "\n",
        "history = model.fit(\n",
        "    comments_train_tfidf, \n",
        "    y_train, \n",
        "    epochs=50, \n",
        "    validation_split=0.2, \n",
        "    batch_size=32, \n",
        "    verbose=1,\n",
        "    callbacks=[es]\n",
        ")"
      ],
      "metadata": {
        "colab": {
          "base_uri": "https://localhost:8080/"
        },
        "id": "UfdY3OACuMry",
        "outputId": "cc620e06-7adb-48a5-9fc0-991549f17a65"
      },
      "execution_count": null,
      "outputs": [
        {
          "output_type": "stream",
          "name": "stdout",
          "text": [
            "Epoch 1/50\n",
            "200/200 [==============================] - 4s 11ms/step - loss: 1.0342 - accuracy: 0.5683 - val_loss: 0.9261 - val_accuracy: 0.6198\n",
            "Epoch 2/50\n",
            "200/200 [==============================] - 2s 9ms/step - loss: 0.7911 - accuracy: 0.7274 - val_loss: 0.7461 - val_accuracy: 0.6907\n",
            "Epoch 3/50\n",
            "200/200 [==============================] - 2s 9ms/step - loss: 0.6246 - accuracy: 0.7745 - val_loss: 0.6907 - val_accuracy: 0.6982\n",
            "Epoch 4/50\n",
            "200/200 [==============================] - 2s 9ms/step - loss: 0.5246 - accuracy: 0.8043 - val_loss: 0.6849 - val_accuracy: 0.7064\n",
            "Epoch 5/50\n",
            "200/200 [==============================] - 2s 9ms/step - loss: 0.4585 - accuracy: 0.8276 - val_loss: 0.7000 - val_accuracy: 0.7039\n",
            "Epoch 6/50\n",
            "200/200 [==============================] - 2s 9ms/step - loss: 0.4119 - accuracy: 0.8423 - val_loss: 0.7264 - val_accuracy: 0.6982\n",
            "Epoch 7/50\n",
            "200/200 [==============================] - 2s 10ms/step - loss: 0.3755 - accuracy: 0.8558 - val_loss: 0.7596 - val_accuracy: 0.6945\n",
            "Epoch 8/50\n",
            "200/200 [==============================] - 2s 9ms/step - loss: 0.3470 - accuracy: 0.8668 - val_loss: 0.7977 - val_accuracy: 0.6932\n",
            "Epoch 9/50\n",
            "200/200 [==============================] - 2s 9ms/step - loss: 0.3238 - accuracy: 0.8778 - val_loss: 0.8412 - val_accuracy: 0.6951\n",
            "Epoch 10/50\n",
            "200/200 [==============================] - 2s 9ms/step - loss: 0.3067 - accuracy: 0.8880 - val_loss: 0.8797 - val_accuracy: 0.6920\n",
            "Epoch 11/50\n",
            "200/200 [==============================] - 2s 9ms/step - loss: 0.2913 - accuracy: 0.8913 - val_loss: 0.9239 - val_accuracy: 0.6939\n",
            "Epoch 12/50\n",
            "200/200 [==============================] - 2s 9ms/step - loss: 0.2803 - accuracy: 0.8949 - val_loss: 0.9639 - val_accuracy: 0.6920\n",
            "Epoch 13/50\n",
            "200/200 [==============================] - 2s 9ms/step - loss: 0.2724 - accuracy: 0.8982 - val_loss: 1.0064 - val_accuracy: 0.6920\n",
            "Epoch 14/50\n",
            "200/200 [==============================] - 2s 9ms/step - loss: 0.2620 - accuracy: 0.8994 - val_loss: 1.0502 - val_accuracy: 0.6876\n",
            "Epoch 00014: early stopping\n"
          ]
        }
      ]
    },
    {
      "cell_type": "code",
      "source": [
        "history.history"
      ],
      "metadata": {
        "colab": {
          "base_uri": "https://localhost:8080/"
        },
        "id": "h68e4X4WvTCU",
        "outputId": "73f8d4cf-cf68-4613-93d8-5dcbb5d2bed0"
      },
      "execution_count": null,
      "outputs": [
        {
          "output_type": "execute_result",
          "data": {
            "text/plain": [
              "{'accuracy': [0.5683351755142212,\n",
              "  0.7274439334869385,\n",
              "  0.7745174765586853,\n",
              "  0.8043307662010193,\n",
              "  0.8275537490844727,\n",
              "  0.842303454875946,\n",
              "  0.8557978868484497,\n",
              "  0.8667817115783691,\n",
              "  0.8777655959129333,\n",
              "  0.8879648447036743,\n",
              "  0.891260027885437,\n",
              "  0.8948689699172974,\n",
              "  0.8981641530990601,\n",
              "  0.8994194269180298],\n",
              " 'loss': [1.0341700315475464,\n",
              "  0.791092038154602,\n",
              "  0.6245718002319336,\n",
              "  0.5246053338050842,\n",
              "  0.4585339426994324,\n",
              "  0.4119190275669098,\n",
              "  0.37551066279411316,\n",
              "  0.34695711731910706,\n",
              "  0.32383260130882263,\n",
              "  0.3067140281200409,\n",
              "  0.2913402020931244,\n",
              "  0.28031542897224426,\n",
              "  0.27242419123649597,\n",
              "  0.26198309659957886],\n",
              " 'val_accuracy': [0.6198243498802185,\n",
              "  0.6907151937484741,\n",
              "  0.6982434391975403,\n",
              "  0.7063990235328674,\n",
              "  0.7038896083831787,\n",
              "  0.6982434391975403,\n",
              "  0.6944792866706848,\n",
              "  0.6932246088981628,\n",
              "  0.6951066255569458,\n",
              "  0.6919698715209961,\n",
              "  0.6938519477844238,\n",
              "  0.6919698715209961,\n",
              "  0.6919698715209961,\n",
              "  0.6875784397125244],\n",
              " 'val_loss': [0.9260867834091187,\n",
              "  0.7461131811141968,\n",
              "  0.6907212138175964,\n",
              "  0.68486088514328,\n",
              "  0.7000078558921814,\n",
              "  0.7263593077659607,\n",
              "  0.7595828771591187,\n",
              "  0.7976568341255188,\n",
              "  0.8412424921989441,\n",
              "  0.8796789646148682,\n",
              "  0.9239238500595093,\n",
              "  0.9639325737953186,\n",
              "  1.0063533782958984,\n",
              "  1.0502309799194336]}"
            ]
          },
          "metadata": {},
          "execution_count": 34
        }
      ]
    },
    {
      "cell_type": "code",
      "source": [
        "loss, accuracy = model.evaluate(comments_test_tfidf, y_test)"
      ],
      "metadata": {
        "colab": {
          "base_uri": "https://localhost:8080/"
        },
        "id": "NvYPtx_0t8PG",
        "outputId": "c753bd2c-9711-4d6a-d2bb-92854739b2a8"
      },
      "execution_count": null,
      "outputs": [
        {
          "output_type": "stream",
          "name": "stdout",
          "text": [
            "63/63 [==============================] - 0s 3ms/step - loss: 1.0067 - accuracy: 0.6953\n"
          ]
        }
      ]
    },
    {
      "cell_type": "markdown",
      "source": [
        "**After Tuning**"
      ],
      "metadata": {
        "id": "7mk1Hpk7v27-"
      }
    },
    {
      "cell_type": "code",
      "metadata": {
        "id": "udS_kdtHMZ2x"
      },
      "source": [
        "# Build out our simple LSTM\n",
        "# # Model saving callback\n",
        "# mc = ModelCheckpoint('keras_model', \n",
        "#                                  monitor='val_loss', \n",
        "#                                  verbose=1, \n",
        "#                                  save_best_only=True, \n",
        "#                                  mode='auto')\n",
        "\n",
        "es = EarlyStopping(monitor='val_loss', mode='min', verbose=1, patience=10)\n",
        "\n",
        "# model = Sequential()\n",
        "# model.add(LSTM(lstm_out, dropout=dropout, input_shape = comments_train_tfidf.shape[1:])) # recurrent dropout?\n",
        "# model.add(Dense(3,activation='softmax'))\n",
        "# opt = Adam(learning_rate=lr)\n",
        "# model.compile(loss = 'categorical_crossentropy', optimizer=opt, metrics = ['accuracy'])\n",
        "# print(model.summary())\n",
        "\n",
        "def build_model(hp):\n",
        "    model = Sequential()\n",
        "    model.add(LSTM(units=hp.Choice('lstm_out',values=[32, 48, 64]), input_shape=comments_train_tfidf.shape[1:]))\n",
        "    model.add(Dropout(hp.Choice('dropout',values=[0.2, 0.5, 0.8])))\n",
        "    model.add(Dense(3,activation='softmax'))\n",
        "    lr = hp.Choice('learning_rate',values=[0.1, 0.01, 0.001])\n",
        "    opt = Adam(learning_rate=lr)\n",
        "    model.compile(loss = 'categorical_crossentropy', optimizer=opt, metrics = ['accuracy'])\n",
        "    plot_model(model, to_file='model_plot.png', show_shapes=True, show_layer_names=True)\n",
        "    print(model.summary())\n",
        "    return model"
      ],
      "execution_count": null,
      "outputs": []
    },
    {
      "cell_type": "code",
      "metadata": {
        "colab": {
          "base_uri": "https://localhost:8080/"
        },
        "id": "HlkaKpTQyja6",
        "outputId": "182305de-4bda-4a0a-fa1d-ad31299e6547"
      },
      "source": [
        "tuner= RandomSearch(\n",
        "        build_model,\n",
        "        objective='val_accuracy',\n",
        "        max_trials=27,\n",
        "        executions_per_trial=1,\n",
        "        directory='randomsearch-tfidf-20211211',\n",
        ")"
      ],
      "execution_count": null,
      "outputs": [
        {
          "output_type": "stream",
          "name": "stdout",
          "text": [
            "Model: \"sequential_4\"\n",
            "_________________________________________________________________\n",
            " Layer (type)                Output Shape              Param #   \n",
            "=================================================================\n",
            " lstm_3 (LSTM)               (None, 32)                644224    \n",
            "                                                                 \n",
            " dropout_2 (Dropout)         (None, 32)                0         \n",
            "                                                                 \n",
            " dense_2 (Dense)             (None, 3)                 99        \n",
            "                                                                 \n",
            "=================================================================\n",
            "Total params: 644,323\n",
            "Trainable params: 644,323\n",
            "Non-trainable params: 0\n",
            "_________________________________________________________________\n",
            "None\n"
          ]
        }
      ]
    },
    {
      "cell_type": "code",
      "metadata": {
        "colab": {
          "base_uri": "https://localhost:8080/"
        },
        "id": "Y6TjsBr8ysA9",
        "outputId": "dab1fd11-1de9-4853-ab3b-0b97b6a4c959"
      },
      "source": [
        "tuner.search(\n",
        "      x=comments_train_tfidf,\n",
        "      y=y_train,\n",
        "      epochs=50,\n",
        "      batch_size=32,\n",
        "      validation_split=0.2,\n",
        "      callbacks=[es]\n",
        ")"
      ],
      "execution_count": null,
      "outputs": [
        {
          "output_type": "stream",
          "name": "stdout",
          "text": [
            "Trial 21 Complete [00h 00m 27s]\n",
            "val_accuracy: 0.6806775331497192\n",
            "\n",
            "Best val_accuracy So Far: 0.7176913619041443\n",
            "Total elapsed time: 00h 11m 00s\n",
            "INFO:tensorflow:Oracle triggered exit\n"
          ]
        }
      ]
    },
    {
      "cell_type": "code",
      "metadata": {
        "colab": {
          "base_uri": "https://localhost:8080/"
        },
        "id": "zHdOiHXY5afB",
        "outputId": "0d053bee-d34c-4d99-efa4-5f25d24c1203"
      },
      "source": [
        "tuner.results_summary()"
      ],
      "execution_count": null,
      "outputs": [
        {
          "output_type": "stream",
          "name": "stdout",
          "text": [
            "Results summary\n",
            "Results in randomsearch-tfidf-20211211/untitled_project\n",
            "Showing 10 best trials\n",
            "Objective(name='val_accuracy', direction='max')\n",
            "Trial summary\n",
            "Hyperparameters:\n",
            "lstm_out: 32\n",
            "dropout: 0.8\n",
            "learning_rate: 0.001\n",
            "Score: 0.7176913619041443\n",
            "Trial summary\n",
            "Hyperparameters:\n",
            "lstm_out: 64\n",
            "dropout: 0.8\n",
            "learning_rate: 0.001\n",
            "Score: 0.7107904553413391\n",
            "Trial summary\n",
            "Hyperparameters:\n",
            "lstm_out: 48\n",
            "dropout: 0.8\n",
            "learning_rate: 0.001\n",
            "Score: 0.7101631164550781\n",
            "Trial summary\n",
            "Hyperparameters:\n",
            "lstm_out: 48\n",
            "dropout: 0.2\n",
            "learning_rate: 0.001\n",
            "Score: 0.7095357775688171\n",
            "Trial summary\n",
            "Hyperparameters:\n",
            "lstm_out: 48\n",
            "dropout: 0.5\n",
            "learning_rate: 0.001\n",
            "Score: 0.7082810401916504\n",
            "Trial summary\n",
            "Hyperparameters:\n",
            "lstm_out: 32\n",
            "dropout: 0.2\n",
            "learning_rate: 0.01\n",
            "Score: 0.7076537013053894\n",
            "Trial summary\n",
            "Hyperparameters:\n",
            "lstm_out: 32\n",
            "dropout: 0.2\n",
            "learning_rate: 0.001\n",
            "Score: 0.7070263624191284\n",
            "Trial summary\n",
            "Hyperparameters:\n",
            "lstm_out: 32\n",
            "dropout: 0.5\n",
            "learning_rate: 0.001\n",
            "Score: 0.7070263624191284\n",
            "Trial summary\n",
            "Hyperparameters:\n",
            "lstm_out: 64\n",
            "dropout: 0.5\n",
            "learning_rate: 0.01\n",
            "Score: 0.7038896083831787\n",
            "Trial summary\n",
            "Hyperparameters:\n",
            "lstm_out: 32\n",
            "dropout: 0.8\n",
            "learning_rate: 0.01\n",
            "Score: 0.702634871006012\n"
          ]
        }
      ]
    },
    {
      "cell_type": "code",
      "metadata": {
        "colab": {
          "base_uri": "https://localhost:8080/"
        },
        "id": "teQJlrOG9M59",
        "outputId": "ce0a6015-4a62-4ba5-f1ee-4e2fe663d4ca"
      },
      "source": [
        "bestHP = tuner.get_best_hyperparameters(num_trials=1)[0]\n",
        "bestHP.get(\"lstm_out\"), bestHP.get(\"dropout\"), bestHP.get(\"learning_rate\")"
      ],
      "execution_count": null,
      "outputs": [
        {
          "output_type": "execute_result",
          "data": {
            "text/plain": [
              "(32, 0.8, 0.001)"
            ]
          },
          "metadata": {},
          "execution_count": 41
        }
      ]
    },
    {
      "cell_type": "code",
      "metadata": {
        "colab": {
          "base_uri": "https://localhost:8080/"
        },
        "id": "KfBe4hKG5hgM",
        "outputId": "e3d148d0-5a5f-4d61-8caf-d8124f101ad3"
      },
      "source": [
        "best_model = tuner.get_best_models(num_models=1)[0]"
      ],
      "execution_count": null,
      "outputs": [
        {
          "output_type": "stream",
          "name": "stdout",
          "text": [
            "Model: \"sequential\"\n",
            "_________________________________________________________________\n",
            " Layer (type)                Output Shape              Param #   \n",
            "=================================================================\n",
            " lstm (LSTM)                 (None, 32)                644224    \n",
            "                                                                 \n",
            " dropout (Dropout)           (None, 32)                0         \n",
            "                                                                 \n",
            " dense (Dense)               (None, 3)                 99        \n",
            "                                                                 \n",
            "=================================================================\n",
            "Total params: 644,323\n",
            "Trainable params: 644,323\n",
            "Non-trainable params: 0\n",
            "_________________________________________________________________\n",
            "None\n"
          ]
        }
      ]
    },
    {
      "cell_type": "code",
      "metadata": {
        "colab": {
          "base_uri": "https://localhost:8080/"
        },
        "id": "DwMGklaQ5mP-",
        "outputId": "63f8f7dc-7b9e-4611-cca6-80a9520814da"
      },
      "source": [
        "loss, accuracy = best_model.evaluate(comments_test_tfidf, y_test)"
      ],
      "execution_count": null,
      "outputs": [
        {
          "output_type": "stream",
          "name": "stdout",
          "text": [
            "63/63 [==============================] - 1s 3ms/step - loss: 0.6486 - accuracy: 0.7194\n"
          ]
        }
      ]
    },
    {
      "cell_type": "markdown",
      "metadata": {
        "id": "dKKAwOzezBeW"
      },
      "source": [
        "# **Word2Vec**"
      ]
    },
    {
      "cell_type": "code",
      "metadata": {
        "colab": {
          "base_uri": "https://localhost:8080/"
        },
        "id": "wBx9vipt_yrE",
        "outputId": "c1b8b023-b570-432b-ad37-0c527eec6e94"
      },
      "source": [
        "# dowload pre-trained word2vec fasttext indonesia\n",
        "! wget https://dl.fbaipublicfiles.com/fasttext/vectors-crawl/cc.id.300.bin.gz\n",
        "# unzip\n",
        "! gunzip cc.id.300.bin.gz"
      ],
      "execution_count": null,
      "outputs": [
        {
          "output_type": "stream",
          "name": "stdout",
          "text": [
            "--2021-12-11 09:21:03--  https://dl.fbaipublicfiles.com/fasttext/vectors-crawl/cc.id.300.bin.gz\n",
            "Resolving dl.fbaipublicfiles.com (dl.fbaipublicfiles.com)... 104.22.75.142, 104.22.74.142, 172.67.9.4, ...\n",
            "Connecting to dl.fbaipublicfiles.com (dl.fbaipublicfiles.com)|104.22.75.142|:443... connected.\n",
            "HTTP request sent, awaiting response... 200 OK\n",
            "Length: 4507049071 (4.2G) [application/octet-stream]\n",
            "Saving to: ‘cc.id.300.bin.gz’\n",
            "\n",
            "cc.id.300.bin.gz    100%[===================>]   4.20G  35.4MB/s    in 2m 10s  \n",
            "\n",
            "2021-12-11 09:23:14 (33.0 MB/s) - ‘cc.id.300.bin.gz’ saved [4507049071/4507049071]\n",
            "\n"
          ]
        }
      ]
    },
    {
      "cell_type": "code",
      "metadata": {
        "id": "8TumUz1H_0BR"
      },
      "source": [
        "from gensim.models import KeyedVectors\n",
        "from gensim.models.wrappers import FastText\n",
        "\n",
        "# load pre-trained word2vec fasttext\n",
        "word2vec = FastText.load_fasttext_format('cc.id.300.bin')"
      ],
      "execution_count": null,
      "outputs": []
    },
    {
      "cell_type": "code",
      "metadata": {
        "id": "yAOVLz4xA1p5"
      },
      "source": [
        "# tokenize text\n",
        "def tokenize(sentence):\n",
        "    return word_tokenize(sentence)\n",
        "\n",
        "train_text = comments_train.apply(lambda x: tokenize(x))\n",
        "test_text = comments_test.apply(lambda x: tokenize(x))"
      ],
      "execution_count": null,
      "outputs": []
    },
    {
      "cell_type": "code",
      "metadata": {
        "id": "89NvRJwSDsx_"
      },
      "source": [
        "# vectorize\n",
        "VOCABULARY = word2vec.wv.vocab\n",
        "def vectorize(tokens):\n",
        "    word_vec = []\n",
        "    for w in tokens:\n",
        "        if w in VOCABULARY:\n",
        "            # get word vector from pre-trained word2vec fasttext\n",
        "            word_vec.append(word2vec[w])\n",
        "    return word_vec\n",
        "\n",
        "def avg_vectorize(tokens):\n",
        "    sum_vec = np.zeros(300)\n",
        "    word_count = 0\n",
        "\n",
        "    for w in tokens:\n",
        "        if w in VOCABULARY:\n",
        "            # word vector from pre-trained word2vec fasttext and add vector\n",
        "            sum_vec += word2vec[w]\n",
        "            word_count += 1\n",
        "    return sum_vec if word_count==0 else sum_vec/word_count"
      ],
      "execution_count": null,
      "outputs": []
    },
    {
      "cell_type": "code",
      "metadata": {
        "colab": {
          "base_uri": "https://localhost:8080/"
        },
        "id": "36hejfHeDvEm",
        "outputId": "5d1d7ffe-472a-4856-90a6-a9d9aad8e443"
      },
      "source": [
        "# check maximum token and count\n",
        "max_size_token = 0\n",
        "count = 0\n",
        "max_len_choosen = 50\n",
        "\n",
        "for tok in train_text:\n",
        "    # find max token\n",
        "    if len(tok) > max_size_token: max_size_token = len(tok)\n",
        "    # count\n",
        "    if len(tok) > max_len_choosen: count += 1\n",
        "\n",
        "print(f'Maximum length token: {max_size_token}')\n",
        "print(f'With MAX_LEN {max_len_choosen}, there are/is {count} token/s')"
      ],
      "execution_count": null,
      "outputs": [
        {
          "output_type": "stream",
          "name": "stdout",
          "text": [
            "Maximum length token: 150\n",
            "With MAX_LEN 50, there are/is 24 token/s\n"
          ]
        }
      ]
    },
    {
      "cell_type": "code",
      "metadata": {
        "id": "fNujZUgPDxFR"
      },
      "source": [
        "# padding\n",
        "MAX_LEN = 50\n",
        "\n",
        "def add_padding(word_vec):\n",
        "    if len(word_vec) < MAX_LEN:\n",
        "        pad_count = MAX_LEN - len(word_vec)\n",
        "        return word_vec + [np.array([0]*300)]*pad_count\n",
        "    else:\n",
        "        return word_vec[:MAX_LEN]"
      ],
      "execution_count": null,
      "outputs": []
    },
    {
      "cell_type": "code",
      "metadata": {
        "id": "NLpkezGLDzA1"
      },
      "source": [
        "# feature extraction\n",
        "def extract_feature(data, ndim=3):\n",
        "    if ndim == 3:\n",
        "        features = vectorize(data)\n",
        "        features = add_padding(features)\n",
        "    elif ndim == 2:\n",
        "        features = avg_vectorize(data)\n",
        "    return np.array(features)"
      ],
      "execution_count": null,
      "outputs": []
    },
    {
      "cell_type": "code",
      "metadata": {
        "colab": {
          "base_uri": "https://localhost:8080/"
        },
        "id": "_s0X8-JfFKTa",
        "outputId": "07649d8d-5091-4840-909b-2817eaea59bc"
      },
      "source": [
        "import numpy as np\n",
        "\n",
        "# extract feature\n",
        "comments_train_w2v = np.array([extract_feature(text, ndim=3) for text in train_text])\n",
        "comments_test_w2v = np.array([extract_feature(text, ndim=3) for text in test_text])\n",
        "\n",
        "comments_train_w2v.shape, comments_test_w2v.shape"
      ],
      "execution_count": null,
      "outputs": [
        {
          "output_type": "execute_result",
          "data": {
            "text/plain": [
              "((7967, 50, 300), (1992, 50, 300))"
            ]
          },
          "metadata": {},
          "execution_count": 19
        }
      ]
    },
    {
      "cell_type": "code",
      "source": [
        "!pip install -q -U keras-tuner"
      ],
      "metadata": {
        "id": "PREpvHUn5ktq"
      },
      "execution_count": null,
      "outputs": []
    },
    {
      "cell_type": "code",
      "source": [
        "from keras.models import Sequential\n",
        "from keras.layers import Dense, Embedding, LSTM, Dropout\n",
        "from tensorflow.keras.optimizers import Adam\n",
        "from keras.callbacks import ModelCheckpoint, EarlyStopping \n",
        "from keras_tuner.engine.hyperparameters import HyperParameters\n",
        "from keras_tuner.tuners import RandomSearch \n",
        "from keras_tuner.tuners import Hyperband\n",
        "from keras.utils.vis_utils import plot_model"
      ],
      "metadata": {
        "id": "g3U6281k5jCS"
      },
      "execution_count": null,
      "outputs": []
    },
    {
      "cell_type": "markdown",
      "source": [
        "**Before Tuning**"
      ],
      "metadata": {
        "id": "VJJttTsV5aUw"
      }
    },
    {
      "cell_type": "code",
      "source": [
        "model = Sequential()\n",
        "model.add(LSTM(units=32, input_shape=comments_train_w2v.shape[1:]))\n",
        "model.add(Dropout(0.2))\n",
        "model.add(Dense(3,activation='softmax'))\n",
        "opt = Adam()\n",
        "model.compile(loss = 'categorical_crossentropy', optimizer=opt, metrics = ['accuracy'])"
      ],
      "metadata": {
        "id": "a9G-o6nD5b7G"
      },
      "execution_count": null,
      "outputs": []
    },
    {
      "cell_type": "code",
      "source": [
        "es = EarlyStopping(monitor='val_loss', mode='min', verbose=1, patience=10)\n",
        "\n",
        "history = model.fit(\n",
        "    comments_train_w2v, \n",
        "    y_train, \n",
        "    epochs=50, \n",
        "    validation_split=0.2, \n",
        "    batch_size=32, \n",
        "    verbose=1,\n",
        "    callbacks=[es]\n",
        ")"
      ],
      "metadata": {
        "colab": {
          "base_uri": "https://localhost:8080/"
        },
        "id": "x6co6ilh5ttK",
        "outputId": "da0e54d7-396e-49e4-8836-f32089cfc31d"
      },
      "execution_count": null,
      "outputs": [
        {
          "output_type": "stream",
          "name": "stdout",
          "text": [
            "Epoch 1/50\n",
            "200/200 [==============================] - 11s 41ms/step - loss: 1.0388 - accuracy: 0.4091 - val_loss: 0.8896 - val_accuracy: 0.5489\n",
            "Epoch 2/50\n",
            "200/200 [==============================] - 7s 36ms/step - loss: 0.8686 - accuracy: 0.5426 - val_loss: 0.8416 - val_accuracy: 0.5508\n",
            "Epoch 3/50\n",
            "200/200 [==============================] - 7s 36ms/step - loss: 0.8411 - accuracy: 0.5520 - val_loss: 0.8330 - val_accuracy: 0.5427\n",
            "Epoch 4/50\n",
            "200/200 [==============================] - 7s 35ms/step - loss: 0.8270 - accuracy: 0.5613 - val_loss: 0.8372 - val_accuracy: 0.5596\n",
            "Epoch 5/50\n",
            "200/200 [==============================] - 7s 36ms/step - loss: 0.8138 - accuracy: 0.5614 - val_loss: 0.8280 - val_accuracy: 0.5464\n",
            "Epoch 6/50\n",
            "200/200 [==============================] - 7s 36ms/step - loss: 0.8129 - accuracy: 0.5654 - val_loss: 0.8339 - val_accuracy: 0.5514\n",
            "Epoch 7/50\n",
            "200/200 [==============================] - 7s 35ms/step - loss: 0.8010 - accuracy: 0.5682 - val_loss: 0.8483 - val_accuracy: 0.5408\n",
            "Epoch 8/50\n",
            "200/200 [==============================] - 7s 35ms/step - loss: 0.7927 - accuracy: 0.5708 - val_loss: 0.8285 - val_accuracy: 0.5546\n",
            "Epoch 9/50\n",
            "200/200 [==============================] - 7s 36ms/step - loss: 0.7880 - accuracy: 0.5726 - val_loss: 0.8532 - val_accuracy: 0.5402\n",
            "Epoch 10/50\n",
            "200/200 [==============================] - 7s 36ms/step - loss: 0.7806 - accuracy: 0.5705 - val_loss: 0.8261 - val_accuracy: 0.5477\n",
            "Epoch 11/50\n",
            "200/200 [==============================] - 7s 36ms/step - loss: 0.7735 - accuracy: 0.5831 - val_loss: 0.8630 - val_accuracy: 0.5477\n",
            "Epoch 12/50\n",
            "200/200 [==============================] - 7s 37ms/step - loss: 0.7741 - accuracy: 0.5828 - val_loss: 0.8411 - val_accuracy: 0.5640\n",
            "Epoch 13/50\n",
            "200/200 [==============================] - 7s 36ms/step - loss: 0.7669 - accuracy: 0.5845 - val_loss: 0.8279 - val_accuracy: 0.5678\n",
            "Epoch 14/50\n",
            "200/200 [==============================] - 7s 35ms/step - loss: 0.7594 - accuracy: 0.5837 - val_loss: 0.8301 - val_accuracy: 0.5615\n",
            "Epoch 15/50\n",
            "200/200 [==============================] - 7s 35ms/step - loss: 0.7636 - accuracy: 0.5762 - val_loss: 0.8241 - val_accuracy: 0.5565\n",
            "Epoch 16/50\n",
            "200/200 [==============================] - 7s 36ms/step - loss: 0.7531 - accuracy: 0.5928 - val_loss: 0.8262 - val_accuracy: 0.5734\n",
            "Epoch 17/50\n",
            "200/200 [==============================] - 7s 35ms/step - loss: 0.7489 - accuracy: 0.5950 - val_loss: 0.8211 - val_accuracy: 0.5715\n",
            "Epoch 18/50\n",
            "200/200 [==============================] - 7s 36ms/step - loss: 0.7462 - accuracy: 0.6022 - val_loss: 0.8601 - val_accuracy: 0.5627\n",
            "Epoch 19/50\n",
            "200/200 [==============================] - 7s 35ms/step - loss: 0.7481 - accuracy: 0.6035 - val_loss: 0.8158 - val_accuracy: 0.5809\n",
            "Epoch 20/50\n",
            "200/200 [==============================] - 7s 35ms/step - loss: 0.7351 - accuracy: 0.6182 - val_loss: 0.8253 - val_accuracy: 0.5985\n",
            "Epoch 21/50\n",
            "200/200 [==============================] - 7s 35ms/step - loss: 0.7357 - accuracy: 0.6331 - val_loss: 0.8432 - val_accuracy: 0.5778\n",
            "Epoch 22/50\n",
            "200/200 [==============================] - 7s 35ms/step - loss: 0.7300 - accuracy: 0.6388 - val_loss: 0.8146 - val_accuracy: 0.6179\n",
            "Epoch 23/50\n",
            "200/200 [==============================] - 7s 35ms/step - loss: 0.7252 - accuracy: 0.6487 - val_loss: 0.7957 - val_accuracy: 0.6292\n",
            "Epoch 24/50\n",
            "200/200 [==============================] - 7s 34ms/step - loss: 0.7121 - accuracy: 0.6688 - val_loss: 0.8293 - val_accuracy: 0.6154\n",
            "Epoch 25/50\n",
            "200/200 [==============================] - 7s 34ms/step - loss: 0.7113 - accuracy: 0.6699 - val_loss: 0.8134 - val_accuracy: 0.6393\n",
            "Epoch 26/50\n",
            "200/200 [==============================] - 7s 34ms/step - loss: 0.7096 - accuracy: 0.6757 - val_loss: 0.8179 - val_accuracy: 0.6443\n",
            "Epoch 27/50\n",
            "200/200 [==============================] - 7s 34ms/step - loss: 0.6915 - accuracy: 0.6899 - val_loss: 0.8115 - val_accuracy: 0.6462\n",
            "Epoch 28/50\n",
            "200/200 [==============================] - 7s 33ms/step - loss: 0.6917 - accuracy: 0.6951 - val_loss: 0.7868 - val_accuracy: 0.6518\n",
            "Epoch 29/50\n",
            "200/200 [==============================] - 7s 34ms/step - loss: 0.6857 - accuracy: 0.6990 - val_loss: 0.8377 - val_accuracy: 0.6324\n",
            "Epoch 30/50\n",
            "200/200 [==============================] - 7s 33ms/step - loss: 0.6959 - accuracy: 0.6990 - val_loss: 0.8000 - val_accuracy: 0.6512\n",
            "Epoch 31/50\n",
            "200/200 [==============================] - 7s 34ms/step - loss: 0.7067 - accuracy: 0.6855 - val_loss: 0.7909 - val_accuracy: 0.6637\n",
            "Epoch 32/50\n",
            "200/200 [==============================] - 7s 34ms/step - loss: 0.6576 - accuracy: 0.7218 - val_loss: 0.8221 - val_accuracy: 0.6694\n",
            "Epoch 33/50\n",
            "200/200 [==============================] - 7s 35ms/step - loss: 0.6502 - accuracy: 0.7273 - val_loss: 0.7812 - val_accuracy: 0.6731\n",
            "Epoch 34/50\n",
            "200/200 [==============================] - 7s 34ms/step - loss: 0.6295 - accuracy: 0.7351 - val_loss: 0.7765 - val_accuracy: 0.6763\n",
            "Epoch 35/50\n",
            "200/200 [==============================] - 7s 34ms/step - loss: 0.6390 - accuracy: 0.7268 - val_loss: 0.7642 - val_accuracy: 0.6750\n",
            "Epoch 36/50\n",
            "200/200 [==============================] - 7s 34ms/step - loss: 0.6239 - accuracy: 0.7428 - val_loss: 0.7616 - val_accuracy: 0.6744\n",
            "Epoch 37/50\n",
            "200/200 [==============================] - 7s 34ms/step - loss: 0.6119 - accuracy: 0.7463 - val_loss: 0.7643 - val_accuracy: 0.6826\n",
            "Epoch 38/50\n",
            "200/200 [==============================] - 7s 33ms/step - loss: 0.6069 - accuracy: 0.7494 - val_loss: 0.8072 - val_accuracy: 0.6870\n",
            "Epoch 39/50\n",
            "200/200 [==============================] - 7s 34ms/step - loss: 0.6005 - accuracy: 0.7496 - val_loss: 0.7616 - val_accuracy: 0.6851\n",
            "Epoch 40/50\n",
            "200/200 [==============================] - 7s 34ms/step - loss: 0.5903 - accuracy: 0.7631 - val_loss: 0.7786 - val_accuracy: 0.6750\n",
            "Epoch 41/50\n",
            "200/200 [==============================] - 7s 34ms/step - loss: 0.5813 - accuracy: 0.7673 - val_loss: 0.7645 - val_accuracy: 0.6945\n",
            "Epoch 42/50\n",
            "200/200 [==============================] - 8s 40ms/step - loss: 0.5752 - accuracy: 0.7703 - val_loss: 0.7798 - val_accuracy: 0.6744\n",
            "Epoch 43/50\n",
            "200/200 [==============================] - 8s 42ms/step - loss: 0.5722 - accuracy: 0.7718 - val_loss: 0.7888 - val_accuracy: 0.6857\n",
            "Epoch 44/50\n",
            "200/200 [==============================] - 8s 42ms/step - loss: 0.5827 - accuracy: 0.7653 - val_loss: 0.7647 - val_accuracy: 0.6995\n",
            "Epoch 45/50\n",
            "200/200 [==============================] - 8s 42ms/step - loss: 0.5693 - accuracy: 0.7714 - val_loss: 0.7828 - val_accuracy: 0.6832\n",
            "Epoch 46/50\n",
            "200/200 [==============================] - 8s 42ms/step - loss: 0.5676 - accuracy: 0.7709 - val_loss: 0.8086 - val_accuracy: 0.6757\n",
            "Epoch 47/50\n",
            "200/200 [==============================] - 9s 44ms/step - loss: 0.5567 - accuracy: 0.7778 - val_loss: 0.8275 - val_accuracy: 0.6939\n",
            "Epoch 48/50\n",
            "200/200 [==============================] - 9s 43ms/step - loss: 0.5491 - accuracy: 0.7825 - val_loss: 0.7960 - val_accuracy: 0.6757\n",
            "Epoch 49/50\n",
            "200/200 [==============================] - 8s 41ms/step - loss: 0.5491 - accuracy: 0.7817 - val_loss: 0.8060 - val_accuracy: 0.6907\n",
            "Epoch 00049: early stopping\n"
          ]
        }
      ]
    },
    {
      "cell_type": "code",
      "source": [
        "loss, accuracy = model.evaluate(comments_test_w2v, y_test)"
      ],
      "metadata": {
        "colab": {
          "base_uri": "https://localhost:8080/"
        },
        "id": "HFgcakNd7T_P",
        "outputId": "93248c9c-1920-48c7-941f-cb0da6da6e18"
      },
      "execution_count": null,
      "outputs": [
        {
          "output_type": "stream",
          "name": "stdout",
          "text": [
            "63/63 [==============================] - 1s 13ms/step - loss: 0.7908 - accuracy: 0.6857\n"
          ]
        }
      ]
    },
    {
      "cell_type": "code",
      "metadata": {
        "id": "xG0mxxcwFVFq"
      },
      "source": [
        "# Build out our simple LSTM\n",
        "\n",
        "# Model saving callback\n",
        "# mc = ModelCheckpoint('keras_model', \n",
        "#                                  monitor='val_loss', \n",
        "#                                  verbose=1, \n",
        "#                                  save_best_only=True, \n",
        "#                                  mode='auto')\n",
        "\n",
        "es = EarlyStopping(monitor='val_loss', mode='min', verbose=1, patience=10)\n",
        "\n",
        "# model2 = Sequential()\n",
        "# model2.add(LSTM(lstm_out, dropout=dropout, input_shape = train_features.shape[1:])) # recurrent dropout?\n",
        "# model2.add(Dense(3,activation='softmax'))\n",
        "# opt = Adam(learning_rate=lr)\n",
        "# model2.compile(loss = 'categorical_crossentropy', optimizer=opt, metrics = ['accuracy'])\n",
        "# print(model2.summary())\n",
        "\n",
        "def build_model(hp):\n",
        "    model = Sequential()\n",
        "    model.add(LSTM(units=hp.Choice('lstm_out',values=[32, 48, 64]), input_shape=comments_train_w2v.shape[1:]))\n",
        "    model.add(Dropout(hp.Choice('dropout',values=[0.2, 0.5, 0.8])))\n",
        "    model.add(Dense(3,activation='softmax'))\n",
        "    lr = hp.Choice('learning_rate',values=[0.1, 0.01, 0.001])\n",
        "    opt = Adam(learning_rate=lr)\n",
        "    model.compile(loss = 'categorical_crossentropy', optimizer=opt, metrics = ['accuracy'])\n",
        "    plot_model(model, to_file='model_plot.png', show_shapes=True, show_layer_names=True)\n",
        "    print(model.summary())\n",
        "    return model"
      ],
      "execution_count": null,
      "outputs": []
    },
    {
      "cell_type": "code",
      "metadata": {
        "colab": {
          "base_uri": "https://localhost:8080/"
        },
        "id": "AjUUv5EBdjBy",
        "outputId": "ddda7437-473b-4c58-bd92-866d0cfbbdfa"
      },
      "source": [
        "tuner= RandomSearch(\n",
        "        build_model,\n",
        "        objective='val_accuracy',\n",
        "        max_trials=27,\n",
        "        executions_per_trial=1,\n",
        "        directory='randomsearch_w2v-20211211',\n",
        ")"
      ],
      "execution_count": null,
      "outputs": [
        {
          "output_type": "stream",
          "name": "stdout",
          "text": [
            "Model: \"sequential_2\"\n",
            "_________________________________________________________________\n",
            " Layer (type)                Output Shape              Param #   \n",
            "=================================================================\n",
            " lstm_1 (LSTM)               (None, 32)                42624     \n",
            "                                                                 \n",
            " dropout_1 (Dropout)         (None, 32)                0         \n",
            "                                                                 \n",
            " dense_1 (Dense)             (None, 3)                 99        \n",
            "                                                                 \n",
            "=================================================================\n",
            "Total params: 42,723\n",
            "Trainable params: 42,723\n",
            "Non-trainable params: 0\n",
            "_________________________________________________________________\n",
            "None\n"
          ]
        }
      ]
    },
    {
      "cell_type": "code",
      "metadata": {
        "colab": {
          "base_uri": "https://localhost:8080/"
        },
        "id": "qC8-J6ipdpZJ",
        "outputId": "be532a65-4f76-4f43-f821-62b05915e87d"
      },
      "source": [
        "tuner.search(\n",
        "      x=comments_train_w2v,\n",
        "      y=y_train,\n",
        "      epochs=50,\n",
        "      batch_size=32,\n",
        "      validation_split=0.2,\n",
        "      callbacks=[es]\n",
        ")"
      ],
      "execution_count": null,
      "outputs": [
        {
          "output_type": "stream",
          "name": "stdout",
          "text": [
            "Trial 22 Complete [00h 01m 42s]\n",
            "val_accuracy: 0.5457967519760132\n",
            "\n",
            "Best val_accuracy So Far: 0.703262209892273\n",
            "Total elapsed time: 01h 25m 20s\n",
            "INFO:tensorflow:Oracle triggered exit\n"
          ]
        }
      ]
    },
    {
      "cell_type": "code",
      "metadata": {
        "colab": {
          "base_uri": "https://localhost:8080/"
        },
        "id": "oWBU6kq0dMn7",
        "outputId": "6eaa4b6c-71fb-4b3b-d312-1d7b532ab55d"
      },
      "source": [
        "tuner.results_summary()"
      ],
      "execution_count": null,
      "outputs": [
        {
          "output_type": "stream",
          "name": "stdout",
          "text": [
            "Results summary\n",
            "Results in randomsearch_w2v-20211211/untitled_project\n",
            "Showing 10 best trials\n",
            "Objective(name='val_accuracy', direction='max')\n",
            "Trial summary\n",
            "Hyperparameters:\n",
            "lstm_out: 48\n",
            "dropout: 0.2\n",
            "learning_rate: 0.01\n",
            "Score: 0.703262209892273\n",
            "Trial summary\n",
            "Hyperparameters:\n",
            "lstm_out: 64\n",
            "dropout: 0.5\n",
            "learning_rate: 0.01\n",
            "Score: 0.6957340240478516\n",
            "Trial summary\n",
            "Hyperparameters:\n",
            "lstm_out: 64\n",
            "dropout: 0.8\n",
            "learning_rate: 0.01\n",
            "Score: 0.6951066255569458\n",
            "Trial summary\n",
            "Hyperparameters:\n",
            "lstm_out: 48\n",
            "dropout: 0.2\n",
            "learning_rate: 0.001\n",
            "Score: 0.6932246088981628\n",
            "Trial summary\n",
            "Hyperparameters:\n",
            "lstm_out: 32\n",
            "dropout: 0.5\n",
            "learning_rate: 0.01\n",
            "Score: 0.6894604563713074\n",
            "Trial summary\n",
            "Hyperparameters:\n",
            "lstm_out: 32\n",
            "dropout: 0.8\n",
            "learning_rate: 0.01\n",
            "Score: 0.6888331174850464\n",
            "Trial summary\n",
            "Hyperparameters:\n",
            "lstm_out: 64\n",
            "dropout: 0.2\n",
            "learning_rate: 0.01\n",
            "Score: 0.6875784397125244\n",
            "Trial summary\n",
            "Hyperparameters:\n",
            "lstm_out: 48\n",
            "dropout: 0.8\n",
            "learning_rate: 0.001\n",
            "Score: 0.683814287185669\n",
            "Trial summary\n",
            "Hyperparameters:\n",
            "lstm_out: 64\n",
            "dropout: 0.8\n",
            "learning_rate: 0.001\n",
            "Score: 0.682559609413147\n",
            "Trial summary\n",
            "Hyperparameters:\n",
            "lstm_out: 32\n",
            "dropout: 0.5\n",
            "learning_rate: 0.001\n",
            "Score: 0.6813048720359802\n"
          ]
        }
      ]
    },
    {
      "cell_type": "code",
      "metadata": {
        "colab": {
          "base_uri": "https://localhost:8080/"
        },
        "id": "E_cxAGVZgb93",
        "outputId": "06b5ae4b-129f-42d9-d176-9b0489072b23"
      },
      "source": [
        "bestHP = tuner.get_best_hyperparameters(num_trials=1)[0]\n",
        "bestHP.get(\"lstm_out\"), bestHP.get(\"dropout\"), bestHP.get(\"learning_rate\")"
      ],
      "execution_count": null,
      "outputs": [
        {
          "output_type": "execute_result",
          "data": {
            "text/plain": [
              "(48, 0.2, 0.01)"
            ]
          },
          "metadata": {},
          "execution_count": 34
        }
      ]
    },
    {
      "cell_type": "code",
      "metadata": {
        "colab": {
          "base_uri": "https://localhost:8080/"
        },
        "id": "_UTyWrpTgiVY",
        "outputId": "773df948-b80a-47bd-8ac6-f2a0593f8330"
      },
      "source": [
        "best_model = tuner.get_best_models(num_models=1)[0]"
      ],
      "execution_count": null,
      "outputs": [
        {
          "output_type": "stream",
          "name": "stdout",
          "text": [
            "Model: \"sequential\"\n",
            "_________________________________________________________________\n",
            " Layer (type)                Output Shape              Param #   \n",
            "=================================================================\n",
            " lstm (LSTM)                 (None, 48)                67008     \n",
            "                                                                 \n",
            " dropout (Dropout)           (None, 48)                0         \n",
            "                                                                 \n",
            " dense (Dense)               (None, 3)                 147       \n",
            "                                                                 \n",
            "=================================================================\n",
            "Total params: 67,155\n",
            "Trainable params: 67,155\n",
            "Non-trainable params: 0\n",
            "_________________________________________________________________\n",
            "None\n"
          ]
        }
      ]
    },
    {
      "cell_type": "code",
      "metadata": {
        "colab": {
          "base_uri": "https://localhost:8080/"
        },
        "id": "J9UWMO9FgizU",
        "outputId": "47153c68-e427-49e2-8825-fda97fb9d2ac"
      },
      "source": [
        "loss, accuracy = best_model.evaluate(comments_test_w2v, y_test)"
      ],
      "execution_count": null,
      "outputs": [
        {
          "output_type": "stream",
          "name": "stdout",
          "text": [
            "63/63 [==============================] - 2s 13ms/step - loss: 0.7108 - accuracy: 0.6968\n"
          ]
        }
      ]
    },
    {
      "cell_type": "code",
      "source": [
        "best_model.save('/content/best_model_w2v.h5')"
      ],
      "metadata": {
        "id": "73-eTuZYbaL0"
      },
      "execution_count": null,
      "outputs": []
    }
  ]
}