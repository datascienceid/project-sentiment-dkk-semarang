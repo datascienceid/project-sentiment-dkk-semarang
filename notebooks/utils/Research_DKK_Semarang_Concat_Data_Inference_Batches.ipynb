{
  "nbformat": 4,
  "nbformat_minor": 0,
  "metadata": {
    "colab": {
      "name": "Research DKK Semarang - Concat Data Inference Batches",
      "provenance": [],
      "collapsed_sections": []
    },
    "kernelspec": {
      "name": "python3",
      "display_name": "Python 3"
    },
    "language_info": {
      "name": "python"
    }
  },
  "cells": [
    {
      "cell_type": "code",
      "metadata": {
        "id": "zUOAj3p6N_QY"
      },
      "source": [
        "import pandas as pd\n",
        "import numpy as np\n",
        "import matplotlib.pyplot as plt\n",
        "import glob"
      ],
      "execution_count": null,
      "outputs": []
    },
    {
      "cell_type": "code",
      "metadata": {
        "colab": {
          "base_uri": "https://localhost:8080/"
        },
        "id": "-RwYLQV8ONy6",
        "outputId": "4f063b44-83bf-4b2c-8b26-abde2e1dde71"
      },
      "source": [
        "path = \"/content\"\n",
        "# csv files in the path\n",
        "files = glob.glob(path + \"/*.csv\")\n",
        "files"
      ],
      "execution_count": null,
      "outputs": [
        {
          "output_type": "execute_result",
          "data": {
            "text/plain": [
              "['/content/6.csv',\n",
              " '/content/9.csv',\n",
              " '/content/5.csv',\n",
              " '/content/10.csv',\n",
              " '/content/8.csv',\n",
              " '/content/1.csv',\n",
              " '/content/4.csv',\n",
              " '/content/2.csv',\n",
              " '/content/11.csv',\n",
              " '/content/3.csv',\n",
              " '/content/0.csv',\n",
              " '/content/7.csv']"
            ]
          },
          "metadata": {},
          "execution_count": 4
        }
      ]
    },
    {
      "cell_type": "code",
      "metadata": {
        "colab": {
          "base_uri": "https://localhost:8080/"
        },
        "id": "RiG0xAW2OjZt",
        "outputId": "bf404581-c639-42b3-f0f8-e7ac094dfb50"
      },
      "source": [
        "# defining an empty list to store \n",
        "# content\n",
        "df = pd.DataFrame()\n",
        "content = []\n",
        "  \n",
        "# checking all the csv files in the \n",
        "# specified path\n",
        "for filename in files:\n",
        "    \n",
        "    # reading content of csv file\n",
        "    # content.append(filename)\n",
        "    df = pd.read_csv(filename, index_col=None)\n",
        "    content.append(df)\n",
        "  \n",
        "# converting content to data frame\n",
        "df = pd.concat(content, ignore_index=True)\n",
        "df.shape"
      ],
      "execution_count": null,
      "outputs": [
        {
          "output_type": "execute_result",
          "data": {
            "text/plain": [
              "(19823, 4)"
            ]
          },
          "metadata": {},
          "execution_count": 5
        }
      ]
    },
    {
      "cell_type": "code",
      "metadata": {
        "colab": {
          "base_uri": "https://localhost:8080/",
          "height": 203
        },
        "id": "4oN-8-RAOysd",
        "outputId": "6da52453-3c26-482c-a06c-d36cdadf6123"
      },
      "source": [
        "df.head()"
      ],
      "execution_count": null,
      "outputs": [
        {
          "output_type": "execute_result",
          "data": {
            "text/html": [
              "<div>\n",
              "<style scoped>\n",
              "    .dataframe tbody tr th:only-of-type {\n",
              "        vertical-align: middle;\n",
              "    }\n",
              "\n",
              "    .dataframe tbody tr th {\n",
              "        vertical-align: top;\n",
              "    }\n",
              "\n",
              "    .dataframe thead th {\n",
              "        text-align: right;\n",
              "    }\n",
              "</style>\n",
              "<table border=\"1\" class=\"dataframe\">\n",
              "  <thead>\n",
              "    <tr style=\"text-align: right;\">\n",
              "      <th></th>\n",
              "      <th>usernames</th>\n",
              "      <th>comments</th>\n",
              "      <th>likes</th>\n",
              "      <th>datetime</th>\n",
              "    </tr>\n",
              "  </thead>\n",
              "  <tbody>\n",
              "    <tr>\n",
              "      <th>0</th>\n",
              "      <td>hitominyanana</td>\n",
              "      <td>download buktinya gimana nih kalo dah teelanju...</td>\n",
              "      <td>0</td>\n",
              "      <td>2021-08-18</td>\n",
              "    </tr>\n",
              "    <tr>\n",
              "      <th>1</th>\n",
              "      <td>tiyok192</td>\n",
              "      <td>Ini saya sudah daftar dan mau cek jadwal Vaksi...</td>\n",
              "      <td>0</td>\n",
              "      <td>2021-08-18</td>\n",
              "    </tr>\n",
              "    <tr>\n",
              "      <th>2</th>\n",
              "      <td>adi_satria6969</td>\n",
              "      <td>kalo vaksin pertama disampokong , trus vaksin ...</td>\n",
              "      <td>0</td>\n",
              "      <td>2021-08-18</td>\n",
              "    </tr>\n",
              "    <tr>\n",
              "      <th>3</th>\n",
              "      <td>by.sandraa_</td>\n",
              "      <td>Minta info vaksin dosis 1 dong min , kmrn dftr...</td>\n",
              "      <td>0</td>\n",
              "      <td>2021-08-18</td>\n",
              "    </tr>\n",
              "    <tr>\n",
              "      <th>4</th>\n",
              "      <td>okkyher13</td>\n",
              "      <td>Buat tanggal 19 untuk quuen kq g ada y,,, adan...</td>\n",
              "      <td>0</td>\n",
              "      <td>2021-08-18</td>\n",
              "    </tr>\n",
              "  </tbody>\n",
              "</table>\n",
              "</div>"
            ],
            "text/plain": [
              "        usernames  ...    datetime\n",
              "0   hitominyanana  ...  2021-08-18\n",
              "1        tiyok192  ...  2021-08-18\n",
              "2  adi_satria6969  ...  2021-08-18\n",
              "3     by.sandraa_  ...  2021-08-18\n",
              "4       okkyher13  ...  2021-08-18\n",
              "\n",
              "[5 rows x 4 columns]"
            ]
          },
          "metadata": {},
          "execution_count": 6
        }
      ]
    },
    {
      "cell_type": "code",
      "metadata": {
        "colab": {
          "base_uri": "https://localhost:8080/"
        },
        "id": "GhZvmGcVO1b6",
        "outputId": "c9095203-3e76-4dfb-95d5-44b58803ea6a"
      },
      "source": [
        "df.info()"
      ],
      "execution_count": null,
      "outputs": [
        {
          "output_type": "stream",
          "name": "stdout",
          "text": [
            "<class 'pandas.core.frame.DataFrame'>\n",
            "RangeIndex: 19823 entries, 0 to 19822\n",
            "Data columns (total 4 columns):\n",
            " #   Column     Non-Null Count  Dtype \n",
            "---  ------     --------------  ----- \n",
            " 0   usernames  19823 non-null  object\n",
            " 1   comments   19823 non-null  object\n",
            " 2   likes      19823 non-null  object\n",
            " 3   datetime   19823 non-null  object\n",
            "dtypes: object(4)\n",
            "memory usage: 619.6+ KB\n"
          ]
        }
      ]
    },
    {
      "cell_type": "code",
      "metadata": {
        "colab": {
          "base_uri": "https://localhost:8080/"
        },
        "id": "WGGSHRg3O40J",
        "outputId": "97532c26-6076-4168-c810-56603c92f114"
      },
      "source": [
        "# convert datatype\n",
        "df['datetime'] = pd.to_datetime(df.datetime)\n",
        "df['likes'] = pd.to_numeric(df.likes, errors='coerce')\n",
        "df.info()"
      ],
      "execution_count": null,
      "outputs": [
        {
          "output_type": "stream",
          "name": "stdout",
          "text": [
            "<class 'pandas.core.frame.DataFrame'>\n",
            "RangeIndex: 19823 entries, 0 to 19822\n",
            "Data columns (total 4 columns):\n",
            " #   Column     Non-Null Count  Dtype         \n",
            "---  ------     --------------  -----         \n",
            " 0   usernames  19823 non-null  object        \n",
            " 1   comments   19823 non-null  object        \n",
            " 2   likes      19744 non-null  float64       \n",
            " 3   datetime   19823 non-null  datetime64[ns]\n",
            "dtypes: datetime64[ns](1), float64(1), object(2)\n",
            "memory usage: 619.6+ KB\n"
          ]
        }
      ]
    },
    {
      "cell_type": "markdown",
      "metadata": {
        "id": "034l6uZpQOEA"
      },
      "source": [
        "Some of the data need to fix data likes"
      ]
    },
    {
      "cell_type": "code",
      "metadata": {
        "colab": {
          "base_uri": "https://localhost:8080/",
          "height": 304
        },
        "id": "vfwEe52KQLjc",
        "outputId": "296f3d86-9974-48e5-9385-d9a2fc5399bc"
      },
      "source": [
        "import re\n",
        "\n",
        "likes_process = df[df.likes.isnull()]\n",
        "temp_like = []\n",
        "temp_comment = []\n",
        "\n",
        "for idx,c in enumerate(likes_process['comments']):\n",
        "    c = re.split(r'[0-9]w', c)\n",
        "    \n",
        "    comment = c[0]\n",
        "    temp_comment.append(comment)\n",
        "\n",
        "    like = c[1].split(' ')[0]\n",
        "    if like == 'Reply':\n",
        "        temp_like.append(0)\n",
        "    else:\n",
        "        temp_like.append(int(like))\n",
        "likes_process.loc[:,'likes'] = [l for l in temp_like]\n",
        "likes_process.loc[:, 'comments'] = [c for c in temp_comment]\n",
        "likes_process.head()"
      ],
      "execution_count": null,
      "outputs": [
        {
          "output_type": "stream",
          "name": "stderr",
          "text": [
            "/usr/local/lib/python3.7/dist-packages/pandas/core/indexing.py:1743: SettingWithCopyWarning: \n",
            "A value is trying to be set on a copy of a slice from a DataFrame.\n",
            "Try using .loc[row_indexer,col_indexer] = value instead\n",
            "\n",
            "See the caveats in the documentation: https://pandas.pydata.org/pandas-docs/stable/user_guide/indexing.html#returning-a-view-versus-a-copy\n",
            "  isetter(ilocs[0], value)\n"
          ]
        },
        {
          "output_type": "execute_result",
          "data": {
            "text/html": [
              "<div>\n",
              "<style scoped>\n",
              "    .dataframe tbody tr th:only-of-type {\n",
              "        vertical-align: middle;\n",
              "    }\n",
              "\n",
              "    .dataframe tbody tr th {\n",
              "        vertical-align: top;\n",
              "    }\n",
              "\n",
              "    .dataframe thead th {\n",
              "        text-align: right;\n",
              "    }\n",
              "</style>\n",
              "<table border=\"1\" class=\"dataframe\">\n",
              "  <thead>\n",
              "    <tr style=\"text-align: right;\">\n",
              "      <th></th>\n",
              "      <th>usernames</th>\n",
              "      <th>comments</th>\n",
              "      <th>likes</th>\n",
              "      <th>datetime</th>\n",
              "    </tr>\n",
              "  </thead>\n",
              "  <tbody>\n",
              "    <tr>\n",
              "      <th>744</th>\n",
              "      <td>dita_desnat</td>\n",
              "      <td>@ardianardesi 1</td>\n",
              "      <td>0</td>\n",
              "      <td>2021-08-16</td>\n",
              "    </tr>\n",
              "    <tr>\n",
              "      <th>861</th>\n",
              "      <td>mxhx29</td>\n",
              "      <td>Holy woiii Holy ~~~~~~ 1</td>\n",
              "      <td>1</td>\n",
              "      <td>2021-08-16</td>\n",
              "    </tr>\n",
              "    <tr>\n",
              "      <th>863</th>\n",
              "      <td>thonoevht18</td>\n",
              "      <td>Min piye tindak lanjute vaksin ke2 ng holly st...</td>\n",
              "      <td>0</td>\n",
              "      <td>2021-08-16</td>\n",
              "    </tr>\n",
              "    <tr>\n",
              "      <th>866</th>\n",
              "      <td>randusarirandusari</td>\n",
              "      <td>Yg dari holi vaksin ke 2 kapan pak mau dilaksa...</td>\n",
              "      <td>2</td>\n",
              "      <td>2021-08-16</td>\n",
              "    </tr>\n",
              "    <tr>\n",
              "      <th>906</th>\n",
              "      <td>rizkyauliaps</td>\n",
              "      <td>Halo min, saya vaksin pertama di holy stadium....</td>\n",
              "      <td>0</td>\n",
              "      <td>2021-08-16</td>\n",
              "    </tr>\n",
              "  </tbody>\n",
              "</table>\n",
              "</div>"
            ],
            "text/plain": [
              "              usernames  ...   datetime\n",
              "744         dita_desnat  ... 2021-08-16\n",
              "861              mxhx29  ... 2021-08-16\n",
              "863         thonoevht18  ... 2021-08-16\n",
              "866  randusarirandusari  ... 2021-08-16\n",
              "906        rizkyauliaps  ... 2021-08-16\n",
              "\n",
              "[5 rows x 4 columns]"
            ]
          },
          "metadata": {},
          "execution_count": 9
        }
      ]
    },
    {
      "cell_type": "code",
      "metadata": {
        "colab": {
          "base_uri": "https://localhost:8080/"
        },
        "id": "Yu-wJ7BMTNXS",
        "outputId": "586e6cba-d131-4419-a84e-fba6e660ab97"
      },
      "source": [
        "# replace main data with fixed data\n",
        "for idx,row in likes_process.iterrows():\n",
        "    df['comments'].iloc[idx] = row['comments']\n",
        "    df['likes'].iloc[idx] = row['likes']"
      ],
      "execution_count": null,
      "outputs": [
        {
          "output_type": "stream",
          "name": "stderr",
          "text": [
            "/usr/local/lib/python3.7/dist-packages/pandas/core/indexing.py:670: SettingWithCopyWarning: \n",
            "A value is trying to be set on a copy of a slice from a DataFrame\n",
            "\n",
            "See the caveats in the documentation: https://pandas.pydata.org/pandas-docs/stable/user_guide/indexing.html#returning-a-view-versus-a-copy\n",
            "  iloc._setitem_with_indexer(indexer, value)\n"
          ]
        }
      ]
    },
    {
      "cell_type": "code",
      "metadata": {
        "colab": {
          "base_uri": "https://localhost:8080/",
          "height": 203
        },
        "id": "RwwDOirHPO8b",
        "outputId": "6b61eb0f-dd79-4b3c-f17f-d3eda74b80ab"
      },
      "source": [
        "df = df.sort_values(by='datetime', ignore_index=True)\n",
        "df.head()"
      ],
      "execution_count": null,
      "outputs": [
        {
          "output_type": "execute_result",
          "data": {
            "text/html": [
              "<div>\n",
              "<style scoped>\n",
              "    .dataframe tbody tr th:only-of-type {\n",
              "        vertical-align: middle;\n",
              "    }\n",
              "\n",
              "    .dataframe tbody tr th {\n",
              "        vertical-align: top;\n",
              "    }\n",
              "\n",
              "    .dataframe thead th {\n",
              "        text-align: right;\n",
              "    }\n",
              "</style>\n",
              "<table border=\"1\" class=\"dataframe\">\n",
              "  <thead>\n",
              "    <tr style=\"text-align: right;\">\n",
              "      <th></th>\n",
              "      <th>usernames</th>\n",
              "      <th>comments</th>\n",
              "      <th>likes</th>\n",
              "      <th>datetime</th>\n",
              "    </tr>\n",
              "  </thead>\n",
              "  <tbody>\n",
              "    <tr>\n",
              "      <th>0</th>\n",
              "      <td>dianisticahyani</td>\n",
              "      <td>Efek libur lebaran &amp; mutasi virus ya?</td>\n",
              "      <td>1.0</td>\n",
              "      <td>2021-05-28</td>\n",
              "    </tr>\n",
              "    <tr>\n",
              "      <th>1</th>\n",
              "      <td>lilis_hanco</td>\n",
              "      <td>Ya Allah..kok naik lagi...semoga covidnya cepe...</td>\n",
              "      <td>2.0</td>\n",
              "      <td>2021-05-28</td>\n",
              "    </tr>\n",
              "    <tr>\n",
              "      <th>2</th>\n",
              "      <td>hadi_soeparno</td>\n",
              "      <td>Kec Banyumanik membara ayo musnahkan🙌🙌🙌</td>\n",
              "      <td>0.0</td>\n",
              "      <td>2021-05-28</td>\n",
              "    </tr>\n",
              "    <tr>\n",
              "      <th>3</th>\n",
              "      <td>adib_putratunggal</td>\n",
              "      <td>Membara</td>\n",
              "      <td>0.0</td>\n",
              "      <td>2021-05-28</td>\n",
              "    </tr>\n",
              "    <tr>\n",
              "      <th>4</th>\n",
              "      <td>ratihdyahutami</td>\n",
              "      <td>Pudak payung juara banyaknya</td>\n",
              "      <td>0.0</td>\n",
              "      <td>2021-05-28</td>\n",
              "    </tr>\n",
              "  </tbody>\n",
              "</table>\n",
              "</div>"
            ],
            "text/plain": [
              "           usernames  ...   datetime\n",
              "0    dianisticahyani  ... 2021-05-28\n",
              "1        lilis_hanco  ... 2021-05-28\n",
              "2      hadi_soeparno  ... 2021-05-28\n",
              "3  adib_putratunggal  ... 2021-05-28\n",
              "4     ratihdyahutami  ... 2021-05-28\n",
              "\n",
              "[5 rows x 4 columns]"
            ]
          },
          "metadata": {},
          "execution_count": 11
        }
      ]
    },
    {
      "cell_type": "code",
      "metadata": {
        "colab": {
          "base_uri": "https://localhost:8080/"
        },
        "id": "5af7BtTwPW-l",
        "outputId": "8fd04061-5f3b-4d08-ca60-3fbb1139b006"
      },
      "source": [
        "df.info()"
      ],
      "execution_count": null,
      "outputs": [
        {
          "output_type": "stream",
          "name": "stdout",
          "text": [
            "<class 'pandas.core.frame.DataFrame'>\n",
            "RangeIndex: 19823 entries, 0 to 19822\n",
            "Data columns (total 4 columns):\n",
            " #   Column     Non-Null Count  Dtype         \n",
            "---  ------     --------------  -----         \n",
            " 0   usernames  19823 non-null  object        \n",
            " 1   comments   19823 non-null  object        \n",
            " 2   likes      19823 non-null  float64       \n",
            " 3   datetime   19823 non-null  datetime64[ns]\n",
            "dtypes: datetime64[ns](1), float64(1), object(2)\n",
            "memory usage: 619.6+ KB\n"
          ]
        }
      ]
    },
    {
      "cell_type": "code",
      "metadata": {
        "colab": {
          "base_uri": "https://localhost:8080/"
        },
        "id": "1LF6D-6NPm7T",
        "outputId": "a000959c-7f99-4cfe-ae49-1de3652d42c6"
      },
      "source": [
        "# fix datatype\n",
        "df['likes'] = pd.to_numeric(df.likes, downcast='integer')\n",
        "df.info()"
      ],
      "execution_count": null,
      "outputs": [
        {
          "output_type": "stream",
          "name": "stdout",
          "text": [
            "<class 'pandas.core.frame.DataFrame'>\n",
            "RangeIndex: 19823 entries, 0 to 19822\n",
            "Data columns (total 4 columns):\n",
            " #   Column     Non-Null Count  Dtype         \n",
            "---  ------     --------------  -----         \n",
            " 0   usernames  19823 non-null  object        \n",
            " 1   comments   19823 non-null  object        \n",
            " 2   likes      19823 non-null  int16         \n",
            " 3   datetime   19823 non-null  datetime64[ns]\n",
            "dtypes: datetime64[ns](1), int16(1), object(2)\n",
            "memory usage: 503.4+ KB\n"
          ]
        }
      ]
    },
    {
      "cell_type": "code",
      "metadata": {
        "colab": {
          "base_uri": "https://localhost:8080/",
          "height": 203
        },
        "id": "kkC2Nh6yW9Lx",
        "outputId": "e16cde10-ee88-4a2d-dbcc-d1dfe4e84d52"
      },
      "source": [
        "df.head()"
      ],
      "execution_count": null,
      "outputs": [
        {
          "output_type": "execute_result",
          "data": {
            "text/html": [
              "<div>\n",
              "<style scoped>\n",
              "    .dataframe tbody tr th:only-of-type {\n",
              "        vertical-align: middle;\n",
              "    }\n",
              "\n",
              "    .dataframe tbody tr th {\n",
              "        vertical-align: top;\n",
              "    }\n",
              "\n",
              "    .dataframe thead th {\n",
              "        text-align: right;\n",
              "    }\n",
              "</style>\n",
              "<table border=\"1\" class=\"dataframe\">\n",
              "  <thead>\n",
              "    <tr style=\"text-align: right;\">\n",
              "      <th></th>\n",
              "      <th>usernames</th>\n",
              "      <th>comments</th>\n",
              "      <th>likes</th>\n",
              "      <th>datetime</th>\n",
              "    </tr>\n",
              "  </thead>\n",
              "  <tbody>\n",
              "    <tr>\n",
              "      <th>0</th>\n",
              "      <td>dianisticahyani</td>\n",
              "      <td>Efek libur lebaran &amp; mutasi virus ya?</td>\n",
              "      <td>1</td>\n",
              "      <td>2021-05-28</td>\n",
              "    </tr>\n",
              "    <tr>\n",
              "      <th>1</th>\n",
              "      <td>lilis_hanco</td>\n",
              "      <td>Ya Allah..kok naik lagi...semoga covidnya cepe...</td>\n",
              "      <td>2</td>\n",
              "      <td>2021-05-28</td>\n",
              "    </tr>\n",
              "    <tr>\n",
              "      <th>2</th>\n",
              "      <td>hadi_soeparno</td>\n",
              "      <td>Kec Banyumanik membara ayo musnahkan🙌🙌🙌</td>\n",
              "      <td>0</td>\n",
              "      <td>2021-05-28</td>\n",
              "    </tr>\n",
              "    <tr>\n",
              "      <th>3</th>\n",
              "      <td>adib_putratunggal</td>\n",
              "      <td>Membara</td>\n",
              "      <td>0</td>\n",
              "      <td>2021-05-28</td>\n",
              "    </tr>\n",
              "    <tr>\n",
              "      <th>4</th>\n",
              "      <td>ratihdyahutami</td>\n",
              "      <td>Pudak payung juara banyaknya</td>\n",
              "      <td>0</td>\n",
              "      <td>2021-05-28</td>\n",
              "    </tr>\n",
              "  </tbody>\n",
              "</table>\n",
              "</div>"
            ],
            "text/plain": [
              "           usernames  ...   datetime\n",
              "0    dianisticahyani  ... 2021-05-28\n",
              "1        lilis_hanco  ... 2021-05-28\n",
              "2      hadi_soeparno  ... 2021-05-28\n",
              "3  adib_putratunggal  ... 2021-05-28\n",
              "4     ratihdyahutami  ... 2021-05-28\n",
              "\n",
              "[5 rows x 4 columns]"
            ]
          },
          "metadata": {},
          "execution_count": 14
        }
      ]
    },
    {
      "cell_type": "code",
      "metadata": {
        "colab": {
          "base_uri": "https://localhost:8080/"
        },
        "id": "BeSJ_yndbnpu",
        "outputId": "3ba2144d-08b6-4d44-f750-6aa73b884450"
      },
      "source": [
        "# filter data > 23 Juni 2021\n",
        "df = df[df.datetime > '2021-06-23'].reset_index(drop=True)\n",
        "df.shape"
      ],
      "execution_count": null,
      "outputs": [
        {
          "output_type": "execute_result",
          "data": {
            "text/plain": [
              "(17547, 4)"
            ]
          },
          "metadata": {},
          "execution_count": 18
        }
      ]
    },
    {
      "cell_type": "code",
      "metadata": {
        "colab": {
          "base_uri": "https://localhost:8080/",
          "height": 203
        },
        "id": "4Z1QMrQIb6Xu",
        "outputId": "c18a40d9-61dc-4c70-c8b8-acf0835128dd"
      },
      "source": [
        "df.head()"
      ],
      "execution_count": null,
      "outputs": [
        {
          "output_type": "execute_result",
          "data": {
            "text/html": [
              "<div>\n",
              "<style scoped>\n",
              "    .dataframe tbody tr th:only-of-type {\n",
              "        vertical-align: middle;\n",
              "    }\n",
              "\n",
              "    .dataframe tbody tr th {\n",
              "        vertical-align: top;\n",
              "    }\n",
              "\n",
              "    .dataframe thead th {\n",
              "        text-align: right;\n",
              "    }\n",
              "</style>\n",
              "<table border=\"1\" class=\"dataframe\">\n",
              "  <thead>\n",
              "    <tr style=\"text-align: right;\">\n",
              "      <th></th>\n",
              "      <th>usernames</th>\n",
              "      <th>comments</th>\n",
              "      <th>likes</th>\n",
              "      <th>datetime</th>\n",
              "    </tr>\n",
              "  </thead>\n",
              "  <tbody>\n",
              "    <tr>\n",
              "      <th>0</th>\n",
              "      <td>marlexsky</td>\n",
              "      <td>Kami menunggu kabar baik🙌🙌🙌</td>\n",
              "      <td>0</td>\n",
              "      <td>2021-06-24</td>\n",
              "    </tr>\n",
              "    <tr>\n",
              "      <th>1</th>\n",
              "      <td>kristianhendy34</td>\n",
              "      <td>Tolong min @dkksemarang saya sudah daftar vaks...</td>\n",
              "      <td>1</td>\n",
              "      <td>2021-06-24</td>\n",
              "    </tr>\n",
              "    <tr>\n",
              "      <th>2</th>\n",
              "      <td>son_marsono07</td>\n",
              "      <td>Semua umur atau lansia dan pralansia</td>\n",
              "      <td>0</td>\n",
              "      <td>2021-06-24</td>\n",
              "    </tr>\n",
              "    <tr>\n",
              "      <th>3</th>\n",
              "      <td>erizdina</td>\n",
              "      <td>Untuk golongan usia berapa min?? Saya sudah da...</td>\n",
              "      <td>1</td>\n",
              "      <td>2021-06-24</td>\n",
              "    </tr>\n",
              "    <tr>\n",
              "      <th>4</th>\n",
              "      <td>lusia_semarang</td>\n",
              "      <td>Sudah daftar tpi belum ada konfirmasi panggila...</td>\n",
              "      <td>3</td>\n",
              "      <td>2021-06-24</td>\n",
              "    </tr>\n",
              "  </tbody>\n",
              "</table>\n",
              "</div>"
            ],
            "text/plain": [
              "         usernames  ...   datetime\n",
              "0        marlexsky  ... 2021-06-24\n",
              "1  kristianhendy34  ... 2021-06-24\n",
              "2    son_marsono07  ... 2021-06-24\n",
              "3         erizdina  ... 2021-06-24\n",
              "4   lusia_semarang  ... 2021-06-24\n",
              "\n",
              "[5 rows x 4 columns]"
            ]
          },
          "metadata": {},
          "execution_count": 19
        }
      ]
    },
    {
      "cell_type": "code",
      "metadata": {
        "id": "9eIBdTo4XPjP"
      },
      "source": [
        "# export to csv\n",
        "df.to_csv('data_inference.csv', index=False)"
      ],
      "execution_count": null,
      "outputs": []
    },
    {
      "cell_type": "code",
      "metadata": {
        "id": "wfnZcb6obbCO"
      },
      "source": [
        ""
      ],
      "execution_count": null,
      "outputs": []
    }
  ]
}