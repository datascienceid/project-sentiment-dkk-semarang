{
  "nbformat": 4,
  "nbformat_minor": 0,
  "metadata": {
    "colab": {
      "name": "Research DKK Semarang - Preprocess @username and Concat Data Development + Inference",
      "provenance": [],
      "collapsed_sections": []
    },
    "kernelspec": {
      "name": "python3",
      "display_name": "Python 3"
    },
    "language_info": {
      "name": "python"
    }
  },
  "cells": [
    {
      "cell_type": "code",
      "metadata": {
        "id": "l36lg7a_-_pe"
      },
      "source": [
        "import pandas as pd\n",
        "import numpy as np\n",
        "import re"
      ],
      "execution_count": null,
      "outputs": []
    },
    {
      "cell_type": "code",
      "metadata": {
        "colab": {
          "base_uri": "https://localhost:8080/",
          "height": 206
        },
        "id": "UMy4kk2f_OFK",
        "outputId": "e3873769-3831-4b2d-e4ad-f757b60a3fc0"
      },
      "source": [
        "raw = pd.read_csv('data_raw.csv')\n",
        "# df_dev = pd.read_csv('data_development.csv')\n",
        "# df_inf = pd.read_csv('data_inference.csv')\n",
        "# train = pd.read_csv('train.csv')\n",
        "# test = pd.read_csv('test.csv')\n",
        "\n",
        "# df_dev.head()\n",
        "raw.head()"
      ],
      "execution_count": null,
      "outputs": [
        {
          "output_type": "execute_result",
          "data": {
            "text/html": [
              "<div>\n",
              "<style scoped>\n",
              "    .dataframe tbody tr th:only-of-type {\n",
              "        vertical-align: middle;\n",
              "    }\n",
              "\n",
              "    .dataframe tbody tr th {\n",
              "        vertical-align: top;\n",
              "    }\n",
              "\n",
              "    .dataframe thead th {\n",
              "        text-align: right;\n",
              "    }\n",
              "</style>\n",
              "<table border=\"1\" class=\"dataframe\">\n",
              "  <thead>\n",
              "    <tr style=\"text-align: right;\">\n",
              "      <th></th>\n",
              "      <th>username</th>\n",
              "      <th>comments</th>\n",
              "      <th>likes</th>\n",
              "      <th>datetime</th>\n",
              "    </tr>\n",
              "  </thead>\n",
              "  <tbody>\n",
              "    <tr>\n",
              "      <th>0</th>\n",
              "      <td>ainun_muainun</td>\n",
              "      <td>minkes...utk kelurahan wonoplumbon kec mijen b...</td>\n",
              "      <td>6</td>\n",
              "      <td>2021-06-23</td>\n",
              "    </tr>\n",
              "    <tr>\n",
              "      <th>1</th>\n",
              "      <td>diladil13</td>\n",
              "      <td>Aku udh vaksin 2kali ini tetep kena ...minta d...</td>\n",
              "      <td>10</td>\n",
              "      <td>2021-06-23</td>\n",
              "    </tr>\n",
              "    <tr>\n",
              "      <th>2</th>\n",
              "      <td>14x32</td>\n",
              "      <td>Gak yakin ini data realtime. Perasaan yg dilap...</td>\n",
              "      <td>15</td>\n",
              "      <td>2021-06-23</td>\n",
              "    </tr>\n",
              "    <tr>\n",
              "      <th>3</th>\n",
              "      <td>solihah_moko_steak</td>\n",
              "      <td>pak kemaren saya percaya bsnget dengan covid k...</td>\n",
              "      <td>3</td>\n",
              "      <td>2021-06-23</td>\n",
              "    </tr>\n",
              "    <tr>\n",
              "      <th>4</th>\n",
              "      <td>rony.saefudin</td>\n",
              "      <td>Sendangmulyo tambah terus 😞</td>\n",
              "      <td>2</td>\n",
              "      <td>2021-06-23</td>\n",
              "    </tr>\n",
              "  </tbody>\n",
              "</table>\n",
              "</div>"
            ],
            "text/plain": [
              "             username  ...    datetime\n",
              "0       ainun_muainun  ...  2021-06-23\n",
              "1           diladil13  ...  2021-06-23\n",
              "2               14x32  ...  2021-06-23\n",
              "3  solihah_moko_steak  ...  2021-06-23\n",
              "4       rony.saefudin  ...  2021-06-23\n",
              "\n",
              "[5 rows x 4 columns]"
            ]
          },
          "metadata": {},
          "execution_count": 3
        }
      ]
    },
    {
      "cell_type": "code",
      "metadata": {
        "id": "ZqFWjtiNc_46"
      },
      "source": [
        "# df_inf.head()"
      ],
      "execution_count": null,
      "outputs": []
    },
    {
      "cell_type": "code",
      "metadata": {
        "id": "1eV2YoiqdE2N"
      },
      "source": [
        "# # fixed column data inference\n",
        "# df_inf = df_inf.rename(columns={'comments':'text', 'usernames':'username'})\n",
        "# df_inf['label'] = None\n",
        "# cols = ['text', 'label', 'username', 'likes', 'datetime']\n",
        "# df_inf = df_inf[cols]\n",
        "\n",
        "# df_inf.head()"
      ],
      "execution_count": null,
      "outputs": []
    },
    {
      "cell_type": "code",
      "metadata": {
        "colab": {
          "base_uri": "https://localhost:8080/",
          "height": 206
        },
        "id": "brfPm6Der3Hq",
        "outputId": "c91def32-f38d-415d-dd9a-898fcb23804a"
      },
      "source": [
        "# fixed column name data raw\n",
        "raw = raw.rename(columns={'comments':'text'})\n",
        "raw.head()"
      ],
      "execution_count": null,
      "outputs": [
        {
          "output_type": "execute_result",
          "data": {
            "text/html": [
              "<div>\n",
              "<style scoped>\n",
              "    .dataframe tbody tr th:only-of-type {\n",
              "        vertical-align: middle;\n",
              "    }\n",
              "\n",
              "    .dataframe tbody tr th {\n",
              "        vertical-align: top;\n",
              "    }\n",
              "\n",
              "    .dataframe thead th {\n",
              "        text-align: right;\n",
              "    }\n",
              "</style>\n",
              "<table border=\"1\" class=\"dataframe\">\n",
              "  <thead>\n",
              "    <tr style=\"text-align: right;\">\n",
              "      <th></th>\n",
              "      <th>username</th>\n",
              "      <th>text</th>\n",
              "      <th>likes</th>\n",
              "      <th>datetime</th>\n",
              "    </tr>\n",
              "  </thead>\n",
              "  <tbody>\n",
              "    <tr>\n",
              "      <th>0</th>\n",
              "      <td>ainun_muainun</td>\n",
              "      <td>minkes...utk kelurahan wonoplumbon kec mijen b...</td>\n",
              "      <td>6</td>\n",
              "      <td>2021-06-23</td>\n",
              "    </tr>\n",
              "    <tr>\n",
              "      <th>1</th>\n",
              "      <td>diladil13</td>\n",
              "      <td>Aku udh vaksin 2kali ini tetep kena ...minta d...</td>\n",
              "      <td>10</td>\n",
              "      <td>2021-06-23</td>\n",
              "    </tr>\n",
              "    <tr>\n",
              "      <th>2</th>\n",
              "      <td>14x32</td>\n",
              "      <td>Gak yakin ini data realtime. Perasaan yg dilap...</td>\n",
              "      <td>15</td>\n",
              "      <td>2021-06-23</td>\n",
              "    </tr>\n",
              "    <tr>\n",
              "      <th>3</th>\n",
              "      <td>solihah_moko_steak</td>\n",
              "      <td>pak kemaren saya percaya bsnget dengan covid k...</td>\n",
              "      <td>3</td>\n",
              "      <td>2021-06-23</td>\n",
              "    </tr>\n",
              "    <tr>\n",
              "      <th>4</th>\n",
              "      <td>rony.saefudin</td>\n",
              "      <td>Sendangmulyo tambah terus 😞</td>\n",
              "      <td>2</td>\n",
              "      <td>2021-06-23</td>\n",
              "    </tr>\n",
              "  </tbody>\n",
              "</table>\n",
              "</div>"
            ],
            "text/plain": [
              "             username  ...    datetime\n",
              "0       ainun_muainun  ...  2021-06-23\n",
              "1           diladil13  ...  2021-06-23\n",
              "2               14x32  ...  2021-06-23\n",
              "3  solihah_moko_steak  ...  2021-06-23\n",
              "4       rony.saefudin  ...  2021-06-23\n",
              "\n",
              "[5 rows x 4 columns]"
            ]
          },
          "metadata": {},
          "execution_count": 6
        }
      ]
    },
    {
      "cell_type": "code",
      "metadata": {
        "id": "nclbpRCOdl3N"
      },
      "source": [
        "pattern = \"(?:@)([A-Za-z0-9_](?:(?:[A-Za-z0-9_]|(?:\\.(?!\\.))){0,28}(?:[A-Za-z0-9_]))?)\"\n",
        "\n",
        "def replace_username(df):\n",
        "    df['text'] = df['text'].apply(lambda x: re.sub(pattern, \"@username\", x))\n",
        "    df['username'] = ['username' for i in range(len(df))]\n",
        "    return df"
      ],
      "execution_count": null,
      "outputs": []
    },
    {
      "cell_type": "code",
      "metadata": {
        "id": "u88QEyn2dvu5"
      },
      "source": [
        "raw = replace_username(raw)\n",
        "# df_dev = replace_username(df_dev)\n",
        "# df_inf = replace_username(df_inf)\n",
        "# train = replace_username(train)\n",
        "# test = replace_username(test)"
      ],
      "execution_count": null,
      "outputs": []
    },
    {
      "cell_type": "code",
      "metadata": {
        "colab": {
          "base_uri": "https://localhost:8080/",
          "height": 206
        },
        "id": "huBOm6NWfMXG",
        "outputId": "86f7771b-fd28-4fad-b7cb-b52d6d5ace59"
      },
      "source": [
        "# sort data ascending development and inference\n",
        "# df_dev = df_dev.sort_values(by='datetime', ascending=True, ignore_index=True)\n",
        "# df_dev['data_type'] = 'development'\n",
        "\n",
        "# df_inf = df_inf.sort_values(by='datetime', ascending=True, ignore_index=True)\n",
        "# df_inf['data_type'] = 'inference'\n",
        "\n",
        "# df_inf.head()\n",
        "\n",
        "raw = raw.sort_values(by='datetime', ascending=True, ignore_index=True)\n",
        "raw.head()"
      ],
      "execution_count": null,
      "outputs": [
        {
          "output_type": "execute_result",
          "data": {
            "text/html": [
              "<div>\n",
              "<style scoped>\n",
              "    .dataframe tbody tr th:only-of-type {\n",
              "        vertical-align: middle;\n",
              "    }\n",
              "\n",
              "    .dataframe tbody tr th {\n",
              "        vertical-align: top;\n",
              "    }\n",
              "\n",
              "    .dataframe thead th {\n",
              "        text-align: right;\n",
              "    }\n",
              "</style>\n",
              "<table border=\"1\" class=\"dataframe\">\n",
              "  <thead>\n",
              "    <tr style=\"text-align: right;\">\n",
              "      <th></th>\n",
              "      <th>username</th>\n",
              "      <th>text</th>\n",
              "      <th>likes</th>\n",
              "      <th>datetime</th>\n",
              "    </tr>\n",
              "  </thead>\n",
              "  <tbody>\n",
              "    <tr>\n",
              "      <th>0</th>\n",
              "      <td>username</td>\n",
              "      <td>Have a nice day, dear.. 😘</td>\n",
              "      <td>0</td>\n",
              "      <td>2018-12-01</td>\n",
              "    </tr>\n",
              "    <tr>\n",
              "      <th>1</th>\n",
              "      <td>username</td>\n",
              "      <td>Mantaap</td>\n",
              "      <td>0</td>\n",
              "      <td>2018-12-08</td>\n",
              "    </tr>\n",
              "    <tr>\n",
              "      <th>2</th>\n",
              "      <td>username</td>\n",
              "      <td>Ijin repost yaa min @username 🙏</td>\n",
              "      <td>0</td>\n",
              "      <td>2018-12-09</td>\n",
              "    </tr>\n",
              "    <tr>\n",
              "      <th>3</th>\n",
              "      <td>username</td>\n",
              "      <td>Mantaappp....langsung instal nih @username</td>\n",
              "      <td>0</td>\n",
              "      <td>2018-12-09</td>\n",
              "    </tr>\n",
              "    <tr>\n",
              "      <th>4</th>\n",
              "      <td>username</td>\n",
              "      <td>Mantaaap👍</td>\n",
              "      <td>0</td>\n",
              "      <td>2018-12-09</td>\n",
              "    </tr>\n",
              "  </tbody>\n",
              "</table>\n",
              "</div>"
            ],
            "text/plain": [
              "   username                                        text likes    datetime\n",
              "0  username                   Have a nice day, dear.. 😘     0  2018-12-01\n",
              "1  username                                     Mantaap     0  2018-12-08\n",
              "2  username             Ijin repost yaa min @username 🙏     0  2018-12-09\n",
              "3  username  Mantaappp....langsung instal nih @username     0  2018-12-09\n",
              "4  username                                   Mantaaap👍     0  2018-12-09"
            ]
          },
          "metadata": {},
          "execution_count": 9
        }
      ]
    },
    {
      "cell_type": "code",
      "metadata": {
        "colab": {
          "base_uri": "https://localhost:8080/",
          "height": 203
        },
        "id": "rTaHRf6ue6VJ",
        "outputId": "bf5b43b2-39d3-4ed4-be27-af684e918800"
      },
      "source": [
        "df = pd.concat([df_dev, df_inf], ignore_index=True)\n",
        "df.head()"
      ],
      "execution_count": null,
      "outputs": [
        {
          "output_type": "execute_result",
          "data": {
            "text/html": [
              "<div>\n",
              "<style scoped>\n",
              "    .dataframe tbody tr th:only-of-type {\n",
              "        vertical-align: middle;\n",
              "    }\n",
              "\n",
              "    .dataframe tbody tr th {\n",
              "        vertical-align: top;\n",
              "    }\n",
              "\n",
              "    .dataframe thead th {\n",
              "        text-align: right;\n",
              "    }\n",
              "</style>\n",
              "<table border=\"1\" class=\"dataframe\">\n",
              "  <thead>\n",
              "    <tr style=\"text-align: right;\">\n",
              "      <th></th>\n",
              "      <th>text</th>\n",
              "      <th>label</th>\n",
              "      <th>username</th>\n",
              "      <th>likes</th>\n",
              "      <th>datetime</th>\n",
              "      <th>data_type</th>\n",
              "    </tr>\n",
              "  </thead>\n",
              "  <tbody>\n",
              "    <tr>\n",
              "      <th>0</th>\n",
              "      <td>Ijin share</td>\n",
              "      <td>positive</td>\n",
              "      <td>username</td>\n",
              "      <td>0</td>\n",
              "      <td>2020-03-03</td>\n",
              "      <td>development</td>\n",
              "    </tr>\n",
              "    <tr>\n",
              "      <th>1</th>\n",
              "      <td>@username</td>\n",
              "      <td>neutral</td>\n",
              "      <td>username</td>\n",
              "      <td>0</td>\n",
              "      <td>2020-03-03</td>\n",
              "      <td>development</td>\n",
              "    </tr>\n",
              "    <tr>\n",
              "      <th>2</th>\n",
              "      <td>@username perlune cuci tangan mbing . santai wae</td>\n",
              "      <td>neutral</td>\n",
              "      <td>username</td>\n",
              "      <td>1</td>\n",
              "      <td>2020-03-03</td>\n",
              "      <td>development</td>\n",
              "    </tr>\n",
              "    <tr>\n",
              "      <th>3</th>\n",
              "      <td>Pegawai PUSKESMAS?</td>\n",
              "      <td>neutral</td>\n",
              "      <td>username</td>\n",
              "      <td>0</td>\n",
              "      <td>2020-03-06</td>\n",
              "      <td>development</td>\n",
              "    </tr>\n",
              "    <tr>\n",
              "      <th>4</th>\n",
              "      <td>Kalo untuk para pegawai RS terutama bagian pen...</td>\n",
              "      <td>neutral</td>\n",
              "      <td>username</td>\n",
              "      <td>0</td>\n",
              "      <td>2020-03-06</td>\n",
              "      <td>development</td>\n",
              "    </tr>\n",
              "  </tbody>\n",
              "</table>\n",
              "</div>"
            ],
            "text/plain": [
              "                                                text  ...    data_type\n",
              "0                                         Ijin share  ...  development\n",
              "1                                          @username  ...  development\n",
              "2   @username perlune cuci tangan mbing . santai wae  ...  development\n",
              "3                                 Pegawai PUSKESMAS?  ...  development\n",
              "4  Kalo untuk para pegawai RS terutama bagian pen...  ...  development\n",
              "\n",
              "[5 rows x 6 columns]"
            ]
          },
          "metadata": {},
          "execution_count": 26
        }
      ]
    },
    {
      "cell_type": "code",
      "metadata": {
        "colab": {
          "base_uri": "https://localhost:8080/"
        },
        "id": "xPU7JqCsgKlU",
        "outputId": "616a5012-bb13-4df9-cd5f-4f6003aea0b2"
      },
      "source": [
        "df['data_type'].value_counts()"
      ],
      "execution_count": null,
      "outputs": [
        {
          "output_type": "execute_result",
          "data": {
            "text/plain": [
              "inference      17547\n",
              "development     9959\n",
              "Name: data_type, dtype: int64"
            ]
          },
          "metadata": {},
          "execution_count": 27
        }
      ]
    },
    {
      "cell_type": "code",
      "metadata": {
        "id": "Nd9ULcRjFERd"
      },
      "source": [
        "# export csv\n",
        "# df_dev.to_csv('data_development_masked.csv', index=False)\n",
        "# df_inf.to_csv('data_inference_masked.csv', index=False)\n",
        "# df.to_csv('data_complete_masked.csv', index=False)\n",
        "# train.to_csv('train_masked.csv', index=False)\n",
        "# test.to_csv('test_masked.csv', index=False)\n",
        "raw.to_csv('data_raw_masked.csv', index=False)"
      ],
      "execution_count": null,
      "outputs": []
    },
    {
      "cell_type": "code",
      "metadata": {
        "id": "n5PHugmwF4hQ"
      },
      "source": [
        ""
      ],
      "execution_count": null,
      "outputs": []
    }
  ]
}