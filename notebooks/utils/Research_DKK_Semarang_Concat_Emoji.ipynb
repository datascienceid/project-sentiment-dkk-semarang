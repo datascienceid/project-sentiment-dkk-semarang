{
  "nbformat": 4,
  "nbformat_minor": 0,
  "metadata": {
    "colab": {
      "name": "Research DKK Semarang - Concat Emoji",
      "provenance": [],
      "collapsed_sections": []
    },
    "kernelspec": {
      "name": "python3",
      "display_name": "Python 3"
    },
    "language_info": {
      "name": "python"
    }
  },
  "cells": [
    {
      "cell_type": "code",
      "metadata": {
        "id": "HTelxS26qbRl"
      },
      "source": [
        "import pandas as pd"
      ],
      "execution_count": null,
      "outputs": []
    },
    {
      "cell_type": "code",
      "metadata": {
        "id": "JEVDadUFqeUE"
      },
      "source": [
        "df1 = pd.read_csv('1.csv')\n",
        "df2 = pd.read_csv('2.csv')\n",
        "df3 = pd.read_csv('3.csv')\n",
        "df4 = pd.read_csv('4.csv')\n",
        "df5 = pd.read_csv('5.csv')\n",
        "df6 = pd.read_csv('6.csv')\n",
        "df7 = pd.read_csv('7.csv')\n",
        "df8 = pd.read_csv('8.csv')"
      ],
      "execution_count": null,
      "outputs": []
    },
    {
      "cell_type": "code",
      "metadata": {
        "colab": {
          "base_uri": "https://localhost:8080/",
          "height": 203
        },
        "id": "GxqepCqfqrXJ",
        "outputId": "77d1ac18-6350-43b4-f201-803a707a9d9d"
      },
      "source": [
        "df = pd.concat([df1, df2, df3, df4, df5, df6, df7, df8], ignore_index=True)\n",
        "df.tail()"
      ],
      "execution_count": null,
      "outputs": [
        {
          "output_type": "execute_result",
          "data": {
            "text/html": [
              "<div>\n",
              "<style scoped>\n",
              "    .dataframe tbody tr th:only-of-type {\n",
              "        vertical-align: middle;\n",
              "    }\n",
              "\n",
              "    .dataframe tbody tr th {\n",
              "        vertical-align: top;\n",
              "    }\n",
              "\n",
              "    .dataframe thead th {\n",
              "        text-align: right;\n",
              "    }\n",
              "</style>\n",
              "<table border=\"1\" class=\"dataframe\">\n",
              "  <thead>\n",
              "    <tr style=\"text-align: right;\">\n",
              "      <th></th>\n",
              "      <th>emoji</th>\n",
              "      <th>makna</th>\n",
              "    </tr>\n",
              "  </thead>\n",
              "  <tbody>\n",
              "    <tr>\n",
              "      <th>1527</th>\n",
              "      <td>🧾</td>\n",
              "      <td>Tanda Terima</td>\n",
              "    </tr>\n",
              "    <tr>\n",
              "      <th>1528</th>\n",
              "      <td>⏱️</td>\n",
              "      <td>Jam Sukat</td>\n",
              "    </tr>\n",
              "    <tr>\n",
              "      <th>1529</th>\n",
              "      <td>🕹️</td>\n",
              "      <td>Tuas Kendali</td>\n",
              "    </tr>\n",
              "    <tr>\n",
              "      <th>1530</th>\n",
              "      <td>📯</td>\n",
              "      <td>Terompet Postal</td>\n",
              "    </tr>\n",
              "    <tr>\n",
              "      <th>1531</th>\n",
              "      <td>⚒️</td>\n",
              "      <td>Palu dan Pahat</td>\n",
              "    </tr>\n",
              "  </tbody>\n",
              "</table>\n",
              "</div>"
            ],
            "text/plain": [
              "     emoji            makna\n",
              "1527     🧾     Tanda Terima\n",
              "1528    ⏱️        Jam Sukat\n",
              "1529    🕹️     Tuas Kendali\n",
              "1530     📯  Terompet Postal\n",
              "1531    ⚒️   Palu dan Pahat"
            ]
          },
          "metadata": {},
          "execution_count": 3
        }
      ]
    },
    {
      "cell_type": "code",
      "metadata": {
        "colab": {
          "base_uri": "https://localhost:8080/"
        },
        "id": "17ewxqvbqx4W",
        "outputId": "1a8ae053-e292-4d60-968c-c3f2f3211112"
      },
      "source": [
        "df.shape"
      ],
      "execution_count": null,
      "outputs": [
        {
          "output_type": "execute_result",
          "data": {
            "text/plain": [
              "(1532, 2)"
            ]
          },
          "metadata": {},
          "execution_count": 4
        }
      ]
    },
    {
      "cell_type": "code",
      "metadata": {
        "colab": {
          "base_uri": "https://localhost:8080/"
        },
        "id": "Wffnc-nEre6A",
        "outputId": "8cd19a4f-1758-4b34-fe06-66b2383b340f"
      },
      "source": [
        "df['emoji'].value_counts().head(17)"
      ],
      "execution_count": null,
      "outputs": [
        {
          "output_type": "execute_result",
          "data": {
            "text/plain": [
              "🗿     2\n",
              "🐫     2\n",
              "🌰     2\n",
              "🚰     2\n",
              "⛱️    2\n",
              "🧵     2\n",
              "🧶     2\n",
              "💷     2\n",
              "🍄     2\n",
              "🚣     2\n",
              "🧀     2\n",
              "📯     2\n",
              "💶     2\n",
              "💴     2\n",
              "💵     2\n",
              "🌠     2\n",
              "🌏     1\n",
              "Name: emoji, dtype: int64"
            ]
          },
          "metadata": {},
          "execution_count": 14
        }
      ]
    },
    {
      "cell_type": "code",
      "metadata": {
        "id": "rzIgTaRbsBju"
      },
      "source": [
        "# drop duplicate\n",
        "df = df.drop_duplicates(subset='emoji').reset_index(drop=True)\n",
        "df = df.drop_duplicates(subset='makna').reset_index(drop=True)"
      ],
      "execution_count": null,
      "outputs": []
    },
    {
      "cell_type": "code",
      "metadata": {
        "colab": {
          "base_uri": "https://localhost:8080/"
        },
        "id": "jEG845BtsLmO",
        "outputId": "d821b55e-740b-4a17-9eb4-d8f8093dbe83"
      },
      "source": [
        "df.shape"
      ],
      "execution_count": null,
      "outputs": [
        {
          "output_type": "execute_result",
          "data": {
            "text/plain": [
              "(1513, 2)"
            ]
          },
          "metadata": {},
          "execution_count": 32
        }
      ]
    },
    {
      "cell_type": "code",
      "metadata": {
        "id": "j4_fhvP_qy_-"
      },
      "source": [
        "df.to_csv('emoji_to_text.csv', index=False)"
      ],
      "execution_count": null,
      "outputs": []
    },
    {
      "cell_type": "code",
      "metadata": {
        "id": "yUV9p8cpq3hZ"
      },
      "source": [
        ""
      ],
      "execution_count": null,
      "outputs": []
    }
  ]
}