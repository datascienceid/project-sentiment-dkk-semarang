{
  "nbformat": 4,
  "nbformat_minor": 0,
  "metadata": {
    "colab": {
      "name": "Research DKK Semarang - Concat Annotated Data & Split to data train and test",
      "provenance": [],
      "collapsed_sections": [
        "sAcnNHcwuiQQ",
        "wOwNJWq60_jo",
        "PP9_vWSW14a9",
        "qfPBJW5o2Gcn",
        "j1uVPt2m3pIC"
      ]
    },
    "kernelspec": {
      "name": "python3",
      "display_name": "Python 3"
    },
    "language_info": {
      "name": "python"
    }
  },
  "cells": [
    {
      "cell_type": "code",
      "metadata": {
        "id": "K2scZWQKe90l"
      },
      "source": [
        "import pandas as pd\n",
        "import numpy as np"
      ],
      "execution_count": null,
      "outputs": []
    },
    {
      "cell_type": "code",
      "metadata": {
        "colab": {
          "base_uri": "https://localhost:8080/",
          "height": 203
        },
        "id": "ln4_34WPfIgp",
        "outputId": "1c28456e-2d88-4fd0-b834-72f67fead21c"
      },
      "source": [
        "# batch 1\n",
        "batch1 = pd.read_csv('/content/batch1_labeled.csv', sep=';',encoding='cp1252')\n",
        "batch1.head()"
      ],
      "execution_count": null,
      "outputs": [
        {
          "output_type": "execute_result",
          "data": {
            "text/html": [
              "<div>\n",
              "<style scoped>\n",
              "    .dataframe tbody tr th:only-of-type {\n",
              "        vertical-align: middle;\n",
              "    }\n",
              "\n",
              "    .dataframe tbody tr th {\n",
              "        vertical-align: top;\n",
              "    }\n",
              "\n",
              "    .dataframe thead th {\n",
              "        text-align: right;\n",
              "    }\n",
              "</style>\n",
              "<table border=\"1\" class=\"dataframe\">\n",
              "  <thead>\n",
              "    <tr style=\"text-align: right;\">\n",
              "      <th></th>\n",
              "      <th>text</th>\n",
              "      <th>label</th>\n",
              "    </tr>\n",
              "  </thead>\n",
              "  <tbody>\n",
              "    <tr>\n",
              "      <th>0</th>\n",
              "      <td>minkes...utk kelurahan wonoplumbon kec mijen b...</td>\n",
              "      <td>Negatif</td>\n",
              "    </tr>\n",
              "    <tr>\n",
              "      <th>1</th>\n",
              "      <td>Aku udh vaksin 2kali ini tetep kena ...minta d...</td>\n",
              "      <td>Negatif</td>\n",
              "    </tr>\n",
              "    <tr>\n",
              "      <th>2</th>\n",
              "      <td>Gak yakin ini data realtime. Perasaan yg dilap...</td>\n",
              "      <td>Negatif</td>\n",
              "    </tr>\n",
              "    <tr>\n",
              "      <th>3</th>\n",
              "      <td>pak kemaren saya percaya bsnget dengan covid k...</td>\n",
              "      <td>Negatif</td>\n",
              "    </tr>\n",
              "    <tr>\n",
              "      <th>4</th>\n",
              "      <td>Sendangmulyo tambah terus ??,</td>\n",
              "      <td>Negatif</td>\n",
              "    </tr>\n",
              "  </tbody>\n",
              "</table>\n",
              "</div>"
            ],
            "text/plain": [
              "                                                text    label\n",
              "0  minkes...utk kelurahan wonoplumbon kec mijen b...  Negatif\n",
              "1  Aku udh vaksin 2kali ini tetep kena ...minta d...  Negatif\n",
              "2  Gak yakin ini data realtime. Perasaan yg dilap...  Negatif\n",
              "3  pak kemaren saya percaya bsnget dengan covid k...  Negatif\n",
              "4                      Sendangmulyo tambah terus ??,  Negatif"
            ]
          },
          "metadata": {},
          "execution_count": 2
        }
      ]
    },
    {
      "cell_type": "code",
      "metadata": {
        "colab": {
          "base_uri": "https://localhost:8080/"
        },
        "id": "HvWR09ZIfUOo",
        "outputId": "d6be2ebb-7a8c-4a53-9723-d720951d4371"
      },
      "source": [
        "batch1.shape"
      ],
      "execution_count": null,
      "outputs": [
        {
          "output_type": "execute_result",
          "data": {
            "text/plain": [
              "(2067, 2)"
            ]
          },
          "metadata": {},
          "execution_count": 3
        }
      ]
    },
    {
      "cell_type": "code",
      "metadata": {
        "colab": {
          "base_uri": "https://localhost:8080/"
        },
        "id": "bHhytqGsfMEk",
        "outputId": "f0737664-9638-4f21-fbaa-e1dcb05e31df"
      },
      "source": [
        "batch1['label'].value_counts()"
      ],
      "execution_count": null,
      "outputs": [
        {
          "output_type": "execute_result",
          "data": {
            "text/plain": [
              "Netral     907\n",
              "Negatif    798\n",
              "Positif    362\n",
              "Name: label, dtype: int64"
            ]
          },
          "metadata": {},
          "execution_count": 4
        }
      ]
    },
    {
      "cell_type": "code",
      "metadata": {
        "colab": {
          "base_uri": "https://localhost:8080/",
          "height": 203
        },
        "id": "ungtlNxtuA_G",
        "outputId": "ebadd373-4f85-425f-9075-8b9d7058d4f1"
      },
      "source": [
        "# batch 2\n",
        "batch2 = pd.read_csv('/content/batch2_javas.csv')[['text', 'label']]\n",
        "batch2.head()"
      ],
      "execution_count": null,
      "outputs": [
        {
          "output_type": "execute_result",
          "data": {
            "text/html": [
              "<div>\n",
              "<style scoped>\n",
              "    .dataframe tbody tr th:only-of-type {\n",
              "        vertical-align: middle;\n",
              "    }\n",
              "\n",
              "    .dataframe tbody tr th {\n",
              "        vertical-align: top;\n",
              "    }\n",
              "\n",
              "    .dataframe thead th {\n",
              "        text-align: right;\n",
              "    }\n",
              "</style>\n",
              "<table border=\"1\" class=\"dataframe\">\n",
              "  <thead>\n",
              "    <tr style=\"text-align: right;\">\n",
              "      <th></th>\n",
              "      <th>text</th>\n",
              "      <th>label</th>\n",
              "    </tr>\n",
              "  </thead>\n",
              "  <tbody>\n",
              "    <tr>\n",
              "      <th>0</th>\n",
              "      <td>Pak @hendrarprihadi @dkksemarang kasian nakes ...</td>\n",
              "      <td>3.0</td>\n",
              "    </tr>\n",
              "    <tr>\n",
              "      <th>1</th>\n",
              "      <td>Tembalang memerah..</td>\n",
              "      <td>3.0</td>\n",
              "    </tr>\n",
              "    <tr>\n",
              "      <th>2</th>\n",
              "      <td>Ayo semua sadar diri ,apa beratnya to pakai ma...</td>\n",
              "      <td>1.0</td>\n",
              "    </tr>\n",
              "    <tr>\n",
              "      <th>3</th>\n",
              "      <td>😢 kec.ngaliyan</td>\n",
              "      <td>1.0</td>\n",
              "    </tr>\n",
              "    <tr>\n",
              "      <th>4</th>\n",
              "      <td>Di playstore nama app nya apa ya</td>\n",
              "      <td>1.0</td>\n",
              "    </tr>\n",
              "  </tbody>\n",
              "</table>\n",
              "</div>"
            ],
            "text/plain": [
              "                                                text  label\n",
              "0  Pak @hendrarprihadi @dkksemarang kasian nakes ...    3.0\n",
              "1                                Tembalang memerah..    3.0\n",
              "2  Ayo semua sadar diri ,apa beratnya to pakai ma...    1.0\n",
              "3                                     😢 kec.ngaliyan    1.0\n",
              "4                   Di playstore nama app nya apa ya    1.0"
            ]
          },
          "metadata": {},
          "execution_count": 5
        }
      ]
    },
    {
      "cell_type": "code",
      "metadata": {
        "colab": {
          "base_uri": "https://localhost:8080/"
        },
        "id": "KNKTeSCUuZK1",
        "outputId": "1c0b933e-af19-4454-e514-c104333c414b"
      },
      "source": [
        "batch2.shape"
      ],
      "execution_count": null,
      "outputs": [
        {
          "output_type": "execute_result",
          "data": {
            "text/plain": [
              "(2067, 2)"
            ]
          },
          "metadata": {},
          "execution_count": 6
        }
      ]
    },
    {
      "cell_type": "code",
      "metadata": {
        "colab": {
          "base_uri": "https://localhost:8080/",
          "height": 287
        },
        "id": "dIYjrwg8fQ64",
        "outputId": "fbd64cd5-35e9-491b-b661-a8d8313ee08a"
      },
      "source": [
        "# batch 3\n",
        "batch3 = pd.read_csv('/content/batch_3_labeled_newest.csv') \n",
        "batch3.head()"
      ],
      "execution_count": null,
      "outputs": [
        {
          "output_type": "execute_result",
          "data": {
            "text/html": [
              "<div>\n",
              "<style scoped>\n",
              "    .dataframe tbody tr th:only-of-type {\n",
              "        vertical-align: middle;\n",
              "    }\n",
              "\n",
              "    .dataframe tbody tr th {\n",
              "        vertical-align: top;\n",
              "    }\n",
              "\n",
              "    .dataframe thead th {\n",
              "        text-align: right;\n",
              "    }\n",
              "</style>\n",
              "<table border=\"1\" class=\"dataframe\">\n",
              "  <thead>\n",
              "    <tr style=\"text-align: right;\">\n",
              "      <th></th>\n",
              "      <th>annotation_approver</th>\n",
              "      <th>comment_count</th>\n",
              "      <th>created_at</th>\n",
              "      <th>id</th>\n",
              "      <th>label</th>\n",
              "      <th>text</th>\n",
              "      <th>updated_at</th>\n",
              "      <th>user</th>\n",
              "    </tr>\n",
              "  </thead>\n",
              "  <tbody>\n",
              "    <tr>\n",
              "      <th>0</th>\n",
              "      <td>NaN</td>\n",
              "      <td>0</td>\n",
              "      <td>2021-07-31T03:40:50.008813Z</td>\n",
              "      <td>1</td>\n",
              "      <td>2</td>\n",
              "      <td>Semoga kota SEMARANG semakin terbebas dari vir...</td>\n",
              "      <td>2021-07-31T03:40:50.008813Z</td>\n",
              "      <td>1</td>\n",
              "    </tr>\n",
              "    <tr>\n",
              "      <th>1</th>\n",
              "      <td>NaN</td>\n",
              "      <td>0</td>\n",
              "      <td>2021-07-31T03:45:07.798768Z</td>\n",
              "      <td>2</td>\n",
              "      <td>3</td>\n",
              "      <td>Tinjomoyo naik turun terus dari kemarin :(</td>\n",
              "      <td>2021-07-31T03:45:07.798768Z</td>\n",
              "      <td>1</td>\n",
              "    </tr>\n",
              "    <tr>\n",
              "      <th>2</th>\n",
              "      <td>NaN</td>\n",
              "      <td>0</td>\n",
              "      <td>2021-07-31T03:41:22.856629Z</td>\n",
              "      <td>3</td>\n",
              "      <td>2</td>\n",
              "      <td>Ayo tetap smangat....jangan kendor...jangan le...</td>\n",
              "      <td>2021-07-31T03:41:22.856629Z</td>\n",
              "      <td>1</td>\n",
              "    </tr>\n",
              "    <tr>\n",
              "      <th>3</th>\n",
              "      <td>NaN</td>\n",
              "      <td>0</td>\n",
              "      <td>2021-07-31T03:41:42.756118Z</td>\n",
              "      <td>4</td>\n",
              "      <td>3</td>\n",
              "      <td>Wah mulai naik lagi nih....</td>\n",
              "      <td>2021-07-31T03:41:42.756118Z</td>\n",
              "      <td>1</td>\n",
              "    </tr>\n",
              "    <tr>\n",
              "      <th>4</th>\n",
              "      <td>NaN</td>\n",
              "      <td>0</td>\n",
              "      <td>2021-07-31T03:41:45.662884Z</td>\n",
              "      <td>5</td>\n",
              "      <td>2</td>\n",
              "      <td>ayoayo warga semarang, jangan kendorin prokesn...</td>\n",
              "      <td>2021-07-31T03:41:45.662884Z</td>\n",
              "      <td>1</td>\n",
              "    </tr>\n",
              "  </tbody>\n",
              "</table>\n",
              "</div>"
            ],
            "text/plain": [
              "   annotation_approver  comment_count  ...                   updated_at  user\n",
              "0                  NaN              0  ...  2021-07-31T03:40:50.008813Z     1\n",
              "1                  NaN              0  ...  2021-07-31T03:45:07.798768Z     1\n",
              "2                  NaN              0  ...  2021-07-31T03:41:22.856629Z     1\n",
              "3                  NaN              0  ...  2021-07-31T03:41:42.756118Z     1\n",
              "4                  NaN              0  ...  2021-07-31T03:41:45.662884Z     1\n",
              "\n",
              "[5 rows x 8 columns]"
            ]
          },
          "metadata": {},
          "execution_count": 7
        }
      ]
    },
    {
      "cell_type": "code",
      "metadata": {
        "colab": {
          "base_uri": "https://localhost:8080/"
        },
        "id": "cGy5Dkw_f9vz",
        "outputId": "b6904ff0-f592-4e4a-97ac-9cfb7620b942"
      },
      "source": [
        "batch3.shape"
      ],
      "execution_count": null,
      "outputs": [
        {
          "output_type": "execute_result",
          "data": {
            "text/plain": [
              "(2068, 8)"
            ]
          },
          "metadata": {},
          "execution_count": 8
        }
      ]
    },
    {
      "cell_type": "code",
      "metadata": {
        "colab": {
          "base_uri": "https://localhost:8080/",
          "height": 97
        },
        "id": "XEolecnAfb-P",
        "outputId": "f54bb664-2520-4902-bb36-48ea925360c5"
      },
      "source": [
        "# check duplicate\n",
        "batch3[batch3['id'].duplicated()]"
      ],
      "execution_count": null,
      "outputs": [
        {
          "output_type": "execute_result",
          "data": {
            "text/html": [
              "<div>\n",
              "<style scoped>\n",
              "    .dataframe tbody tr th:only-of-type {\n",
              "        vertical-align: middle;\n",
              "    }\n",
              "\n",
              "    .dataframe tbody tr th {\n",
              "        vertical-align: top;\n",
              "    }\n",
              "\n",
              "    .dataframe thead th {\n",
              "        text-align: right;\n",
              "    }\n",
              "</style>\n",
              "<table border=\"1\" class=\"dataframe\">\n",
              "  <thead>\n",
              "    <tr style=\"text-align: right;\">\n",
              "      <th></th>\n",
              "      <th>annotation_approver</th>\n",
              "      <th>comment_count</th>\n",
              "      <th>created_at</th>\n",
              "      <th>id</th>\n",
              "      <th>label</th>\n",
              "      <th>text</th>\n",
              "      <th>updated_at</th>\n",
              "      <th>user</th>\n",
              "    </tr>\n",
              "  </thead>\n",
              "  <tbody>\n",
              "    <tr>\n",
              "      <th>139</th>\n",
              "      <td>NaN</td>\n",
              "      <td>0</td>\n",
              "      <td>2021-07-31T03:59:09.834611Z</td>\n",
              "      <td>139</td>\n",
              "      <td>1</td>\n",
              "      <td>@dkksemarang min besok tgl 6-7 Edaran di rumah...</td>\n",
              "      <td>2021-07-31T03:59:09.834611Z</td>\n",
              "      <td>1</td>\n",
              "    </tr>\n",
              "  </tbody>\n",
              "</table>\n",
              "</div>"
            ],
            "text/plain": [
              "     annotation_approver  comment_count  ...                   updated_at  user\n",
              "139                  NaN              0  ...  2021-07-31T03:59:09.834611Z     1\n",
              "\n",
              "[1 rows x 8 columns]"
            ]
          },
          "metadata": {},
          "execution_count": 9
        }
      ]
    },
    {
      "cell_type": "code",
      "metadata": {
        "colab": {
          "base_uri": "https://localhost:8080/",
          "height": 49
        },
        "id": "fI9nc0XIfoYU",
        "outputId": "3a688af3-d996-46c8-b6e6-978eff1268ce"
      },
      "source": [
        "# delete duplicate 'id'\n",
        "batch3 = batch3.drop([139]).reset_index(drop=True)\n",
        "\n",
        "# check duplicate\n",
        "batch3[batch3['id'].duplicated()]"
      ],
      "execution_count": null,
      "outputs": [
        {
          "output_type": "execute_result",
          "data": {
            "text/html": [
              "<div>\n",
              "<style scoped>\n",
              "    .dataframe tbody tr th:only-of-type {\n",
              "        vertical-align: middle;\n",
              "    }\n",
              "\n",
              "    .dataframe tbody tr th {\n",
              "        vertical-align: top;\n",
              "    }\n",
              "\n",
              "    .dataframe thead th {\n",
              "        text-align: right;\n",
              "    }\n",
              "</style>\n",
              "<table border=\"1\" class=\"dataframe\">\n",
              "  <thead>\n",
              "    <tr style=\"text-align: right;\">\n",
              "      <th></th>\n",
              "      <th>annotation_approver</th>\n",
              "      <th>comment_count</th>\n",
              "      <th>created_at</th>\n",
              "      <th>id</th>\n",
              "      <th>label</th>\n",
              "      <th>text</th>\n",
              "      <th>updated_at</th>\n",
              "      <th>user</th>\n",
              "    </tr>\n",
              "  </thead>\n",
              "  <tbody>\n",
              "  </tbody>\n",
              "</table>\n",
              "</div>"
            ],
            "text/plain": [
              "Empty DataFrame\n",
              "Columns: [annotation_approver, comment_count, created_at, id, label, text, updated_at, user]\n",
              "Index: []"
            ]
          },
          "metadata": {},
          "execution_count": 10
        }
      ]
    },
    {
      "cell_type": "code",
      "metadata": {
        "colab": {
          "base_uri": "https://localhost:8080/"
        },
        "id": "UNtHx-Syggir",
        "outputId": "a5d80d01-5858-47fe-d5bb-963885f782cd"
      },
      "source": [
        "batch3 = batch3[['text', 'label']]\n",
        "batch3['label'].value_counts()"
      ],
      "execution_count": null,
      "outputs": [
        {
          "output_type": "execute_result",
          "data": {
            "text/plain": [
              "3    819\n",
              "2    641\n",
              "1    607\n",
              "Name: label, dtype: int64"
            ]
          },
          "metadata": {},
          "execution_count": 11
        }
      ]
    },
    {
      "cell_type": "code",
      "metadata": {
        "id": "rYCusLA7gpd9"
      },
      "source": [
        "# batch 4\n",
        "# batch4 = pd.read_csv('/content/Batch4.csv')[['text','label']]\n",
        "# batch4 = batch4.rename(columns={'text':'text2'})\n",
        "# batch4.head()"
      ],
      "execution_count": null,
      "outputs": []
    },
    {
      "cell_type": "code",
      "metadata": {
        "id": "6roTBy7zmqrE"
      },
      "source": [
        "# batch4.to_excel('batch4_anno.xlsx', index=False)"
      ],
      "execution_count": null,
      "outputs": []
    },
    {
      "cell_type": "code",
      "metadata": {
        "id": "x10GW2AGmyPn"
      },
      "source": [
        "# batch4_ori.to_excel('batch4_ori.xlsx', index=False)"
      ],
      "execution_count": null,
      "outputs": []
    },
    {
      "cell_type": "code",
      "metadata": {
        "id": "hPwrMbW1htvQ"
      },
      "source": [
        "# batch4.shape"
      ],
      "execution_count": null,
      "outputs": []
    },
    {
      "cell_type": "code",
      "metadata": {
        "colab": {
          "base_uri": "https://localhost:8080/",
          "height": 203
        },
        "id": "mRwLpHmHg8-9",
        "outputId": "ac7dd0b6-1dec-4117-890f-9b1c0ce8478d"
      },
      "source": [
        "batch4 = pd.read_excel('/content/batch4_ori.xlsx')\n",
        "batch4.head()"
      ],
      "execution_count": null,
      "outputs": [
        {
          "output_type": "execute_result",
          "data": {
            "text/html": [
              "<div>\n",
              "<style scoped>\n",
              "    .dataframe tbody tr th:only-of-type {\n",
              "        vertical-align: middle;\n",
              "    }\n",
              "\n",
              "    .dataframe tbody tr th {\n",
              "        vertical-align: top;\n",
              "    }\n",
              "\n",
              "    .dataframe thead th {\n",
              "        text-align: right;\n",
              "    }\n",
              "</style>\n",
              "<table border=\"1\" class=\"dataframe\">\n",
              "  <thead>\n",
              "    <tr style=\"text-align: right;\">\n",
              "      <th></th>\n",
              "      <th>text</th>\n",
              "      <th>label</th>\n",
              "    </tr>\n",
              "  </thead>\n",
              "  <tbody>\n",
              "    <tr>\n",
              "      <th>0</th>\n",
              "      <td>Mksh infonya....tetap jaga stamina.....kita pa...</td>\n",
              "      <td>2</td>\n",
              "    </tr>\n",
              "    <tr>\n",
              "      <th>1</th>\n",
              "      <td>Cuma semarang abis demo malah menurun, jadi be...</td>\n",
              "      <td>1</td>\n",
              "    </tr>\n",
              "    <tr>\n",
              "      <th>2</th>\n",
              "      <td>Alhamdulillah mulai turun lagi semoga turun te...</td>\n",
              "      <td>2</td>\n",
              "    </tr>\n",
              "    <tr>\n",
              "      <th>3</th>\n",
              "      <td>yoh iso yoh 👍</td>\n",
              "      <td>2</td>\n",
              "    </tr>\n",
              "    <tr>\n",
              "      <th>4</th>\n",
              "      <td>alhamdulillah... ayo turun terus 👏 yg paling p...</td>\n",
              "      <td>2</td>\n",
              "    </tr>\n",
              "  </tbody>\n",
              "</table>\n",
              "</div>"
            ],
            "text/plain": [
              "                                                text  label\n",
              "0  Mksh infonya....tetap jaga stamina.....kita pa...      2\n",
              "1  Cuma semarang abis demo malah menurun, jadi be...      1\n",
              "2  Alhamdulillah mulai turun lagi semoga turun te...      2\n",
              "3                                      yoh iso yoh 👍      2\n",
              "4  alhamdulillah... ayo turun terus 👏 yg paling p...      2"
            ]
          },
          "metadata": {},
          "execution_count": 16
        }
      ]
    },
    {
      "cell_type": "code",
      "metadata": {
        "colab": {
          "base_uri": "https://localhost:8080/"
        },
        "id": "2to9W5Pshb2V",
        "outputId": "83471db4-0733-4218-bb2a-32713aa27e41"
      },
      "source": [
        "batch4.shape"
      ],
      "execution_count": null,
      "outputs": [
        {
          "output_type": "execute_result",
          "data": {
            "text/plain": [
              "(2067, 2)"
            ]
          },
          "metadata": {},
          "execution_count": 17
        }
      ]
    },
    {
      "cell_type": "code",
      "metadata": {
        "colab": {
          "base_uri": "https://localhost:8080/"
        },
        "id": "fMV9yTQYuC1F",
        "outputId": "23c1e98a-6cf9-4a05-fc43-76f6f8c77dd3"
      },
      "source": [
        "batch4['label'].value_counts()"
      ],
      "execution_count": null,
      "outputs": [
        {
          "output_type": "execute_result",
          "data": {
            "text/plain": [
              "3    845\n",
              "2    640\n",
              "1    582\n",
              "Name: label, dtype: int64"
            ]
          },
          "metadata": {},
          "execution_count": 18
        }
      ]
    },
    {
      "cell_type": "code",
      "metadata": {
        "colab": {
          "base_uri": "https://localhost:8080/",
          "height": 203
        },
        "id": "q3s-2gtiitYW",
        "outputId": "b2cb3502-6ab3-4350-c438-019b6051ce27"
      },
      "source": [
        "# batch 5\n",
        "batch5 = pd.read_csv('/content/batch5_done.csv')[['text', 'label']]\n",
        "batch5.head()"
      ],
      "execution_count": null,
      "outputs": [
        {
          "output_type": "execute_result",
          "data": {
            "text/html": [
              "<div>\n",
              "<style scoped>\n",
              "    .dataframe tbody tr th:only-of-type {\n",
              "        vertical-align: middle;\n",
              "    }\n",
              "\n",
              "    .dataframe tbody tr th {\n",
              "        vertical-align: top;\n",
              "    }\n",
              "\n",
              "    .dataframe thead th {\n",
              "        text-align: right;\n",
              "    }\n",
              "</style>\n",
              "<table border=\"1\" class=\"dataframe\">\n",
              "  <thead>\n",
              "    <tr style=\"text-align: right;\">\n",
              "      <th></th>\n",
              "      <th>text</th>\n",
              "      <th>label</th>\n",
              "    </tr>\n",
              "  </thead>\n",
              "  <tbody>\n",
              "    <tr>\n",
              "      <th>0</th>\n",
              "      <td>Mungkin pas ngeprint tinta nya abis gaieeessss...</td>\n",
              "      <td>3</td>\n",
              "    </tr>\n",
              "    <tr>\n",
              "      <th>1</th>\n",
              "      <td>Seng penting ayoo ndang nol</td>\n",
              "      <td>2</td>\n",
              "    </tr>\n",
              "    <tr>\n",
              "      <th>2</th>\n",
              "      <td>🙏</td>\n",
              "      <td>2</td>\n",
              "    </tr>\n",
              "    <tr>\n",
              "      <th>3</th>\n",
              "      <td>Siap Bos laksanakan semoga semuanya sehat bers...</td>\n",
              "      <td>2</td>\n",
              "    </tr>\n",
              "    <tr>\n",
              "      <th>4</th>\n",
              "      <td>Aamiin ya Rabb,semoga semuanya sehat🙏🙏</td>\n",
              "      <td>2</td>\n",
              "    </tr>\n",
              "  </tbody>\n",
              "</table>\n",
              "</div>"
            ],
            "text/plain": [
              "                                                text  label\n",
              "0  Mungkin pas ngeprint tinta nya abis gaieeessss...      3\n",
              "1                        Seng penting ayoo ndang nol      2\n",
              "2                                                  🙏      2\n",
              "3  Siap Bos laksanakan semoga semuanya sehat bers...      2\n",
              "4             Aamiin ya Rabb,semoga semuanya sehat🙏🙏      2"
            ]
          },
          "metadata": {},
          "execution_count": 19
        }
      ]
    },
    {
      "cell_type": "code",
      "metadata": {
        "colab": {
          "base_uri": "https://localhost:8080/"
        },
        "id": "xBYovfZlt0IT",
        "outputId": "29d21f9c-69e0-4301-decc-69d5a5558512"
      },
      "source": [
        "batch5.shape"
      ],
      "execution_count": null,
      "outputs": [
        {
          "output_type": "execute_result",
          "data": {
            "text/plain": [
              "(2067, 2)"
            ]
          },
          "metadata": {},
          "execution_count": 20
        }
      ]
    },
    {
      "cell_type": "markdown",
      "metadata": {
        "id": "sAcnNHcwuiQQ"
      },
      "source": [
        "# Rename label"
      ]
    },
    {
      "cell_type": "code",
      "metadata": {
        "id": "6nMWJ1oDuoJW"
      },
      "source": [
        "rule1 = {'Negatif':'negative',\n",
        "        'Netral':'neutral',\n",
        "        'Positif':'positive'}\n",
        "rule2 = {1:'neutral',\n",
        "         2:'positive',\n",
        "         3:'negative'}"
      ],
      "execution_count": null,
      "outputs": []
    },
    {
      "cell_type": "code",
      "metadata": {
        "colab": {
          "base_uri": "https://localhost:8080/",
          "height": 203
        },
        "id": "TN2i5pf90Hxs",
        "outputId": "b37fa92a-235e-4634-b65d-1c245806b733"
      },
      "source": [
        "batch1['label'] = batch1['label'].map(rule1)\n",
        "batch1.head()"
      ],
      "execution_count": null,
      "outputs": [
        {
          "output_type": "execute_result",
          "data": {
            "text/html": [
              "<div>\n",
              "<style scoped>\n",
              "    .dataframe tbody tr th:only-of-type {\n",
              "        vertical-align: middle;\n",
              "    }\n",
              "\n",
              "    .dataframe tbody tr th {\n",
              "        vertical-align: top;\n",
              "    }\n",
              "\n",
              "    .dataframe thead th {\n",
              "        text-align: right;\n",
              "    }\n",
              "</style>\n",
              "<table border=\"1\" class=\"dataframe\">\n",
              "  <thead>\n",
              "    <tr style=\"text-align: right;\">\n",
              "      <th></th>\n",
              "      <th>text</th>\n",
              "      <th>label</th>\n",
              "    </tr>\n",
              "  </thead>\n",
              "  <tbody>\n",
              "    <tr>\n",
              "      <th>0</th>\n",
              "      <td>minkes...utk kelurahan wonoplumbon kec mijen b...</td>\n",
              "      <td>negative</td>\n",
              "    </tr>\n",
              "    <tr>\n",
              "      <th>1</th>\n",
              "      <td>Aku udh vaksin 2kali ini tetep kena ...minta d...</td>\n",
              "      <td>negative</td>\n",
              "    </tr>\n",
              "    <tr>\n",
              "      <th>2</th>\n",
              "      <td>Gak yakin ini data realtime. Perasaan yg dilap...</td>\n",
              "      <td>negative</td>\n",
              "    </tr>\n",
              "    <tr>\n",
              "      <th>3</th>\n",
              "      <td>pak kemaren saya percaya bsnget dengan covid k...</td>\n",
              "      <td>negative</td>\n",
              "    </tr>\n",
              "    <tr>\n",
              "      <th>4</th>\n",
              "      <td>Sendangmulyo tambah terus ??,</td>\n",
              "      <td>negative</td>\n",
              "    </tr>\n",
              "  </tbody>\n",
              "</table>\n",
              "</div>"
            ],
            "text/plain": [
              "                                                text     label\n",
              "0  minkes...utk kelurahan wonoplumbon kec mijen b...  negative\n",
              "1  Aku udh vaksin 2kali ini tetep kena ...minta d...  negative\n",
              "2  Gak yakin ini data realtime. Perasaan yg dilap...  negative\n",
              "3  pak kemaren saya percaya bsnget dengan covid k...  negative\n",
              "4                      Sendangmulyo tambah terus ??,  negative"
            ]
          },
          "metadata": {},
          "execution_count": 23
        }
      ]
    },
    {
      "cell_type": "code",
      "metadata": {
        "id": "3NLKDb1S0M28"
      },
      "source": [
        "batch2['label'] = batch2['label'].map(rule2)\n",
        "batch3['label'] = batch3['label'].map(rule2)\n",
        "batch4['label'] = batch4['label'].map(rule2)\n",
        "batch5['label'] = batch5['label'].map(rule2)"
      ],
      "execution_count": null,
      "outputs": []
    },
    {
      "cell_type": "code",
      "metadata": {
        "colab": {
          "base_uri": "https://localhost:8080/"
        },
        "id": "mEXP_7xy0WtS",
        "outputId": "1d25b409-2522-42c6-c612-f3b0141bb298"
      },
      "source": [
        "batch5['label'].value_counts()"
      ],
      "execution_count": null,
      "outputs": [
        {
          "output_type": "execute_result",
          "data": {
            "text/plain": [
              "negative    779\n",
              "positive    696\n",
              "neutral     592\n",
              "Name: label, dtype: int64"
            ]
          },
          "metadata": {},
          "execution_count": 32
        }
      ]
    },
    {
      "cell_type": "code",
      "metadata": {
        "colab": {
          "base_uri": "https://localhost:8080/"
        },
        "id": "kOapY94G0ftp",
        "outputId": "eda84264-6d27-4c32-8a8a-c438afa2d5c2"
      },
      "source": [
        "batch1.shape, batch2.shape, batch3.shape, batch4.shape, batch5.shape"
      ],
      "execution_count": null,
      "outputs": [
        {
          "output_type": "execute_result",
          "data": {
            "text/plain": [
              "((2067, 2), (2067, 2), (2067, 2), (2067, 2), (2067, 2))"
            ]
          },
          "metadata": {},
          "execution_count": 33
        }
      ]
    },
    {
      "cell_type": "markdown",
      "metadata": {
        "id": "wOwNJWq60_jo"
      },
      "source": [
        "# Concat"
      ]
    },
    {
      "cell_type": "code",
      "metadata": {
        "colab": {
          "base_uri": "https://localhost:8080/"
        },
        "id": "WimI1hPP08Un",
        "outputId": "0a0c1258-c89e-4ed4-aafa-7581b2a94e4a"
      },
      "source": [
        "data = pd.concat([batch1, batch2, batch3, batch4, batch5], ignore_index=True)\n",
        "data.shape"
      ],
      "execution_count": null,
      "outputs": [
        {
          "output_type": "execute_result",
          "data": {
            "text/plain": [
              "(10335, 2)"
            ]
          },
          "metadata": {},
          "execution_count": 34
        }
      ]
    },
    {
      "cell_type": "code",
      "metadata": {
        "colab": {
          "base_uri": "https://localhost:8080/",
          "height": 203
        },
        "id": "nCVgm_Ds1JhZ",
        "outputId": "a73dacf7-99a3-459f-da62-40900ef6923b"
      },
      "source": [
        "data.head()"
      ],
      "execution_count": null,
      "outputs": [
        {
          "output_type": "execute_result",
          "data": {
            "text/html": [
              "<div>\n",
              "<style scoped>\n",
              "    .dataframe tbody tr th:only-of-type {\n",
              "        vertical-align: middle;\n",
              "    }\n",
              "\n",
              "    .dataframe tbody tr th {\n",
              "        vertical-align: top;\n",
              "    }\n",
              "\n",
              "    .dataframe thead th {\n",
              "        text-align: right;\n",
              "    }\n",
              "</style>\n",
              "<table border=\"1\" class=\"dataframe\">\n",
              "  <thead>\n",
              "    <tr style=\"text-align: right;\">\n",
              "      <th></th>\n",
              "      <th>text</th>\n",
              "      <th>label</th>\n",
              "    </tr>\n",
              "  </thead>\n",
              "  <tbody>\n",
              "    <tr>\n",
              "      <th>0</th>\n",
              "      <td>minkes...utk kelurahan wonoplumbon kec mijen b...</td>\n",
              "      <td>negative</td>\n",
              "    </tr>\n",
              "    <tr>\n",
              "      <th>1</th>\n",
              "      <td>Aku udh vaksin 2kali ini tetep kena ...minta d...</td>\n",
              "      <td>negative</td>\n",
              "    </tr>\n",
              "    <tr>\n",
              "      <th>2</th>\n",
              "      <td>Gak yakin ini data realtime. Perasaan yg dilap...</td>\n",
              "      <td>negative</td>\n",
              "    </tr>\n",
              "    <tr>\n",
              "      <th>3</th>\n",
              "      <td>pak kemaren saya percaya bsnget dengan covid k...</td>\n",
              "      <td>negative</td>\n",
              "    </tr>\n",
              "    <tr>\n",
              "      <th>4</th>\n",
              "      <td>Sendangmulyo tambah terus ??,</td>\n",
              "      <td>negative</td>\n",
              "    </tr>\n",
              "  </tbody>\n",
              "</table>\n",
              "</div>"
            ],
            "text/plain": [
              "                                                text     label\n",
              "0  minkes...utk kelurahan wonoplumbon kec mijen b...  negative\n",
              "1  Aku udh vaksin 2kali ini tetep kena ...minta d...  negative\n",
              "2  Gak yakin ini data realtime. Perasaan yg dilap...  negative\n",
              "3  pak kemaren saya percaya bsnget dengan covid k...  negative\n",
              "4                      Sendangmulyo tambah terus ??,  negative"
            ]
          },
          "metadata": {},
          "execution_count": 40
        }
      ]
    },
    {
      "cell_type": "code",
      "metadata": {
        "colab": {
          "base_uri": "https://localhost:8080/",
          "height": 203
        },
        "id": "AJMuEj841KTl",
        "outputId": "8fb1abf0-0f0d-4e45-b9bc-ca9ab287ab3a"
      },
      "source": [
        "data_ori = pd.read_csv('/content/dkk_comments_final.csv')\n",
        "data_ori.head()"
      ],
      "execution_count": null,
      "outputs": [
        {
          "output_type": "execute_result",
          "data": {
            "text/html": [
              "<div>\n",
              "<style scoped>\n",
              "    .dataframe tbody tr th:only-of-type {\n",
              "        vertical-align: middle;\n",
              "    }\n",
              "\n",
              "    .dataframe tbody tr th {\n",
              "        vertical-align: top;\n",
              "    }\n",
              "\n",
              "    .dataframe thead th {\n",
              "        text-align: right;\n",
              "    }\n",
              "</style>\n",
              "<table border=\"1\" class=\"dataframe\">\n",
              "  <thead>\n",
              "    <tr style=\"text-align: right;\">\n",
              "      <th></th>\n",
              "      <th>username</th>\n",
              "      <th>comments</th>\n",
              "      <th>likes</th>\n",
              "      <th>datetime</th>\n",
              "    </tr>\n",
              "  </thead>\n",
              "  <tbody>\n",
              "    <tr>\n",
              "      <th>0</th>\n",
              "      <td>ainun_muainun</td>\n",
              "      <td>minkes...utk kelurahan wonoplumbon kec mijen b...</td>\n",
              "      <td>6</td>\n",
              "      <td>2021-06-23</td>\n",
              "    </tr>\n",
              "    <tr>\n",
              "      <th>1</th>\n",
              "      <td>diladil13</td>\n",
              "      <td>Aku udh vaksin 2kali ini tetep kena ...minta d...</td>\n",
              "      <td>10</td>\n",
              "      <td>2021-06-23</td>\n",
              "    </tr>\n",
              "    <tr>\n",
              "      <th>2</th>\n",
              "      <td>14x32</td>\n",
              "      <td>Gak yakin ini data realtime. Perasaan yg dilap...</td>\n",
              "      <td>15</td>\n",
              "      <td>2021-06-23</td>\n",
              "    </tr>\n",
              "    <tr>\n",
              "      <th>3</th>\n",
              "      <td>solihah_moko_steak</td>\n",
              "      <td>pak kemaren saya percaya bsnget dengan covid k...</td>\n",
              "      <td>3</td>\n",
              "      <td>2021-06-23</td>\n",
              "    </tr>\n",
              "    <tr>\n",
              "      <th>4</th>\n",
              "      <td>rony.saefudin</td>\n",
              "      <td>Sendangmulyo tambah terus 😞</td>\n",
              "      <td>2</td>\n",
              "      <td>2021-06-23</td>\n",
              "    </tr>\n",
              "  </tbody>\n",
              "</table>\n",
              "</div>"
            ],
            "text/plain": [
              "             username  ...    datetime\n",
              "0       ainun_muainun  ...  2021-06-23\n",
              "1           diladil13  ...  2021-06-23\n",
              "2               14x32  ...  2021-06-23\n",
              "3  solihah_moko_steak  ...  2021-06-23\n",
              "4       rony.saefudin  ...  2021-06-23\n",
              "\n",
              "[5 rows x 4 columns]"
            ]
          },
          "metadata": {},
          "execution_count": 38
        }
      ]
    },
    {
      "cell_type": "code",
      "metadata": {
        "colab": {
          "base_uri": "https://localhost:8080/"
        },
        "id": "94xHAvIZ1ieA",
        "outputId": "ad36a327-e342-493c-a86a-de4bf4188db5"
      },
      "source": [
        "data_ori.shape"
      ],
      "execution_count": null,
      "outputs": [
        {
          "output_type": "execute_result",
          "data": {
            "text/plain": [
              "(10335, 4)"
            ]
          },
          "metadata": {},
          "execution_count": 39
        }
      ]
    },
    {
      "cell_type": "code",
      "metadata": {
        "id": "cveLcnFY1lp5"
      },
      "source": [
        "data['username'] = data_ori['username']\n",
        "data['likes'] = data_ori['likes']\n",
        "data['datetime'] = data_ori['datetime']"
      ],
      "execution_count": null,
      "outputs": []
    },
    {
      "cell_type": "code",
      "metadata": {
        "colab": {
          "base_uri": "https://localhost:8080/",
          "height": 203
        },
        "id": "z73JUF7E1y8a",
        "outputId": "82a4a056-37aa-4162-c67d-4af24e516392"
      },
      "source": [
        "data.head()"
      ],
      "execution_count": null,
      "outputs": [
        {
          "output_type": "execute_result",
          "data": {
            "text/html": [
              "<div>\n",
              "<style scoped>\n",
              "    .dataframe tbody tr th:only-of-type {\n",
              "        vertical-align: middle;\n",
              "    }\n",
              "\n",
              "    .dataframe tbody tr th {\n",
              "        vertical-align: top;\n",
              "    }\n",
              "\n",
              "    .dataframe thead th {\n",
              "        text-align: right;\n",
              "    }\n",
              "</style>\n",
              "<table border=\"1\" class=\"dataframe\">\n",
              "  <thead>\n",
              "    <tr style=\"text-align: right;\">\n",
              "      <th></th>\n",
              "      <th>text</th>\n",
              "      <th>label</th>\n",
              "      <th>username</th>\n",
              "      <th>likes</th>\n",
              "      <th>datetime</th>\n",
              "    </tr>\n",
              "  </thead>\n",
              "  <tbody>\n",
              "    <tr>\n",
              "      <th>0</th>\n",
              "      <td>minkes...utk kelurahan wonoplumbon kec mijen b...</td>\n",
              "      <td>negative</td>\n",
              "      <td>ainun_muainun</td>\n",
              "      <td>6</td>\n",
              "      <td>2021-06-23</td>\n",
              "    </tr>\n",
              "    <tr>\n",
              "      <th>1</th>\n",
              "      <td>Aku udh vaksin 2kali ini tetep kena ...minta d...</td>\n",
              "      <td>negative</td>\n",
              "      <td>diladil13</td>\n",
              "      <td>10</td>\n",
              "      <td>2021-06-23</td>\n",
              "    </tr>\n",
              "    <tr>\n",
              "      <th>2</th>\n",
              "      <td>Gak yakin ini data realtime. Perasaan yg dilap...</td>\n",
              "      <td>negative</td>\n",
              "      <td>14x32</td>\n",
              "      <td>15</td>\n",
              "      <td>2021-06-23</td>\n",
              "    </tr>\n",
              "    <tr>\n",
              "      <th>3</th>\n",
              "      <td>pak kemaren saya percaya bsnget dengan covid k...</td>\n",
              "      <td>negative</td>\n",
              "      <td>solihah_moko_steak</td>\n",
              "      <td>3</td>\n",
              "      <td>2021-06-23</td>\n",
              "    </tr>\n",
              "    <tr>\n",
              "      <th>4</th>\n",
              "      <td>Sendangmulyo tambah terus ??,</td>\n",
              "      <td>negative</td>\n",
              "      <td>rony.saefudin</td>\n",
              "      <td>2</td>\n",
              "      <td>2021-06-23</td>\n",
              "    </tr>\n",
              "  </tbody>\n",
              "</table>\n",
              "</div>"
            ],
            "text/plain": [
              "                                                text  ...    datetime\n",
              "0  minkes...utk kelurahan wonoplumbon kec mijen b...  ...  2021-06-23\n",
              "1  Aku udh vaksin 2kali ini tetep kena ...minta d...  ...  2021-06-23\n",
              "2  Gak yakin ini data realtime. Perasaan yg dilap...  ...  2021-06-23\n",
              "3  pak kemaren saya percaya bsnget dengan covid k...  ...  2021-06-23\n",
              "4                      Sendangmulyo tambah terus ??,  ...  2021-06-23\n",
              "\n",
              "[5 rows x 5 columns]"
            ]
          },
          "metadata": {},
          "execution_count": 42
        }
      ]
    },
    {
      "cell_type": "markdown",
      "metadata": {
        "id": "PP9_vWSW14a9"
      },
      "source": [
        "# Filter date"
      ]
    },
    {
      "cell_type": "code",
      "metadata": {
        "colab": {
          "base_uri": "https://localhost:8080/"
        },
        "id": "iO9DgN8q1zXC",
        "outputId": "ef071448-1b01-4d4c-b3ef-9e5b2390a80a"
      },
      "source": [
        "# get data after 1st covid case\n",
        "data = data[data['datetime'] >= '2020-03-03'].reset_index(drop=True)\n",
        "data.shape"
      ],
      "execution_count": null,
      "outputs": [
        {
          "output_type": "execute_result",
          "data": {
            "text/plain": [
              "(9959, 5)"
            ]
          },
          "metadata": {},
          "execution_count": 43
        }
      ]
    },
    {
      "cell_type": "code",
      "metadata": {
        "colab": {
          "base_uri": "https://localhost:8080/",
          "height": 203
        },
        "id": "_69grhak2Ao0",
        "outputId": "b21e7f47-7803-4654-c275-7c4c48286adb"
      },
      "source": [
        "data.head()"
      ],
      "execution_count": null,
      "outputs": [
        {
          "output_type": "execute_result",
          "data": {
            "text/html": [
              "<div>\n",
              "<style scoped>\n",
              "    .dataframe tbody tr th:only-of-type {\n",
              "        vertical-align: middle;\n",
              "    }\n",
              "\n",
              "    .dataframe tbody tr th {\n",
              "        vertical-align: top;\n",
              "    }\n",
              "\n",
              "    .dataframe thead th {\n",
              "        text-align: right;\n",
              "    }\n",
              "</style>\n",
              "<table border=\"1\" class=\"dataframe\">\n",
              "  <thead>\n",
              "    <tr style=\"text-align: right;\">\n",
              "      <th></th>\n",
              "      <th>text</th>\n",
              "      <th>label</th>\n",
              "      <th>username</th>\n",
              "      <th>likes</th>\n",
              "      <th>datetime</th>\n",
              "    </tr>\n",
              "  </thead>\n",
              "  <tbody>\n",
              "    <tr>\n",
              "      <th>0</th>\n",
              "      <td>minkes...utk kelurahan wonoplumbon kec mijen b...</td>\n",
              "      <td>negative</td>\n",
              "      <td>ainun_muainun</td>\n",
              "      <td>6</td>\n",
              "      <td>2021-06-23</td>\n",
              "    </tr>\n",
              "    <tr>\n",
              "      <th>1</th>\n",
              "      <td>Aku udh vaksin 2kali ini tetep kena ...minta d...</td>\n",
              "      <td>negative</td>\n",
              "      <td>diladil13</td>\n",
              "      <td>10</td>\n",
              "      <td>2021-06-23</td>\n",
              "    </tr>\n",
              "    <tr>\n",
              "      <th>2</th>\n",
              "      <td>Gak yakin ini data realtime. Perasaan yg dilap...</td>\n",
              "      <td>negative</td>\n",
              "      <td>14x32</td>\n",
              "      <td>15</td>\n",
              "      <td>2021-06-23</td>\n",
              "    </tr>\n",
              "    <tr>\n",
              "      <th>3</th>\n",
              "      <td>pak kemaren saya percaya bsnget dengan covid k...</td>\n",
              "      <td>negative</td>\n",
              "      <td>solihah_moko_steak</td>\n",
              "      <td>3</td>\n",
              "      <td>2021-06-23</td>\n",
              "    </tr>\n",
              "    <tr>\n",
              "      <th>4</th>\n",
              "      <td>Sendangmulyo tambah terus ??,</td>\n",
              "      <td>negative</td>\n",
              "      <td>rony.saefudin</td>\n",
              "      <td>2</td>\n",
              "      <td>2021-06-23</td>\n",
              "    </tr>\n",
              "  </tbody>\n",
              "</table>\n",
              "</div>"
            ],
            "text/plain": [
              "                                                text  ...    datetime\n",
              "0  minkes...utk kelurahan wonoplumbon kec mijen b...  ...  2021-06-23\n",
              "1  Aku udh vaksin 2kali ini tetep kena ...minta d...  ...  2021-06-23\n",
              "2  Gak yakin ini data realtime. Perasaan yg dilap...  ...  2021-06-23\n",
              "3  pak kemaren saya percaya bsnget dengan covid k...  ...  2021-06-23\n",
              "4                      Sendangmulyo tambah terus ??,  ...  2021-06-23\n",
              "\n",
              "[5 rows x 5 columns]"
            ]
          },
          "metadata": {},
          "execution_count": 44
        }
      ]
    },
    {
      "cell_type": "code",
      "metadata": {
        "colab": {
          "base_uri": "https://localhost:8080/"
        },
        "id": "k_PYORKq2BlH",
        "outputId": "7917a4cd-5b6e-4036-e7fc-4eed32aff173"
      },
      "source": [
        "data['label'].value_counts()"
      ],
      "execution_count": null,
      "outputs": [
        {
          "output_type": "execute_result",
          "data": {
            "text/plain": [
              "neutral     3658\n",
              "negative    3468\n",
              "positive    2832\n",
              "Name: label, dtype: int64"
            ]
          },
          "metadata": {},
          "execution_count": 45
        }
      ]
    },
    {
      "cell_type": "markdown",
      "metadata": {
        "id": "qfPBJW5o2Gcn"
      },
      "source": [
        "# Split train and test"
      ]
    },
    {
      "cell_type": "code",
      "metadata": {
        "colab": {
          "base_uri": "https://localhost:8080/",
          "height": 80
        },
        "id": "E-ep2TXO3Jig",
        "outputId": "f77ad6a6-0a5b-446b-d488-117a1ef7b0c9"
      },
      "source": [
        "# masih ada null\n",
        "data[data['label'].isnull()]"
      ],
      "execution_count": null,
      "outputs": [
        {
          "output_type": "execute_result",
          "data": {
            "text/html": [
              "<div>\n",
              "<style scoped>\n",
              "    .dataframe tbody tr th:only-of-type {\n",
              "        vertical-align: middle;\n",
              "    }\n",
              "\n",
              "    .dataframe tbody tr th {\n",
              "        vertical-align: top;\n",
              "    }\n",
              "\n",
              "    .dataframe thead th {\n",
              "        text-align: right;\n",
              "    }\n",
              "</style>\n",
              "<table border=\"1\" class=\"dataframe\">\n",
              "  <thead>\n",
              "    <tr style=\"text-align: right;\">\n",
              "      <th></th>\n",
              "      <th>text</th>\n",
              "      <th>label</th>\n",
              "      <th>username</th>\n",
              "      <th>likes</th>\n",
              "      <th>datetime</th>\n",
              "    </tr>\n",
              "  </thead>\n",
              "  <tbody>\n",
              "    <tr>\n",
              "      <th>3197</th>\n",
              "      <td>Mlah naek trus🔥🔥🔥 sp ni yg mbandel... Jgn gr2 ...</td>\n",
              "      <td>NaN</td>\n",
              "      <td>anikismawan</td>\n",
              "      <td>1</td>\n",
              "      <td>2021-03-28</td>\n",
              "    </tr>\n",
              "  </tbody>\n",
              "</table>\n",
              "</div>"
            ],
            "text/plain": [
              "                                                   text label  ... likes    datetime\n",
              "3197  Mlah naek trus🔥🔥🔥 sp ni yg mbandel... Jgn gr2 ...   NaN  ...     1  2021-03-28\n",
              "\n",
              "[1 rows x 5 columns]"
            ]
          },
          "metadata": {},
          "execution_count": 55
        }
      ]
    },
    {
      "cell_type": "code",
      "metadata": {
        "id": "hPbqMEPQ3TWF"
      },
      "source": [
        "# manual labelling\n",
        "data['label'][3197] = 'negative'"
      ],
      "execution_count": null,
      "outputs": []
    },
    {
      "cell_type": "code",
      "metadata": {
        "colab": {
          "base_uri": "https://localhost:8080/"
        },
        "id": "ZVuDpJKw2EZa",
        "outputId": "e42f6aa4-5526-4cf8-e7c4-45fa6c9d4d44"
      },
      "source": [
        "from sklearn.model_selection import train_test_split\n",
        "\n",
        "train, test = train_test_split(data, \n",
        "                               test_size=0.2,\n",
        "                               random_state=2021,\n",
        "                               stratify=data['label'])\n",
        "\n",
        "train.shape, test.shape"
      ],
      "execution_count": null,
      "outputs": [
        {
          "output_type": "execute_result",
          "data": {
            "text/plain": [
              "((7967, 5), (1992, 5))"
            ]
          },
          "metadata": {},
          "execution_count": 58
        }
      ]
    },
    {
      "cell_type": "code",
      "metadata": {
        "colab": {
          "base_uri": "https://localhost:8080/",
          "height": 203
        },
        "id": "DcHSAHPd2cA1",
        "outputId": "d2ed1aea-0e5e-4210-edbf-0308d86797b3"
      },
      "source": [
        "train.head()"
      ],
      "execution_count": null,
      "outputs": [
        {
          "output_type": "execute_result",
          "data": {
            "text/html": [
              "<div>\n",
              "<style scoped>\n",
              "    .dataframe tbody tr th:only-of-type {\n",
              "        vertical-align: middle;\n",
              "    }\n",
              "\n",
              "    .dataframe tbody tr th {\n",
              "        vertical-align: top;\n",
              "    }\n",
              "\n",
              "    .dataframe thead th {\n",
              "        text-align: right;\n",
              "    }\n",
              "</style>\n",
              "<table border=\"1\" class=\"dataframe\">\n",
              "  <thead>\n",
              "    <tr style=\"text-align: right;\">\n",
              "      <th></th>\n",
              "      <th>text</th>\n",
              "      <th>label</th>\n",
              "      <th>username</th>\n",
              "      <th>likes</th>\n",
              "      <th>datetime</th>\n",
              "    </tr>\n",
              "  </thead>\n",
              "  <tbody>\n",
              "    <tr>\n",
              "      <th>5982</th>\n",
              "      <td>🔥</td>\n",
              "      <td>negative</td>\n",
              "      <td>lanyardsemarang</td>\n",
              "      <td>0</td>\n",
              "      <td>2020-11-02</td>\n",
              "    </tr>\n",
              "    <tr>\n",
              "      <th>3158</th>\n",
              "      <td>Naik Turun maju can5ik 😂😂😂😂</td>\n",
              "      <td>neutral</td>\n",
              "      <td>hadi_soeparno</td>\n",
              "      <td>1</td>\n",
              "      <td>2021-03-29</td>\n",
              "    </tr>\n",
              "    <tr>\n",
              "      <th>6679</th>\n",
              "      <td>Prosentase tingkat kematian karena covid 19 ut...</td>\n",
              "      <td>neutral</td>\n",
              "      <td>heryadisaputro</td>\n",
              "      <td>0</td>\n",
              "      <td>2020-09-22</td>\n",
              "    </tr>\n",
              "    <tr>\n",
              "      <th>9716</th>\n",
              "      <td>Rapid test/ test swab PCR Di DKK/dinkes Semara...</td>\n",
              "      <td>negative</td>\n",
              "      <td>airlangga15</td>\n",
              "      <td>0</td>\n",
              "      <td>2020-05-29</td>\n",
              "    </tr>\n",
              "    <tr>\n",
              "      <th>985</th>\n",
              "      <td>Min, area pedurungan bs dilakukan dmn,</td>\n",
              "      <td>neutral</td>\n",
              "      <td>fauzanabell</td>\n",
              "      <td>0</td>\n",
              "      <td>2021-06-22</td>\n",
              "    </tr>\n",
              "  </tbody>\n",
              "</table>\n",
              "</div>"
            ],
            "text/plain": [
              "                                                   text  ...    datetime\n",
              "5982                                                  🔥  ...  2020-11-02\n",
              "3158                        Naik Turun maju can5ik 😂😂😂😂  ...  2021-03-29\n",
              "6679  Prosentase tingkat kematian karena covid 19 ut...  ...  2020-09-22\n",
              "9716  Rapid test/ test swab PCR Di DKK/dinkes Semara...  ...  2020-05-29\n",
              "985              Min, area pedurungan bs dilakukan dmn,  ...  2021-06-22\n",
              "\n",
              "[5 rows x 5 columns]"
            ]
          },
          "metadata": {},
          "execution_count": 59
        }
      ]
    },
    {
      "cell_type": "code",
      "metadata": {
        "colab": {
          "base_uri": "https://localhost:8080/",
          "height": 203
        },
        "id": "hj29Xktd3BPE",
        "outputId": "599e72a4-8eda-41f6-ea5d-f0692838a842"
      },
      "source": [
        "test.head()"
      ],
      "execution_count": null,
      "outputs": [
        {
          "output_type": "execute_result",
          "data": {
            "text/html": [
              "<div>\n",
              "<style scoped>\n",
              "    .dataframe tbody tr th:only-of-type {\n",
              "        vertical-align: middle;\n",
              "    }\n",
              "\n",
              "    .dataframe tbody tr th {\n",
              "        vertical-align: top;\n",
              "    }\n",
              "\n",
              "    .dataframe thead th {\n",
              "        text-align: right;\n",
              "    }\n",
              "</style>\n",
              "<table border=\"1\" class=\"dataframe\">\n",
              "  <thead>\n",
              "    <tr style=\"text-align: right;\">\n",
              "      <th></th>\n",
              "      <th>text</th>\n",
              "      <th>label</th>\n",
              "      <th>username</th>\n",
              "      <th>likes</th>\n",
              "      <th>datetime</th>\n",
              "    </tr>\n",
              "  </thead>\n",
              "  <tbody>\n",
              "    <tr>\n",
              "      <th>4387</th>\n",
              "      <td>kapan mulai vaksin massal... cara cek dapet va...</td>\n",
              "      <td>neutral</td>\n",
              "      <td>hendy.lim.7564</td>\n",
              "      <td>1</td>\n",
              "      <td>2021-01-26</td>\n",
              "    </tr>\n",
              "    <tr>\n",
              "      <th>320</th>\n",
              "      <td>@nandhito.zero baik kak ,coba ini tak coba ula...</td>\n",
              "      <td>positive</td>\n",
              "      <td>rulianina</td>\n",
              "      <td>0</td>\n",
              "      <td>2021-06-23</td>\n",
              "    </tr>\n",
              "    <tr>\n",
              "      <th>892</th>\n",
              "      <td>kok tugu 4 ya? lah di graha padma aja dah 27 o...</td>\n",
              "      <td>negative</td>\n",
              "      <td>catur_a.k.a_arien</td>\n",
              "      <td>0</td>\n",
              "      <td>2021-06-17</td>\n",
              "    </tr>\n",
              "    <tr>\n",
              "      <th>9578</th>\n",
              "      <td>Terimakasih min infonya, berharap tiap hari bi...</td>\n",
              "      <td>positive</td>\n",
              "      <td>fitriinh14</td>\n",
              "      <td>0</td>\n",
              "      <td>2020-06-05</td>\n",
              "    </tr>\n",
              "    <tr>\n",
              "      <th>6450</th>\n",
              "      <td>Ayo Turun lg ......</td>\n",
              "      <td>positive</td>\n",
              "      <td>hadi_soeparno</td>\n",
              "      <td>0</td>\n",
              "      <td>2020-09-30</td>\n",
              "    </tr>\n",
              "  </tbody>\n",
              "</table>\n",
              "</div>"
            ],
            "text/plain": [
              "                                                   text  ...    datetime\n",
              "4387  kapan mulai vaksin massal... cara cek dapet va...  ...  2021-01-26\n",
              "320   @nandhito.zero baik kak ,coba ini tak coba ula...  ...  2021-06-23\n",
              "892   kok tugu 4 ya? lah di graha padma aja dah 27 o...  ...  2021-06-17\n",
              "9578  Terimakasih min infonya, berharap tiap hari bi...  ...  2020-06-05\n",
              "6450                                Ayo Turun lg ......  ...  2020-09-30\n",
              "\n",
              "[5 rows x 5 columns]"
            ]
          },
          "metadata": {},
          "execution_count": 60
        }
      ]
    },
    {
      "cell_type": "code",
      "metadata": {
        "id": "W5hO1Hm93owU"
      },
      "source": [
        ""
      ],
      "execution_count": null,
      "outputs": []
    },
    {
      "cell_type": "markdown",
      "metadata": {
        "id": "j1uVPt2m3pIC"
      },
      "source": [
        "# Export"
      ]
    },
    {
      "cell_type": "code",
      "metadata": {
        "id": "jabney4t3fZB"
      },
      "source": [
        "data.to_csv('data_complete.csv', index=False)\n",
        "train.to_csv('train.csv', index=False)\n",
        "test.to_csv('test.csv', index=False)"
      ],
      "execution_count": null,
      "outputs": []
    },
    {
      "cell_type": "code",
      "metadata": {
        "id": "gsLaBXwQ3x14"
      },
      "source": [
        ""
      ],
      "execution_count": null,
      "outputs": []
    }
  ]
}